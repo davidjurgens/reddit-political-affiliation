{
 "cells": [
  {
   "cell_type": "code",
   "execution_count": 1,
   "metadata": {},
   "outputs": [],
   "source": [
    "import json\n",
    "import gzip\n",
    "import bz2\n",
    "import lzma\n",
    "import glob\n",
    "from os.path import basename\n",
    "from  collections import *\n",
    "from tqdm.notebook import tqdm\n",
    "import ast\n",
    "import networkx as nx\n",
    "import random\n",
    "import pickle\n",
    "from collections import Counter"
   ]
  },
  {
   "cell_type": "markdown",
   "metadata": {},
   "source": [
    "# Construct the weighted bipartite graph from user to subreddit"
   ]
  },
  {
   "cell_type": "markdown",
   "metadata": {},
   "source": [
    "### Filter Out Small Subreddits"
   ]
  },
  {
   "cell_type": "code",
   "execution_count": 4,
   "metadata": {},
   "outputs": [
    {
     "name": "stdout",
     "output_type": "stream",
     "text": [
      "# of subreddits: 1668578\n",
      "# of subreddits with 500+ submissions: 35927\n"
     ]
    }
   ],
   "source": [
    "# Get total submissions by subreddit\n",
    "files = glob.glob('/shared/0/projects/reddit-political-affiliation/data/bipartite-networks/2018*.tsv')\n",
    "sub_frequencies = Counter()\n",
    "\n",
    "for fname in tqdm(files, desc='Processing all files'):\n",
    "    with open(fname, 'rt') as f:\n",
    "        lines = f.readlines()\n",
    "\n",
    "    for line in tqdm(lines, position=1, desc='Build graph from file'):\n",
    "        user, subreddit, freq = line[:-1].split('\\t')\n",
    "        subreddit = 'r/' + subreddit\n",
    "        sub_frequencies[subreddit] += int(freq)\n",
    "    \n",
    "    \n",
    "# Filter to subreddits with more than 500\n",
    "min_sub_threshold = 500\n",
    "filtered_subreddits = {sub: count for sub, count in sub_frequencies.items() if count >= min_sub_threshold}\n",
    "print(\"# of subreddits: \" + str(len(sub_frequencies)))\n",
    "print(\"# of subreddits with 500+ submissions: \" + str(len(filtered_subreddits)))\n",
    "\n",
    "with open('/shared/0/projects/reddit-political-affiliation/data/2018_filtered_subs.tav', 'w') as f:\n",
    "    for s, c in filtered_subreddits.items():\n",
    "        f.write('%s\\t%d\\n' % (s, c))"
   ]
  },
  {
   "cell_type": "markdown",
   "metadata": {},
   "source": [
    "### Build the graph"
   ]
  },
  {
   "cell_type": "code",
   "execution_count": 8,
   "metadata": {
    "scrolled": true
   },
   "outputs": [],
   "source": [
    "files = glob.glob('/shared/0/projects/reddit-political-affiliation/data/bipartite-networks/2018*.tsv')\n",
    "\n",
    "g = nx.Graph()\n",
    "users = set()\n",
    "subreddits = set()\n",
    "\n",
    "for fname in tqdm(files, desc='Processing all files'):\n",
    "    with open(fname, 'rt') as f:\n",
    "        lines = f.readlines()\n",
    "\n",
    "    for line in tqdm(lines, position=1, desc='Build graph from file'):\n",
    "        user, subreddit, freq = line[:-1].split('\\t')\n",
    "        freq = int(freq)\n",
    "        \n",
    "        # distinguish users from subreddits\n",
    "        subreddit = 'r/' + subreddit\n",
    "\n",
    "        if subreddit in filtered_subreddits:\n",
    "            users.add(user)\n",
    "            subreddits.add(subreddit)\n",
    "\n",
    "            if not g.has_node(user):\n",
    "                g.add_node(user)\n",
    "            if not g.has_node(subreddit):\n",
    "                g.add_node(subreddit)\n",
    "\n",
    "            if g.has_edge(user, subreddit):\n",
    "                g[user][subreddit]['weight'] += freq\n",
    "            else:\n",
    "                g.add_edge(user, subreddit, weight=freq)\n",
    "\n",
    "all_nodes = users | subreddits\n",
    "\n",
    "\n",
    "def filter_single_edge_nodes(g):\n",
    "    out_degree = g.degree()\n",
    "    to_remove = [n for (n, deg) in g.degree() if deg == 1]\n",
    "    g.remove_nodes_from(to_remove)\n",
    "    return g\n",
    "\n",
    "\n",
    "g = filter_single_edge_nodes(g)"
   ]
  },
  {
   "cell_type": "markdown",
   "metadata": {},
   "source": [
    "### Store the graph for later use"
   ]
  },
  {
   "cell_type": "code",
   "execution_count": 11,
   "metadata": {},
   "outputs": [],
   "source": [
    "# Save the graph as an object instead of rebuilding it\n",
    "out_dir = '/shared/0/projects/reddit-political-affiliation/data/bipartite-networks/'\n",
    "\n",
    "with open(out_dir + '2018_graph_filtered.pickle', 'wb') as handle:\n",
    "    pickle.dump(g, handle, protocol=pickle.HIGHEST_PROTOCOL)"
   ]
  },
  {
   "cell_type": "code",
   "execution_count": 10,
   "metadata": {},
   "outputs": [],
   "source": [
    "# Load in previously generated graph\n",
    "input_file = '/shared/0/projects/reddit-political-affiliation/data/bipartite-networks/2018_graph_filtered.pickle'\n",
    "\n",
    "with open(input_file, 'rb') as handle:\n",
    "    g = pickle.load(handle)"
   ]
  },
  {
   "cell_type": "markdown",
   "metadata": {},
   "source": [
    "# Load in the users flair-based labels"
   ]
  },
  {
   "cell_type": "code",
   "execution_count": 12,
   "metadata": {},
   "outputs": [
    {
     "data": {
      "application/vnd.jupyter.widget-view+json": {
       "model_id": "2903223d63d54e578d4dbb14c905b23b",
       "version_major": 2,
       "version_minor": 0
      },
      "text/plain": [
       "HBox(children=(FloatProgress(value=0.0, max=164.0), HTML(value='')))"
      ]
     },
     "metadata": {},
     "output_type": "display_data"
    },
    {
     "name": "stdout",
     "output_type": "stream",
     "text": [
      "\n"
     ]
    },
    {
     "ename": "TypeError",
     "evalue": "can only concatenate str (not \"int\") to str",
     "output_type": "error",
     "traceback": [
      "\u001b[0;31m---------------------------------------------------------------------------\u001b[0m",
      "\u001b[0;31mTypeError\u001b[0m                                 Traceback (most recent call last)",
      "\u001b[0;32m<ipython-input-12-e35d4a7542a5>\u001b[0m in \u001b[0;36m<module>\u001b[0;34m\u001b[0m\n\u001b[1;32m      9\u001b[0m             \u001b[0muser_to_politic_counts\u001b[0m\u001b[0;34m[\u001b[0m\u001b[0muser\u001b[0m\u001b[0;34m]\u001b[0m\u001b[0;34m[\u001b[0m\u001b[0mpolitics\u001b[0m\u001b[0;34m]\u001b[0m \u001b[0;34m+=\u001b[0m \u001b[0mint\u001b[0m\u001b[0;34m(\u001b[0m\u001b[0mfreq\u001b[0m\u001b[0;34m)\u001b[0m\u001b[0;34m\u001b[0m\u001b[0;34m\u001b[0m\u001b[0m\n\u001b[1;32m     10\u001b[0m \u001b[0;34m\u001b[0m\u001b[0m\n\u001b[0;32m---> 11\u001b[0;31m \u001b[0mprint\u001b[0m\u001b[0;34m(\u001b[0m\u001b[0;34m\"User to politic counts: \"\u001b[0m \u001b[0;34m+\u001b[0m \u001b[0mlen\u001b[0m\u001b[0;34m(\u001b[0m\u001b[0muser_to_politic_counts\u001b[0m\u001b[0;34m)\u001b[0m\u001b[0;34m)\u001b[0m\u001b[0;34m\u001b[0m\u001b[0;34m\u001b[0m\u001b[0m\n\u001b[0m\u001b[1;32m     12\u001b[0m \u001b[0mprint\u001b[0m\u001b[0;34m(\u001b[0m\u001b[0mlist\u001b[0m\u001b[0;34m(\u001b[0m\u001b[0muser_to_politic_counts\u001b[0m\u001b[0;34m.\u001b[0m\u001b[0mitems\u001b[0m\u001b[0;34m(\u001b[0m\u001b[0;34m)\u001b[0m\u001b[0;34m)\u001b[0m\u001b[0;34m[\u001b[0m\u001b[0;34m:\u001b[0m\u001b[0;36m10\u001b[0m\u001b[0;34m]\u001b[0m\u001b[0;34m)\u001b[0m\u001b[0;34m\u001b[0m\u001b[0;34m\u001b[0m\u001b[0m\n",
      "\u001b[0;31mTypeError\u001b[0m: can only concatenate str (not \"int\") to str"
     ]
    }
   ],
   "source": [
    "files = glob.glob('/shared/0/projects/reddit-political-affiliation/data/flair-affiliations/20*.tsv')\n",
    "\n",
    "user_to_politic_counts = defaultdict(Counter)\n",
    "\n",
    "for fname in tqdm(files):\n",
    "    with open(fname, 'rt') as f:\n",
    "        for line in f:\n",
    "            user, politics, freq = line.split('\\t')\n",
    "            user_to_politic_counts[user][politics] += int(freq)\n",
    "            \n",
    "print(\"User to politic counts: \" + len(user_to_politic_counts))\n",
    "print(list(user_to_politic_counts.items())[:10])"
   ]
  },
  {
   "cell_type": "markdown",
   "metadata": {},
   "source": [
    "# Canonicalize each user to a single affiliation; toss out those with more than one"
   ]
  },
  {
   "cell_type": "code",
   "execution_count": 13,
   "metadata": {},
   "outputs": [
    {
     "name": "stdout",
     "output_type": "stream",
     "text": [
      "Saw political affiliations for 7775 users\n"
     ]
    }
   ],
   "source": [
    "user_to_politics = {}\n",
    "for u, pc in user_to_politic_counts.items():\n",
    "    if len(pc) > 1:\n",
    "        continue\n",
    "    user_to_politics[u] = list(pc.keys())[0]\n",
    "print('Saw political affiliations for %d users' % len(user_to_politics))"
   ]
  },
  {
   "cell_type": "markdown",
   "metadata": {},
   "source": [
    "# Split in to test/train sets"
   ]
  },
  {
   "cell_type": "code",
   "execution_count": 14,
   "metadata": {},
   "outputs": [
    {
     "name": "stdout",
     "output_type": "stream",
     "text": [
      "6997 778\n"
     ]
    }
   ],
   "source": [
    "all_identified_users = list(user_to_politics.keys())\n",
    "random.seed(42)\n",
    "random.shuffle(all_identified_users)\n",
    "\n",
    "train_users = all_identified_users[:int(0.9*len(all_identified_users))]\n",
    "test_users = all_identified_users[int(0.9*len(all_identified_users)):]\n",
    "print(len(train_users), len(test_users))"
   ]
  },
  {
   "cell_type": "markdown",
   "metadata": {},
   "source": [
    "# Train personalized page rank for both parties"
   ]
  },
  {
   "cell_type": "code",
   "execution_count": 15,
   "metadata": {},
   "outputs": [
    {
     "name": "stdout",
     "output_type": "stream",
     "text": [
      "5018 1979\n"
     ]
    }
   ],
   "source": [
    "rep_users = set([k for k in train_users if user_to_politics[k] == 'Republican'])\n",
    "dem_users = set([k for k in train_users if user_to_politics[k] == 'Democrat'])\n",
    "\n",
    "print(len(rep_users), len(dem_users))"
   ]
  },
  {
   "cell_type": "code",
   "execution_count": 8,
   "metadata": {},
   "outputs": [
    {
     "data": {
      "application/vnd.jupyter.widget-view+json": {
       "model_id": "0ac0ad51d05c46c5a5e7bc414336fd0e",
       "version_major": 2,
       "version_minor": 0
      },
      "text/plain": [
       "HBox(children=(FloatProgress(value=0.0, max=19827115.0), HTML(value='')))"
      ]
     },
     "metadata": {},
     "output_type": "display_data"
    },
    {
     "name": "stdout",
     "output_type": "stream",
     "text": [
      "\n"
     ]
    }
   ],
   "source": [
    "n = g.number_of_nodes()\n",
    "rep_personalization = {}\n",
    "\n",
    "for n in tqdm(g.nodes, total=n):\n",
    "    if n in rep_users:\n",
    "        rep_personalization[n] = 1\n",
    "    else:\n",
    "        rep_personalization[n] = 0.00001"
   ]
  },
  {
   "cell_type": "code",
   "execution_count": 8,
   "metadata": {},
   "outputs": [
    {
     "data": {
      "application/vnd.jupyter.widget-view+json": {
       "model_id": "27783b6ec1ee4c30b5ce4e30904f0347",
       "version_major": 2,
       "version_minor": 0
      },
      "text/plain": [
       "HBox(children=(FloatProgress(value=0.0, max=19827115.0), HTML(value='')))"
      ]
     },
     "metadata": {},
     "output_type": "display_data"
    },
    {
     "name": "stdout",
     "output_type": "stream",
     "text": [
      "\n"
     ]
    }
   ],
   "source": [
    "n = g.number_of_nodes()\n",
    "dem_personalization = {}\n",
    "\n",
    "for n in tqdm(g.nodes, total=n):\n",
    "    if n in dem_users:\n",
    "        dem_personalization[n] = 1\n",
    "    else:\n",
    "        dem_personalization[n] = 0.00001"
   ]
  },
  {
   "cell_type": "code",
   "execution_count": null,
   "metadata": {},
   "outputs": [],
   "source": [
    "rep_ppr = nx.pagerank(g, personalization=rep_personalization)\n",
    "out_dir = '/shared/0/projects/reddit-political-affiliation/data/flair-affiliations/'\n",
    "\n",
    "with open(out_dir + 'rep_ppr_2018.pickle', 'wb') as handle:\n",
    "    pickle.dump(rep_ppr, handle, protocol=pickle.HIGHEST_PROTOCOL)"
   ]
  },
  {
   "cell_type": "code",
   "execution_count": 10,
   "metadata": {},
   "outputs": [],
   "source": [
    "dem_ppr = nx.pagerank(g, personalization=dem_personalization)\n",
    "out_dir = '/shared/0/projects/reddit-political-affiliation/data/flair-affiliations/'\n",
    "\n",
    "with open(out_dir + 'dem_ppr_2018.pickle', 'wb') as handle:\n",
    "    pickle.dump(dem_ppr, handle, protocol=pickle.HIGHEST_PROTOCOL)"
   ]
  },
  {
   "cell_type": "code",
   "execution_count": null,
   "metadata": {},
   "outputs": [],
   "source": [
    "import itertools\n",
    "import pickle\n",
    "\n",
    "sorted_dem_ppr = {k: v for k, v in sorted(dem_ppr.items(), key=lambda item: item[1], reverse=True)}\n",
    "sorted_rep_ppr = {k: v for k, v in sorted(rep_ppr.items(), key=lambda item: item[1], reverse=True)}"
   ]
  },
  {
   "cell_type": "code",
   "execution_count": null,
   "metadata": {},
   "outputs": [],
   "source": [
    "top_dem = dict(itertools.islice(sorted_dem_ppr.items(), 25))\n",
    "top_rep = dict(itertools.islice(sorted_rep_ppr.items(), 25))\n",
    "\n",
    "print(\"Top 25 DEM PPR\")\n",
    "print(top_dem)\n",
    "print(\"Top 25 REP PPR\")\n",
    "print(top_rep)\n",
    "\n",
    "# Save the PPR's to a file so I don't have to recompute later\n",
    "out_dir = '/shared/0/projects/reddit-political-affiliation/data/flair-affiliations/'\n",
    "with open(out_dir + 'rep_ppr_2015.pickle', 'wb') as handle:\n",
    "    pickle.dump(sorted_rep_ppr, handle, protocol=pickle.HIGHEST_PROTOCOL)\n",
    "    \n",
    "with open(out_dir + 'dem_ppr_2015.pickle', 'wb') as handle:\n",
    "    pickle.dump(sorted_dem_ppr, handle, protocol=pickle.HIGHEST_PROTOCOL)"
   ]
  },
  {
   "cell_type": "code",
   "execution_count": 16,
   "metadata": {},
   "outputs": [
    {
     "name": "stdout",
     "output_type": "stream",
     "text": [
      "/shared/0/projects/reddit-political-affiliation/data/flair-affiliations/\n"
     ]
    }
   ],
   "source": [
    "# Load the PPRs back in\n",
    "\n",
    "out_dir = '/shared/0/projects/reddit-political-affiliation/data/flair-affiliations/'\n",
    "with open(out_dir + 'dem_ppr_2018.pickle', 'rb') as handle:\n",
    "    dem_ppr = pickle.load(handle)\n",
    "    \n",
    "print(out_dir)\n",
    "with open(out_dir + 'rep_ppr_2018.pickle', 'rb') as handle:\n",
    "    rep_ppr = pickle.load(handle)"
   ]
  },
  {
   "cell_type": "markdown",
   "metadata": {},
   "source": [
    "# Null Model\n",
    "\n",
    "1. Randomly select the same number of users\n",
    "2. Compute PPR\n",
    "3. Repeat ~30 times to get an estimate of the mean/standard-deviation\n",
    "4. Calculate the z-score using the actual PPR and the estimated mean/stddev\n",
    "\n",
    "Note - If there are k republican users, just pick k random users, e.g. random.sample(all_users, k) and use those as the “seed” users in the PPR"
   ]
  },
  {
   "cell_type": "markdown",
   "metadata": {},
   "source": [
    "# Score Distributions\n",
    "\n",
    "### Read in the null models"
   ]
  },
  {
   "cell_type": "code",
   "execution_count": 17,
   "metadata": {
    "scrolled": true
   },
   "outputs": [
    {
     "data": {
      "application/vnd.jupyter.widget-view+json": {
       "model_id": "d69603d94d274a298a568e47446514a5",
       "version_major": 2,
       "version_minor": 0
      },
      "text/plain": [
       "HBox(children=(FloatProgress(value=0.0, description='Processing all files', max=25.0, style=ProgressStyle(desc…"
      ]
     },
     "metadata": {},
     "output_type": "display_data"
    },
    {
     "data": {
      "application/vnd.jupyter.widget-view+json": {
       "model_id": "b46f74bec4974a9f866b17f40aac1f25",
       "version_major": 2,
       "version_minor": 0
      },
      "text/plain": [
       "HBox(children=(FloatProgress(value=0.0, description='Reading user scores in from file', max=19827115.0, style=…"
      ]
     },
     "metadata": {},
     "output_type": "display_data"
    },
    {
     "name": "stdout",
     "output_type": "stream",
     "text": [
      "\n"
     ]
    },
    {
     "data": {
      "application/vnd.jupyter.widget-view+json": {
       "model_id": "cc62075834d1432189c67a5f861f5296",
       "version_major": 2,
       "version_minor": 0
      },
      "text/plain": [
       "HBox(children=(FloatProgress(value=0.0, description='Reading user scores in from file', max=19827115.0, style=…"
      ]
     },
     "metadata": {},
     "output_type": "display_data"
    },
    {
     "name": "stdout",
     "output_type": "stream",
     "text": [
      "\n"
     ]
    },
    {
     "data": {
      "application/vnd.jupyter.widget-view+json": {
       "model_id": "99ccd86b594e4641b471c1e316dcf2a3",
       "version_major": 2,
       "version_minor": 0
      },
      "text/plain": [
       "HBox(children=(FloatProgress(value=0.0, description='Reading user scores in from file', max=19827115.0, style=…"
      ]
     },
     "metadata": {},
     "output_type": "display_data"
    },
    {
     "name": "stdout",
     "output_type": "stream",
     "text": [
      "\n"
     ]
    },
    {
     "data": {
      "application/vnd.jupyter.widget-view+json": {
       "model_id": "e267e9d3937a47f19be3a91ad7c8efef",
       "version_major": 2,
       "version_minor": 0
      },
      "text/plain": [
       "HBox(children=(FloatProgress(value=0.0, description='Reading user scores in from file', max=19827115.0, style=…"
      ]
     },
     "metadata": {},
     "output_type": "display_data"
    },
    {
     "name": "stdout",
     "output_type": "stream",
     "text": [
      "\n"
     ]
    },
    {
     "data": {
      "application/vnd.jupyter.widget-view+json": {
       "model_id": "3e197b3b27894df0b72b719d80cc3852",
       "version_major": 2,
       "version_minor": 0
      },
      "text/plain": [
       "HBox(children=(FloatProgress(value=0.0, description='Reading user scores in from file', max=19827115.0, style=…"
      ]
     },
     "metadata": {},
     "output_type": "display_data"
    },
    {
     "name": "stdout",
     "output_type": "stream",
     "text": [
      "\n"
     ]
    },
    {
     "data": {
      "application/vnd.jupyter.widget-view+json": {
       "model_id": "49e1c31d274e466fa0070af7a92705fd",
       "version_major": 2,
       "version_minor": 0
      },
      "text/plain": [
       "HBox(children=(FloatProgress(value=0.0, description='Reading user scores in from file', max=19827115.0, style=…"
      ]
     },
     "metadata": {},
     "output_type": "display_data"
    },
    {
     "name": "stdout",
     "output_type": "stream",
     "text": [
      "\n"
     ]
    },
    {
     "data": {
      "application/vnd.jupyter.widget-view+json": {
       "model_id": "5113c312cb8647cb911369952003d9ce",
       "version_major": 2,
       "version_minor": 0
      },
      "text/plain": [
       "HBox(children=(FloatProgress(value=0.0, description='Reading user scores in from file', max=19827115.0, style=…"
      ]
     },
     "metadata": {},
     "output_type": "display_data"
    },
    {
     "name": "stdout",
     "output_type": "stream",
     "text": [
      "\n"
     ]
    },
    {
     "data": {
      "application/vnd.jupyter.widget-view+json": {
       "model_id": "7c26d068ca054e3fa6805975dfeb391d",
       "version_major": 2,
       "version_minor": 0
      },
      "text/plain": [
       "HBox(children=(FloatProgress(value=0.0, description='Reading user scores in from file', max=19827115.0, style=…"
      ]
     },
     "metadata": {},
     "output_type": "display_data"
    },
    {
     "name": "stdout",
     "output_type": "stream",
     "text": [
      "\n"
     ]
    },
    {
     "data": {
      "application/vnd.jupyter.widget-view+json": {
       "model_id": "d6ce6f7dfb4d4b8d93cadf92d31831ef",
       "version_major": 2,
       "version_minor": 0
      },
      "text/plain": [
       "HBox(children=(FloatProgress(value=0.0, description='Reading user scores in from file', max=19827115.0, style=…"
      ]
     },
     "metadata": {},
     "output_type": "display_data"
    },
    {
     "name": "stdout",
     "output_type": "stream",
     "text": [
      "\n"
     ]
    },
    {
     "data": {
      "application/vnd.jupyter.widget-view+json": {
       "model_id": "64ad150eb09a462b8a27ffcea6317339",
       "version_major": 2,
       "version_minor": 0
      },
      "text/plain": [
       "HBox(children=(FloatProgress(value=0.0, description='Reading user scores in from file', max=19827115.0, style=…"
      ]
     },
     "metadata": {},
     "output_type": "display_data"
    },
    {
     "name": "stdout",
     "output_type": "stream",
     "text": [
      "\n"
     ]
    },
    {
     "data": {
      "application/vnd.jupyter.widget-view+json": {
       "model_id": "5d1132e8da0f44c3a4802a94b92574cb",
       "version_major": 2,
       "version_minor": 0
      },
      "text/plain": [
       "HBox(children=(FloatProgress(value=0.0, description='Reading user scores in from file', max=19827115.0, style=…"
      ]
     },
     "metadata": {},
     "output_type": "display_data"
    },
    {
     "name": "stdout",
     "output_type": "stream",
     "text": [
      "\n"
     ]
    },
    {
     "data": {
      "application/vnd.jupyter.widget-view+json": {
       "model_id": "ff563a0bc4f14eb4b25410dc054fee1c",
       "version_major": 2,
       "version_minor": 0
      },
      "text/plain": [
       "HBox(children=(FloatProgress(value=0.0, description='Reading user scores in from file', max=19827115.0, style=…"
      ]
     },
     "metadata": {},
     "output_type": "display_data"
    },
    {
     "name": "stdout",
     "output_type": "stream",
     "text": [
      "\n"
     ]
    },
    {
     "data": {
      "application/vnd.jupyter.widget-view+json": {
       "model_id": "211f23a851bd4d51940946a0279cf939",
       "version_major": 2,
       "version_minor": 0
      },
      "text/plain": [
       "HBox(children=(FloatProgress(value=0.0, description='Reading user scores in from file', max=19827115.0, style=…"
      ]
     },
     "metadata": {},
     "output_type": "display_data"
    },
    {
     "name": "stdout",
     "output_type": "stream",
     "text": [
      "\n"
     ]
    },
    {
     "data": {
      "application/vnd.jupyter.widget-view+json": {
       "model_id": "ecd6508dcecb4babbfb61901f05a78cf",
       "version_major": 2,
       "version_minor": 0
      },
      "text/plain": [
       "HBox(children=(FloatProgress(value=0.0, description='Reading user scores in from file', max=19827115.0, style=…"
      ]
     },
     "metadata": {},
     "output_type": "display_data"
    },
    {
     "name": "stdout",
     "output_type": "stream",
     "text": [
      "\n"
     ]
    },
    {
     "data": {
      "application/vnd.jupyter.widget-view+json": {
       "model_id": "8e5cfa01a75942b1b2e2998e41eed007",
       "version_major": 2,
       "version_minor": 0
      },
      "text/plain": [
       "HBox(children=(FloatProgress(value=0.0, description='Reading user scores in from file', max=19827115.0, style=…"
      ]
     },
     "metadata": {},
     "output_type": "display_data"
    },
    {
     "name": "stdout",
     "output_type": "stream",
     "text": [
      "\n"
     ]
    },
    {
     "data": {
      "application/vnd.jupyter.widget-view+json": {
       "model_id": "03efc46e649a4114aa5cfc55e6f96fee",
       "version_major": 2,
       "version_minor": 0
      },
      "text/plain": [
       "HBox(children=(FloatProgress(value=0.0, description='Reading user scores in from file', max=19827115.0, style=…"
      ]
     },
     "metadata": {},
     "output_type": "display_data"
    },
    {
     "name": "stdout",
     "output_type": "stream",
     "text": [
      "\n"
     ]
    },
    {
     "data": {
      "application/vnd.jupyter.widget-view+json": {
       "model_id": "dc54a1cf74a44041bbede447b66b7fbe",
       "version_major": 2,
       "version_minor": 0
      },
      "text/plain": [
       "HBox(children=(FloatProgress(value=0.0, description='Reading user scores in from file', max=19827115.0, style=…"
      ]
     },
     "metadata": {},
     "output_type": "display_data"
    },
    {
     "name": "stdout",
     "output_type": "stream",
     "text": [
      "\n"
     ]
    },
    {
     "data": {
      "application/vnd.jupyter.widget-view+json": {
       "model_id": "3883cbc9ed4545cba0cd2ff4dc455f65",
       "version_major": 2,
       "version_minor": 0
      },
      "text/plain": [
       "HBox(children=(FloatProgress(value=0.0, description='Reading user scores in from file', max=19827115.0, style=…"
      ]
     },
     "metadata": {},
     "output_type": "display_data"
    },
    {
     "name": "stdout",
     "output_type": "stream",
     "text": [
      "\n"
     ]
    },
    {
     "data": {
      "application/vnd.jupyter.widget-view+json": {
       "model_id": "0b530cef17854587b80ee063c4d0b1ef",
       "version_major": 2,
       "version_minor": 0
      },
      "text/plain": [
       "HBox(children=(FloatProgress(value=0.0, description='Reading user scores in from file', max=19827115.0, style=…"
      ]
     },
     "metadata": {},
     "output_type": "display_data"
    },
    {
     "name": "stdout",
     "output_type": "stream",
     "text": [
      "\n"
     ]
    },
    {
     "data": {
      "application/vnd.jupyter.widget-view+json": {
       "model_id": "9bcafc6278f34a2985cb5daf1afac914",
       "version_major": 2,
       "version_minor": 0
      },
      "text/plain": [
       "HBox(children=(FloatProgress(value=0.0, description='Reading user scores in from file', max=19827115.0, style=…"
      ]
     },
     "metadata": {},
     "output_type": "display_data"
    },
    {
     "name": "stdout",
     "output_type": "stream",
     "text": [
      "\n"
     ]
    },
    {
     "data": {
      "application/vnd.jupyter.widget-view+json": {
       "model_id": "95d8b0b7ed6e41499ec2468ecc93d850",
       "version_major": 2,
       "version_minor": 0
      },
      "text/plain": [
       "HBox(children=(FloatProgress(value=0.0, description='Reading user scores in from file', max=19827115.0, style=…"
      ]
     },
     "metadata": {},
     "output_type": "display_data"
    },
    {
     "name": "stdout",
     "output_type": "stream",
     "text": [
      "\n"
     ]
    },
    {
     "data": {
      "application/vnd.jupyter.widget-view+json": {
       "model_id": "efaad14a848447c8996176443547b48f",
       "version_major": 2,
       "version_minor": 0
      },
      "text/plain": [
       "HBox(children=(FloatProgress(value=0.0, description='Reading user scores in from file', max=19827115.0, style=…"
      ]
     },
     "metadata": {},
     "output_type": "display_data"
    },
    {
     "name": "stdout",
     "output_type": "stream",
     "text": [
      "\n"
     ]
    },
    {
     "data": {
      "application/vnd.jupyter.widget-view+json": {
       "model_id": "8c69b891982f4a718dd7c65ebcb59b9a",
       "version_major": 2,
       "version_minor": 0
      },
      "text/plain": [
       "HBox(children=(FloatProgress(value=0.0, description='Reading user scores in from file', max=19827115.0, style=…"
      ]
     },
     "metadata": {},
     "output_type": "display_data"
    },
    {
     "name": "stdout",
     "output_type": "stream",
     "text": [
      "\n"
     ]
    },
    {
     "data": {
      "application/vnd.jupyter.widget-view+json": {
       "model_id": "089ab6c2e04a4120918310b4972f3ae5",
       "version_major": 2,
       "version_minor": 0
      },
      "text/plain": [
       "HBox(children=(FloatProgress(value=0.0, description='Reading user scores in from file', max=19827115.0, style=…"
      ]
     },
     "metadata": {},
     "output_type": "display_data"
    },
    {
     "name": "stdout",
     "output_type": "stream",
     "text": [
      "\n"
     ]
    },
    {
     "data": {
      "application/vnd.jupyter.widget-view+json": {
       "model_id": "1f14e90050b44ceab2e1b27473c1658b",
       "version_major": 2,
       "version_minor": 0
      },
      "text/plain": [
       "HBox(children=(FloatProgress(value=0.0, description='Reading user scores in from file', max=19827115.0, style=…"
      ]
     },
     "metadata": {},
     "output_type": "display_data"
    },
    {
     "name": "stdout",
     "output_type": "stream",
     "text": [
      "\n",
      "\n"
     ]
    }
   ],
   "source": [
    "# Read in all of the null models and store the results\n",
    "score_dist = defaultdict(list)\n",
    "directory = '/shared/0/projects/reddit-political-affiliation/data/ppr-scores/2018*.tsv'\n",
    "\n",
    "files = glob.glob(directory)\n",
    "\n",
    "for fname in tqdm(files, desc='Processing all files'):\n",
    "    with open(fname, 'rt') as f:\n",
    "        lines = f.readlines()\n",
    "\n",
    "    for line in tqdm(lines, position=1, desc='Reading user scores in from file'):\n",
    "        user, score = line[:-1].split('\\t')\n",
    "        score_dist[user].append(score)"
   ]
  },
  {
   "cell_type": "markdown",
   "metadata": {},
   "source": [
    "## Top Political Subreddits"
   ]
  },
  {
   "cell_type": "code",
   "execution_count": 27,
   "metadata": {
    "scrolled": true
   },
   "outputs": [],
   "source": [
    "import itertools\n",
    "import numpy as np\n",
    "import pandas as pd\n",
    "import seaborn as sns\n",
    "import matplotlib.pyplot as plt\n",
    "from scipy import stats\n",
    "\n",
    "# Find the top PPR score (avg) and plot a distribution as a sanity check\n",
    "print(\"Computing mean and variance for null models\")\n",
    "score_avg_dist = {}\n",
    "score_var = {}\n",
    "smoothing = 0.00000\n",
    "for user, scores in tqdm(score_dist.items(), desc='Processing null models'):\n",
    "    scores = np.array(scores, dtype=float)\n",
    "    score_avg_dist[user] = np.mean(scores)\n",
    "    score_var[user] = np.var(scores) + smoothing"
   ]
  },
  {
   "cell_type": "code",
   "execution_count": 28,
   "metadata": {},
   "outputs": [
    {
     "name": "stdout",
     "output_type": "stream",
     "text": [
      "Top DEM Scores (Normalized)\n",
      "{'r/RoyHodgson': 2.069480975300759e+41, 'r/Filter_Porn': 2.069480975300759e+41, 'r/LibtardsofReddit': 2.069480975300759e+41, 'r/UnderscoreTest': 2.069480975300759e+41, 'r/Ethernext': 2.069480975300759e+41, 'r/WriteTheElderly': 2.069480975300759e+41, 'r/BeePuncherAnon': 2.069480975300759e+41, 'r/HonestRating': 2.069480975300759e+41, 'r/wiizerdofwiierd': 2.069480975300759e+41, 'r/GamersAscent': 2.069480975300759e+41, 'r/TravisMartinTV': 2.069480975300759e+41, 'r/MainStreetMedia': 2.069480975300759e+41, 'r/Stoner_Girls': 2.069480975300759e+41, 'r/VALAR_M0RGHUL1S': 2.069480975300759e+41, 'r/ZistanceTestSub': 2.069480975300759e+41, 'r/Bloodwolf': 2.069480975300759e+41, 'r/OhLongJohnson': 2.069480975300759e+41, 'r/mgo3teams': 2.069480975300759e+41, 'r/DogsWithWheels': 2.069480975300759e+41, 'r/HiScoreGirl': 2.069480975300759e+41, 'r/6Respect': 2.069480975300759e+41, 'r/notfibular': 2.069480975300759e+41, 'r/shittynewsroom': 2.069480975300759e+41, 'r/workmanship': 2.069480975300759e+41, 'r/ukgoodnews': 2.069480975300759e+41, 'r/F1talk': 2.069480975300759e+41, 'r/UnofficialFallout74': 2.069480975300759e+41, 'r/PotatoQualityPics': 2.069480975300759e+41, 'r/420snacks': 2.069480975300759e+41, 'r/free_post': 2.069480975300759e+41, 'r/DisobeyEurope': 2.069480975300759e+41, 'r/onlycode': 2.069480975300759e+41, 'r/MatureLadyBoners': 2.069480975300759e+41, 'r/RocketLeagueSexChange': 2.069480975300759e+41, 'r/Sub_Club': 2.069480975300759e+41, 'r/FreeCodes': 2.069480975300759e+41, 'r/NewReligions': 2.069480975300759e+41, 'r/wholesomefacebook': 2.069480975300759e+41, 'r/danskgw': 2.069480975300759e+41, 'r/LostContentCreators': 2.069480975300759e+41, 'r/87DaysOfSummer': 2.069480975300759e+41, 'r/runing': 2.069480975300759e+41, 'r/nsfwcirclejerk': 2.069480975300759e+41, 'r/empiremud': 2.069480975300759e+41, 'r/ZenCosmicFlow': 2.069480975300759e+41, 'r/SurprisePenis': 2.069480975300759e+41, 'r/lulzcakes': 2.069480975300759e+41, 'r/Zuzahin': 2.069480975300759e+41, 'r/PlayTarkov': 2.069480975300759e+41, 'r/petrolia': 2.069480975300759e+41, 'r/Keds': 2.069480975300759e+41, 'r/jackim': 2.069480975300759e+41, 'r/All_nighter': 2.069480975300759e+41, 'r/liveanarchy': 2.069480975300759e+41, 'r/IcePoseidonClips': 2.069480975300759e+41, 'r/S4VG': 2.069480975300759e+41, 'r/AssetsForAll': 2.069480975300759e+41, 'r/muabattlestations': 2.069480975300759e+41, 'r/RockyHorrorRedditShow': 2.069480975300759e+41, 'r/BigBrotherism': 2.069480975300759e+41, 'r/EXCELHELP': 2.069480975300759e+41, 'r/TheNACL': 2.069480975300759e+41, 'r/gooch': 2.069480975300759e+41, 'r/Sormlandsleden': 2.069480975300759e+41, 'r/uchuukyoudaimanga': 2.069480975300759e+41, 'r/TwinStrangers': 2.069480975300759e+41, 'r/tallygamers': 2.069480975300759e+41, 'r/douglasdimmadome': 2.069480975300759e+41, 'r/BlackStarBattalion': 2.069480975300759e+41, 'r/SpoilSport': 2.069480975300759e+41, 'r/stromfeldgt': 2.069480975300759e+41, 'r/BattleRoyaleFilm': 2.069480975300759e+41, 'r/KyleFrom711': 2.069480975300759e+41, 'r/HouseYellowTest': 2.069480975300759e+41, 'r/antisocialgamers': 2.069480975300759e+41, 'r/MAILORDER': 2.069480975300759e+41, 'r/Oprahs_Mingie': 2.069480975300759e+41, 'r/AmericanProdo': 2.069480975300759e+41, 'r/CTrees': 2.069480975300759e+41, 'r/postyourpasswords': 2.069480975300759e+41, 'r/sexagon': 2.069480975300759e+41, 'r/ItalianGrandPrix': 2.069480975300759e+41, 'r/warofsin': 2.069480975300759e+41, 'r/dadjokereactions': 2.069480975300759e+41, 'r/Deunk': 2.069480975300759e+41, 'r/StarGardenSM': 2.069480975300759e+41, 'r/SpringZee': 2.069480975300759e+41, 'r/Zugzwang': 2.069480975300759e+41, 'r/SuffolkU': 2.069480975300759e+41, 'r/SecretRedditJournal': 2.069480975300759e+41, 'r/High_Ground': 2.069480975300759e+41, 'r/KahootHelpers': 2.069480975300759e+41, 'r/dota2vpgamebets': 2.069480975300759e+41, 'r/FacesofFallout': 2.069480975300759e+41, 'r/FWBMalaysia': 2.069480975300759e+41, 'r/0xOmega': 2.069480975300759e+41, 'r/ResumeBid': 2.069480975300759e+41, 'r/swedishfootball': 2.069480975300759e+41, 'r/KazWrites': 2.069480975300759e+41, 'r/DeBuurt': 2.069480975300759e+41}\n",
      "Top REP Scores (Normalized)\n",
      "{'r/timberwolves': 1.361129537544043e+41, 'r/announcements': 1.3611295373864107e+41, 'r/japan': 1.3611295369839883e+41, 'r/TalesFromRetail': 1.3611295368681458e+41, 'r/singing': 1.361129536867344e+41, 'r/raidsecrets': 1.3611295365946925e+41, 'r/DecidingToBeBetter': 1.361129536375705e+41, 'r/snakes': 1.3611295362690615e+41, 'r/Honda': 1.3611295361670024e+41, 'r/Forex': 1.3611295359232192e+41, 'r/gifsthatkeepongiving': 1.3611295358348053e+41, 'r/Hamilton': 1.361129535673885e+41, 'r/aznidentity': 1.3611295356715e+41, 'r/Buttcoin': 1.3611295353770104e+41, 'r/bakchodi': 1.361129534993871e+41, 'r/onions': 1.3611295346760992e+41, 'r/masseffect': 1.3611295342710903e+41, 'r/nonutnovember': 1.3611295329651936e+41, 'r/STD': 1.3611295328130995e+41, 'r/holdmycosmo': 1.361129532279828e+41, 'r/showerbeer': 1.361129532191162e+41, 'r/Breadit': 1.3611295321106764e+41, 'r/NSFW_Snapchat': 1.3611295319829688e+41, 'r/SwagBucks': 1.3611295318874283e+41, 'r/coolguides': 1.3611295318002394e+41, 'r/orlando': 1.3611295316859508e+41, 'r/DirtySnapChatPals': 1.3611295312133451e+41, 'r/SpoiledDragRace': 1.361129531129191e+41, 'r/texas': 1.3611295310116685e+41, 'r/HustleCastle': 1.3611295306661778e+41, 'r/Mustang': 1.3611295304004305e+41, 'r/aggies': 1.3611295303740154e+41, 'r/NSFWFunny': 1.3611295302320461e+41, 'r/AbsoluteUnits': 1.3611295302022543e+41, 'r/VictoriaBC': 1.3611295298731863e+41, 'r/USMC': 1.3611295284763232e+41, 'r/montreal': 1.361129528071002e+41, 'r/knives': 1.3611295278649243e+41, 'r/DenverBroncos': 1.3611295277953467e+41, 'r/BlueMidterm2018': 1.3611295277034476e+41, 'r/SugarBaby': 1.361129527117878e+41, 'r/mildlypenis': 1.3611295269996524e+41, 'r/socialism': 1.361129526997213e+41, 'r/yoga': 1.3611295268959676e+41, 'r/yorku': 1.3611295268548e+41, 'r/BeautyBoxes': 1.3611295268410044e+41, 'r/Addons4Kodi': 1.361129526783365e+41, 'r/UCDavis': 1.3611295265467437e+41, 'r/postmates': 1.361129525719024e+41, 'r/HVAC': 1.3611295255758602e+41, 'r/morbidquestions': 1.3611295249804842e+41, 'r/tattoo': 1.361129524331241e+41, 'r/torrentlinks': 1.361129524267442e+41, 'r/Seahawks': 1.3611295240736782e+41, 'r/CruciblePlaybook': 1.3611295240693942e+41, 'r/Autos': 1.3611295238649422e+41, 'r/Borderlands2': 1.3611295236299206e+41, 'r/XWingTMG': 1.3611295229016594e+41, 'r/InteriorDesign': 1.3611295227224723e+41, 'r/bassnectar': 1.3611295218039587e+41, 'r/Debate': 1.3611295217038697e+41, 'r/KHUx': 1.361129521672407e+41, 'r/DarkNetMarkets': 1.3611295216700025e+41, 'r/newjersey': 1.3611295212033179e+41, 'r/goodyearwelt': 1.361129521076184e+41, 'r/pussy': 1.3611295209031975e+41, 'r/AndroidQuestions': 1.3611295207118698e+41, 'r/altcoin': 1.3611295206709222e+41, 'r/askphilosophy': 1.3611295206229238e+41, 'r/FanTheories': 1.3611295202052972e+41, 'r/shittyrainbow6': 1.361129519560303e+41, 'r/ik_ihe': 1.361129519331867e+41, 'r/cycling': 1.3611295193079696e+41, 'r/G59': 1.3611295192974372e+41, 'r/LucidDreaming': 1.3611295192285937e+41, 'r/gainit': 1.361129519089755e+41, 'r/backpacking': 1.3611295182651931e+41, 'r/HomeNetworking': 1.3611295182521035e+41, 'r/SFr4r': 1.3611295181121209e+41, 'r/musictheory': 1.3611295179205324e+41, 'r/Feminism': 1.361129517860342e+41, 'r/SCP': 1.3611295175659117e+41, 'r/goddesses': 1.3611295171800193e+41, 'r/syriancivilwar': 1.3611295171263419e+41, 'r/R6STeams': 1.3611295163620994e+41, 'r/ableton': 1.3611295163542398e+41, 'r/UnearthedArcana': 1.36112951614526e+41, 'r/gamingsuggestions': 1.3611295160997907e+41, 'r/software': 1.3611295160944602e+41, 'r/Brunei': 1.361129516047316e+41, 'r/Starcitizen_trades': 1.3611295160355589e+41, 'r/sales': 1.3611295155721565e+41, 'r/Herpes': 1.3611295154674303e+41, 'r/Hunting': 1.36112951538774e+41, 'r/pregnant': 1.3611295153067727e+41, 'r/btd6': 1.3611295152750832e+41, 'r/cringepics': 1.3611295151091449e+41, 'r/slaythespire': 1.3611295149007804e+41, 'r/TittyDrop': 1.3611295146697626e+41, 'r/MtvChallenge': 1.3611295142287434e+41}\n"
     ]
    }
   ],
   "source": [
    "norm_dem_ppr, norm_rep_ppr = {}, {}\n",
    "sub_rep_ppr = {k: v for k, v in rep_ppr.items() if k[:2] == 'r/' and k[2:4] != 'u_'}\n",
    "sub_dem_ppr = {k: v for k, v in dem_ppr.items() if k[:2] == 'r/' and k[2:4] != 'u_'}\n",
    "\n",
    "for sub, score in tqdm(sub_dem_ppr.items(), desc='Processing democratic PPR scores'):\n",
    "    if score_var[sub] == 0:\n",
    "        continue\n",
    "    norm_dem_ppr[sub] = (score / score_avg_dist[sub]) / score_var[sub]\n",
    "    \n",
    "for sub, score in tqdm(sub_rep_ppr.items(), desc='Processing republican PPR scores'):\n",
    "    if score_var[sub] == 0:\n",
    "        continue\n",
    "    norm_rep_ppr[sub] = (score / score_avg_dist[sub]) / score_var[sub]\n",
    "    \n",
    "    \n",
    "print(\"Sorting lists to the top political subreddits\")\n",
    "sub_dem_ppr = {k: v for k, v in sorted(norm_dem_ppr.items(), key=lambda item: item[1], reverse=True)}\n",
    "sub_rep_ppr = {k: v for k, v in sorted(norm_rep_ppr.items(), key=lambda item: item[1], reverse=True)}\n",
    "\n",
    "top_dem = dict(itertools.islice(sub_dem_ppr.items(), 100))\n",
    "top_rep = dict(itertools.islice(sub_rep_ppr.items(), 100))\n",
    "\n",
    "print(\"Top DEM Subreddits\")\n",
    "print(top_dem)\n",
    "\n",
    "print(\"Top REP Subreddits\")\n",
    "print(top_rep)"
   ]
  },
  {
   "cell_type": "markdown",
   "metadata": {},
   "source": [
    "# Politicalness Score\n",
    "\n",
    "Sum the rep_ppr and dem_ppr for a user/subreddit and then normalize across all users and (separately) all subreddits to get a score of \"politicalness\". E.g., subreddits that have a higher score end up being visited more frequently by politically-active users\n",
    "\n",
    "Correct bias using null model"
   ]
  },
  {
   "cell_type": "code",
   "execution_count": 11,
   "metadata": {},
   "outputs": [
    {
     "name": "stdout",
     "output_type": "stream",
     "text": [
      "0.3459368045732271\n",
      "1.6540631955111813\n"
     ]
    }
   ],
   "source": [
    "# Separate user's and subreddits for this analysis\n",
    "users_rep_ppr = {k: v for k, v in rep_ppr.items() if k[:2] != 'r/'}\n",
    "users_dem_ppr = {k: v for k, v in dem_ppr.items() if k[:2] != 'r/'}\n",
    "\n",
    "sub_rep_ppr = {k: v for k, v in rep_ppr.items() if k[:2] == 'r/'}\n",
    "sub_dem_ppr = {k: v for k, v in dem_ppr.items() if k[:2] == 'r/'}\n",
    "\n",
    "users_total_ppr = sum(users_rep_ppr.values()) + sum(users_dem_ppr.values())\n",
    "subs_total_ppr = sum(sub_rep_ppr.values()) + sum(sub_dem_ppr.values())\n",
    "\n",
    "print(users_total_ppr)\n",
    "print(subs_total_ppr)"
   ]
  },
  {
   "cell_type": "markdown",
   "metadata": {},
   "source": [
    "# Predicting on the test set\n",
    "\n",
    "Test whether the \"political leaning\" score predicts the affiliations for the users in the `test_users` set by seeing which affiliation (from the PPR score) is larger."
   ]
  },
  {
   "cell_type": "code",
   "execution_count": null,
   "metadata": {},
   "outputs": [],
   "source": [
    "from sklearn.metrics import accuracy_score\n",
    "\n",
    "def get_prediction(user):\n",
    "    if user not in rep_ppr:\n",
    "        return \"Republican\"\n",
    "    score = rep_ppr[user] - dem_ppr[user]\n",
    "    if score > 0:\n",
    "        return \"Republican\"\n",
    "    else:\n",
    "        return \"Democrat\"\n",
    "    \n",
    "actual, predictions = [], []\n",
    "\n",
    "for user in test_users:\n",
    "    actual.append(user_to_politics[user])\n",
    "    predictions.append(get_prediction(user))\n",
    "    \n",
    "print(accuracy_score(actual, predictions))"
   ]
  }
 ],
 "metadata": {
  "kernelspec": {
   "display_name": "Python 3",
   "language": "python",
   "name": "python3"
  },
  "language_info": {
   "codemirror_mode": {
    "name": "ipython",
    "version": 3
   },
   "file_extension": ".py",
   "mimetype": "text/x-python",
   "name": "python",
   "nbconvert_exporter": "python",
   "pygments_lexer": "ipython3",
   "version": "3.7.4"
  }
 },
 "nbformat": 4,
 "nbformat_minor": 2
}
