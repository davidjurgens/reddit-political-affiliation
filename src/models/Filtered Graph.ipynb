{
 "cells": [
  {
   "cell_type": "code",
   "execution_count": 1,
   "metadata": {},
   "outputs": [
    {
     "name": "stderr",
     "output_type": "stream",
     "text": [
      "\n",
      "Bad key \"text.kerning_factor\" on line 4 in\n",
      "/opt/anaconda/lib/python3.6/site-packages/matplotlib/mpl-data/stylelib/_classic_test_patch.mplstyle.\n",
      "You probably need to get an updated matplotlibrc file from\n",
      "https://github.com/matplotlib/matplotlib/blob/v3.1.3/matplotlibrc.template\n",
      "or from the matplotlib source distribution\n"
     ]
    }
   ],
   "source": [
    "import json\n",
    "import gzip\n",
    "import bz2\n",
    "import lzma\n",
    "import glob\n",
    "from os.path import basename\n",
    "from collections import *\n",
    "from tqdm.notebook import tqdm\n",
    "import ast\n",
    "import networkx as nx\n",
    "import random\n",
    "import pickle\n",
    "from collections import Counter\n",
    "from matplotlib import pyplot as plt \n",
    "\n",
    "# SETTINGS\n",
    "year = '2019'"
   ]
  },
  {
   "cell_type": "markdown",
   "metadata": {},
   "source": [
    "# Clean up data for the graph"
   ]
  },
  {
   "cell_type": "markdown",
   "metadata": {},
   "source": [
    "### Grab known bot accounts"
   ]
  },
  {
   "cell_type": "code",
   "execution_count": 2,
   "metadata": {},
   "outputs": [
    {
     "name": "stdout",
     "output_type": "stream",
     "text": [
      "Known bots: 393\n"
     ]
    }
   ],
   "source": [
    "fname = '/shared/0/projects/prosocial/known-bots.tsv'\n",
    "bots = []\n",
    "\n",
    "with open(fname, 'rt') as f:\n",
    "    lines = f.readlines()\n",
    "    \n",
    "    for line in lines:\n",
    "        bots.append(line.split('\\t')[1])\n",
    "\n",
    "print(\"Known bots: %d\" % len(bots))"
   ]
  },
  {
   "cell_type": "markdown",
   "metadata": {},
   "source": [
    "### Top 10% of subreddits and users involved in 3+ subreddits"
   ]
  },
  {
   "cell_type": "code",
   "execution_count": null,
   "metadata": {
    "scrolled": true
   },
   "outputs": [
    {
     "data": {
      "application/vnd.jupyter.widget-view+json": {
       "model_id": "683d27e8b1e34c7ab35ed02beebbaa52",
       "version_major": 2,
       "version_minor": 0
      },
      "text/plain": [
       "HBox(children=(FloatProgress(value=0.0, description='Processing all files', max=26.0, style=ProgressStyle(desc…"
      ]
     },
     "metadata": {},
     "output_type": "display_data"
    },
    {
     "data": {
      "application/vnd.jupyter.widget-view+json": {
       "model_id": "10790be18a52447d8aa131d82817e982",
       "version_major": 2,
       "version_minor": 0
      },
      "text/plain": [
       "HBox(children=(FloatProgress(value=0.0, description='Counting subreddit and user frequency', max=30701171.0, s…"
      ]
     },
     "metadata": {},
     "output_type": "display_data"
    },
    {
     "name": "stdout",
     "output_type": "stream",
     "text": [
      "\n"
     ]
    },
    {
     "data": {
      "application/vnd.jupyter.widget-view+json": {
       "model_id": "dc6ee9cf162d49ac90df07697626e3d0",
       "version_major": 2,
       "version_minor": 0
      },
      "text/plain": [
       "HBox(children=(FloatProgress(value=0.0, description='Counting subreddit and user frequency', max=28107483.0, s…"
      ]
     },
     "metadata": {},
     "output_type": "display_data"
    },
    {
     "name": "stdout",
     "output_type": "stream",
     "text": [
      "\n"
     ]
    },
    {
     "data": {
      "application/vnd.jupyter.widget-view+json": {
       "model_id": "d8c2a8fc37834fc0aef4f4ddb560cfb1",
       "version_major": 2,
       "version_minor": 0
      },
      "text/plain": [
       "HBox(children=(FloatProgress(value=0.0, description='Counting subreddit and user frequency', max=99416.0, styl…"
      ]
     },
     "metadata": {},
     "output_type": "display_data"
    },
    {
     "name": "stdout",
     "output_type": "stream",
     "text": [
      "\n"
     ]
    },
    {
     "data": {
      "application/vnd.jupyter.widget-view+json": {
       "model_id": "6696d482734d4f69b0ded784c5e6f226",
       "version_major": 2,
       "version_minor": 0
      },
      "text/plain": [
       "HBox(children=(FloatProgress(value=0.0, description='Counting subreddit and user frequency', max=28249465.0, s…"
      ]
     },
     "metadata": {},
     "output_type": "display_data"
    },
    {
     "name": "stdout",
     "output_type": "stream",
     "text": [
      "\n"
     ]
    },
    {
     "data": {
      "application/vnd.jupyter.widget-view+json": {
       "model_id": "8aef4c14daf343dbb54515a6e27c5a0b",
       "version_major": 2,
       "version_minor": 0
      },
      "text/plain": [
       "HBox(children=(FloatProgress(value=0.0, description='Counting subreddit and user frequency', max=31026535.0, s…"
      ]
     },
     "metadata": {},
     "output_type": "display_data"
    },
    {
     "name": "stdout",
     "output_type": "stream",
     "text": [
      "\n"
     ]
    },
    {
     "data": {
      "application/vnd.jupyter.widget-view+json": {
       "model_id": "6323a6d9e2084404a9eb595395f5b54d",
       "version_major": 2,
       "version_minor": 0
      },
      "text/plain": [
       "HBox(children=(FloatProgress(value=0.0, description='Counting subreddit and user frequency', max=30972308.0, s…"
      ]
     },
     "metadata": {},
     "output_type": "display_data"
    },
    {
     "name": "stdout",
     "output_type": "stream",
     "text": [
      "\n"
     ]
    },
    {
     "data": {
      "application/vnd.jupyter.widget-view+json": {
       "model_id": "4c708928b4a7417298211b606332e92e",
       "version_major": 2,
       "version_minor": 0
      },
      "text/plain": [
       "HBox(children=(FloatProgress(value=0.0, description='Counting subreddit and user frequency', max=28479860.0, s…"
      ]
     },
     "metadata": {},
     "output_type": "display_data"
    },
    {
     "name": "stdout",
     "output_type": "stream",
     "text": [
      "\n"
     ]
    },
    {
     "data": {
      "application/vnd.jupyter.widget-view+json": {
       "model_id": "7b9e9059c22249b9bbce962dfb6cecbd",
       "version_major": 2,
       "version_minor": 0
      },
      "text/plain": [
       "HBox(children=(FloatProgress(value=0.0, description='Counting subreddit and user frequency', max=29645265.0, s…"
      ]
     },
     "metadata": {},
     "output_type": "display_data"
    },
    {
     "name": "stdout",
     "output_type": "stream",
     "text": [
      "\n"
     ]
    },
    {
     "data": {
      "application/vnd.jupyter.widget-view+json": {
       "model_id": "78bd2957ee35417fa4d96a3b17acde6c",
       "version_major": 2,
       "version_minor": 0
      },
      "text/plain": [
       "HBox(children=(FloatProgress(value=0.0, description='Counting subreddit and user frequency', max=27368767.0, s…"
      ]
     },
     "metadata": {},
     "output_type": "display_data"
    }
   ],
   "source": [
    "directory = '/shared/0/projects/reddit-political-affiliation/data/bipartite-networks/' + year + '*.tsv'\n",
    "files = glob.glob(directory)\n",
    "\n",
    "subreddit_submissions = Counter()\n",
    "user_subreddits = defaultdict(set)\n",
    "user_post_totals = Counter()\n",
    "\n",
    "for fname in tqdm(files, desc='Processing all files'):\n",
    "        with open(fname, 'rt') as f:\n",
    "            lines = f.readlines()\n",
    "\n",
    "        for line in tqdm(lines, position=1, desc='Counting subreddit and user frequency'):\n",
    "            user, subreddit, freq = line[:-1].split('\\t')\n",
    "            freq = int(freq)\n",
    "            subreddit = 'r/' + subreddit\n",
    "            subreddit_submissions[subreddit] += freq\n",
    "            user_subreddits[user].add(subreddit)\n",
    "            user_post_totals[user] += freq\n",
    "\n",
    "# Grab top 10% of subreddits\n",
    "total_subreddits = len(subreddit_submissions)\n",
    "top_subreddits = subreddit_submissions.most_common(int(total_subreddits * .1))\n",
    "print(\"Total # of subreddits %d\" % total_subreddits)\n",
    "print(\"Ten percent of subreddits %d\" % len(top_subreddits))\n",
    "\n",
    "# Grab users who post in 3+ subreddits\n",
    "print(\"Total # of users %d\" % len(user_subreddits))\n",
    "user_subreddits = {k: v for k, v in user_subreddits.items() if len(v) >= 3}\n",
    "print(\"Users who post in 3+ subreddits %d\" % len(user_subreddits))"
   ]
  },
  {
   "cell_type": "markdown",
   "metadata": {},
   "source": [
    "### Remove super users"
   ]
  },
  {
   "cell_type": "code",
   "execution_count": null,
   "metadata": {},
   "outputs": [],
   "source": [
    "# Remove users who have posted a large \n",
    "cutoff = 10000\n",
    "user_subreddits = {k: v for k, v in user_subreddits.items() if user_post_totals[k] < cutoff}\n",
    "print(\"Total # of users %d\" % len(user_subreddits))"
   ]
  },
  {
   "cell_type": "markdown",
   "metadata": {},
   "source": [
    "### Save results to a TSV"
   ]
  },
  {
   "cell_type": "code",
   "execution_count": null,
   "metadata": {},
   "outputs": [],
   "source": [
    "out_dir = '/shared/0/projects/reddit-political-affiliation/data/bipartite-networks/'\n",
    "\n",
    "with open(out_dir + 'subreddits_' + year + '.tsv', 'w') as f:\n",
    "    for element, count in top_subreddits:\n",
    "        f.write('%s\\t%d\\n' % (element, count))\n",
    "       \n",
    "    \n",
    "with open(out_dir + 'users_' + year + '.tsv', 'w') as f:\n",
    "    for user, subs in user_subreddits.items():\n",
    "        f.write('%s\\t%d\\n' % (user, len(subs)))"
   ]
  },
  {
   "cell_type": "markdown",
   "metadata": {},
   "source": [
    "### Load results back in"
   ]
  },
  {
   "cell_type": "code",
   "execution_count": null,
   "metadata": {},
   "outputs": [],
   "source": [
    "out_dir = '/shared/0/projects/reddit-political-affiliation/data/bipartite-networks/'\n",
    "\n",
    "subreddit_counts = {}\n",
    "user_sub_counts = {}\n",
    "\n",
    "with open(out_dir + 'subreddits_' + year + '.tsv', 'r') as f:\n",
    "    lines = f.readlines()\n",
    "    for line in lines:\n",
    "        element, count = line.split(\"\\t\")\n",
    "        subreddit_counts[element] = count\n",
    "       \n",
    "    \n",
    "with open(out_dir + 'users_' + year + '.tsv', 'r') as f:\n",
    "    lines = f.readlines()\n",
    "    for line in lines:\n",
    "        user, sub_counts = line.split(\"\\t\")\n",
    "        user_sub_counts[user] = sub_counts\n",
    "        \n",
    "print(len(subreddit_counts))\n",
    "print((user_sub_counts))"
   ]
  },
  {
   "cell_type": "markdown",
   "metadata": {},
   "source": [
    "## Go through the original counts and filter out users/subs"
   ]
  },
  {
   "cell_type": "code",
   "execution_count": null,
   "metadata": {},
   "outputs": [],
   "source": [
    "print(len(user_subreddits), len(subreddit_counts))"
   ]
  },
  {
   "cell_type": "code",
   "execution_count": null,
   "metadata": {
    "scrolled": true
   },
   "outputs": [],
   "source": [
    "# Open the input file\n",
    "directory = '/shared/0/projects/reddit-political-affiliation/data/bipartite-networks/' + year + '*.tsv'\n",
    "files = glob.glob(directory)\n",
    "files = [f for f in files if \"filtered\" not in f]\n",
    "\n",
    "# Open the output\n",
    "for fname in tqdm(files, desc='Processing all files'):\n",
    "        print(fname[:-4] + \"_filtered.tsv\")\n",
    "        out_file  = open(fname[:-4] + \"_filtered.tsv\", \"wt\")\n",
    "        \n",
    "        with open(fname, 'rt') as f:\n",
    "            lines = f.readlines()\n",
    "            print(len(lines))\n",
    "\n",
    "        for line in tqdm(lines, position=1, desc='Filtering lines for the month'):\n",
    "            user, subreddit, freq = line[:-1].split('\\t')\n",
    "            subreddit = 'r/' + subreddit\n",
    "            freq = int(freq)\n",
    "            # Use dictionary for O(1) lookups\n",
    "            if user in user_subreddits and subreddit in subreddit_counts:\n",
    "                out_file.write(\"%s\\t%s\\t%d\\n\" %  (user, subreddit, freq))\n",
    "                \n",
    "        out_file.close()"
   ]
  },
  {
   "cell_type": "markdown",
   "metadata": {},
   "source": [
    "# Build the new Graph"
   ]
  },
  {
   "cell_type": "code",
   "execution_count": null,
   "metadata": {},
   "outputs": [],
   "source": [
    "def build_bipartite_graph(directory, top_subreddits, filtered_users):\n",
    "    files = glob.glob(directory)\n",
    "    g = nx.Graph()\n",
    "\n",
    "    for fname in tqdm(files, desc='Processing all files'):\n",
    "        with open(fname, 'rt') as f:\n",
    "            lines = f.readlines()\n",
    "            print(len(lines))\n",
    "\n",
    "        for line in tqdm(lines, position=1, desc='Build graph from file'):\n",
    "            user, subreddit, freq = line[:-1].split('\\t')\n",
    "            freq = int(freq)\n",
    "\n",
    "            if not g.has_node(user):\n",
    "                g.add_node(user)\n",
    "            if not g.has_node(subreddit):\n",
    "                g.add_node(subreddit)\n",
    "\n",
    "            if g.has_edge(user, subreddit):\n",
    "                g[user][subreddit]['weight'] += freq\n",
    "            else:\n",
    "                g.add_edge(user, subreddit, weight=freq)\n",
    "    return g\n",
    "\n",
    "directory = location = '/shared/0/projects/reddit-political-affiliation/data/bipartite-networks/' + year + '*_filtered.tsv'\n",
    "g = build_bipartite_graph(directory, top_subreddits, user_subreddits)\n",
    "print(\"Total nodes: %d\" % len(g.nodes()))"
   ]
  },
  {
   "cell_type": "code",
   "execution_count": null,
   "metadata": {},
   "outputs": [],
   "source": [
    "# Save the graph\n",
    "out_dir = '/shared/0/projects/reddit-political-affiliation/data/bipartite-networks/'\n",
    "with open(out_dir + year + '_graph_filtered.pickle', 'wb') as handle:\n",
    "    pickle.dump(g, handle, protocol=pickle.HIGHEST_PROTOCOL)"
   ]
  }
 ],
 "metadata": {
  "kernelspec": {
   "display_name": "Python 3",
   "language": "python",
   "name": "python3"
  },
  "language_info": {
   "codemirror_mode": {
    "name": "ipython",
    "version": 3
   },
   "file_extension": ".py",
   "mimetype": "text/x-python",
   "name": "python",
   "nbconvert_exporter": "python",
   "pygments_lexer": "ipython3",
   "version": "3.6.8"
  }
 },
 "nbformat": 4,
 "nbformat_minor": 2
}
