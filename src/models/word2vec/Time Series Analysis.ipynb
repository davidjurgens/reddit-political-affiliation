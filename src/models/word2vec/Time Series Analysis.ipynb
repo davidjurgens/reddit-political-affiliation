{
 "cells": [
  {
   "cell_type": "code",
   "execution_count": 1,
   "metadata": {},
   "outputs": [],
   "source": [
    "import os \n",
    "import sys\n",
    "\n",
    "sys.path.append('/home/kalkiek/projects/reddit-political-affiliation/')\n",
    "\n",
    "import itertools\n",
    "import random\n",
    "import torch\n",
    "import torch.nn as nn\n",
    "import torch.optim as optim\n",
    "from torch.utils.data import DataLoader\n",
    "from torch.utils.data import random_split\n",
    "from tqdm.notebook import tqdm\n",
    "\n",
    "from src.data.make_dataset import build_dataset\n",
    "from src.models.word2vec.User2Subreddit import User2Subreddit\n",
    "# from src.models.word2vec.predict_model import predict_user_affiliations, top_n_similar_embeddings, \\\n",
    "#     save_similar_embeddings_to_tsv\n",
    "\n",
    "from sklearn.metrics import auc, roc_curve"
   ]
  },
  {
   "cell_type": "markdown",
   "metadata": {},
   "source": [
    "# Load in predictions"
   ]
  },
  {
   "cell_type": "code",
   "execution_count": null,
   "metadata": {},
   "outputs": [],
   "source": [
    "year_months = ['2019_04', '2019_05', '2019_06']\n",
    "path = '/shared/0/projects/reddit-political-affiliation/data/word2vec/predictions/users_'\n",
    "\n",
    "\n",
    "def load_predictions(path):\n",
    "    user_predictions = {}\n",
    "\n",
    "    with open(path, 'r') as f:\n",
    "        for line in f:\n",
    "            user, score = line.split('\\t')\n",
    "            user_predictions[user] = float(score.strip())\n",
    "            \n",
    "    return user_predictions\n",
    "\n",
    "user_predictions_by_month = {}\n",
    "\n",
    "for year_month in year_months:\n",
    "    print(\"Loading predictions for: {}\".format(year_month))\n",
    "    file_path = path + year_month + '.tsv'\n",
    "    user_predictions_by_month[year_month] = load_predictions(file_path)"
   ]
  },
  {
   "cell_type": "markdown",
   "metadata": {},
   "source": [
    "# t-SNE By Month"
   ]
  },
  {
   "cell_type": "code",
   "execution_count": null,
   "metadata": {},
   "outputs": [],
   "source": []
  }
 ],
 "metadata": {
  "kernelspec": {
   "display_name": "Python 3",
   "language": "python",
   "name": "python3"
  },
  "language_info": {
   "codemirror_mode": {
    "name": "ipython",
    "version": 3
   },
   "file_extension": ".py",
   "mimetype": "text/x-python",
   "name": "python",
   "nbconvert_exporter": "python",
   "pygments_lexer": "ipython3",
   "version": "3.7.4"
  }
 },
 "nbformat": 4,
 "nbformat_minor": 2
}
