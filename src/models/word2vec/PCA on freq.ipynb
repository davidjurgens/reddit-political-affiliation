{
 "cells": [
  {
   "cell_type": "code",
   "execution_count": 1,
   "metadata": {},
   "outputs": [],
   "source": [
    "import os \n",
    "import sys\n",
    "sys.path.append('/home/zbohan/projects/')\n",
    "#sys.path.append('/home/kalkiek/projects/reddit-political-affiliation/')\n",
    "\n",
    "import itertools\n",
    "import random\n",
    "import torch\n",
    "import torch.nn as nn\n",
    "import torch.optim as optim\n",
    "from torch.utils.data import DataLoader\n",
    "from torch.utils.data import random_split\n",
    "from tqdm.notebook import tqdm\n",
    "from collections import defaultdict,Counter\n",
    "from sklearn.metrics import accuracy_score\n",
    "\n",
    "from src.data.make_dataset import build_dataset\n",
    "from src.models.word2vec.User2Subreddit import User2Subreddit\n",
    "\n",
    "from sklearn.metrics import auc, roc_curve\n",
    "import glob"
   ]
  },
  {
   "cell_type": "code",
   "execution_count": 2,
   "metadata": {},
   "outputs": [],
   "source": [
    "import numpy as np"
   ]
  },
  {
   "cell_type": "code",
   "execution_count": 3,
   "metadata": {},
   "outputs": [],
   "source": [
    "from src.data.SubredditUserDataset import SubredditUserDataset"
   ]
  },
  {
   "cell_type": "code",
   "execution_count": 4,
   "metadata": {},
   "outputs": [],
   "source": [
    "year_month = '2019-04'\n",
    "network_path = '/shared/0/projects/reddit-political-affiliation/data/bipartite-networks/' + year_month + '_filtered.tsv'\n",
    "flair_directory = '/shared/0/projects/reddit-political-affiliation/data/flair-affiliations/' + year_month + '.tsv'\n",
    "#flair_directory='/home/zbohan/projects/src/data/'+year_month+'.tsv'\n",
    "flair_files = glob.glob(flair_directory)"
   ]
  },
  {
   "cell_type": "code",
   "execution_count": 5,
   "metadata": {},
   "outputs": [],
   "source": [
    "def read_political_affiliations(files):\n",
    "    user_to_politic_counts = defaultdict(Counter)\n",
    "\n",
    "    for fname in tqdm(files):\n",
    "        with open(fname, 'rt') as f:\n",
    "            for line in f:\n",
    "                user, politics, freq = line.split('\\t')\n",
    "                user_to_politic_counts[user][politics] += int(freq)\n",
    "\n",
    "    print(\"User to politic counts: \" + str(len(user_to_politic_counts)))\n",
    "    print(list(user_to_politic_counts.items())[:10])\n",
    "\n",
    "    user_to_politics = {}\n",
    "    for u, pc in user_to_politic_counts.items():\n",
    "        if len(pc) > 1:\n",
    "            continue\n",
    "        user_to_politics[u] = list(pc.keys())[0]\n",
    "\n",
    "    print('Saw political affiliations for %d users' % len(user_to_politics))\n",
    "    return convert_affiliations_to_binary(user_to_politics)\n",
    "\n",
    "\n",
    "def convert_affiliations_to_binary(user_to_politics):\n",
    "    for user, politics in user_to_politics.items():\n",
    "        if politics == \"Democrat\":\n",
    "            user_to_politics[user] = 0\n",
    "        else:\n",
    "            user_to_politics[user] = 1\n",
    "\n",
    "    return user_to_politics"
   ]
  },
  {
   "cell_type": "code",
   "execution_count": 6,
   "metadata": {},
   "outputs": [
    {
     "data": {
      "application/vnd.jupyter.widget-view+json": {
       "model_id": "333ec23a865b476883b230720ae81222",
       "version_major": 2,
       "version_minor": 0
      },
      "text/plain": [
       "HBox(children=(HTML(value=''), FloatProgress(value=0.0, max=1.0), HTML(value='')))"
      ]
     },
     "metadata": {},
     "output_type": "display_data"
    },
    {
     "name": "stdout",
     "output_type": "stream",
     "text": [
      "\n",
      "User to politic counts: 2589\n",
      "[('WatchMaga', Counter({'Republican': 2})), ('BasedMedicalDoctor', Counter({'Republican': 2})), ('Damemezaredadremez', Counter({'Republican': 2})), ('joeohegna', Counter({'Republican': 1})), ('Deplorable_scum', Counter({'Republican': 2})), ('TheRabbidHD', Counter({'Republican': 2})), ('Paladin-Arda', Counter({'Democrat': 2})), ('Trumpwillalwayswin', Counter({'Republican': 2})), ('daw-nee-yale', Counter({'Republican': 1})), ('BigcatTV', Counter({'Republican': 2}))]\n",
      "Saw political affiliations for 2588 users\n"
     ]
    }
   ],
   "source": [
    "ground_pol=read_political_affiliations(flair_files)"
   ]
  },
  {
   "cell_type": "code",
   "execution_count": 7,
   "metadata": {},
   "outputs": [],
   "source": [
    "def build_user_to_subreddits(bipartite_network,pol):\n",
    "    vocab = set()\n",
    "    user_subreddits = defaultdict(dict)\n",
    "    all_subreddits = Counter()\n",
    "\n",
    "    with open(bipartite_network, 'rt') as f:\n",
    "        lines = f.readlines()\n",
    "\n",
    "    for line in tqdm(lines, position=1, desc='Building vocab from file'):\n",
    "        user, subreddit, freq = line[:-1].split('\\t')\n",
    "        if user in pol:\n",
    "            #print(user,subreddit,freq)\n",
    "            vocab.add(user)\n",
    "            vocab.add(subreddit)\n",
    "            user_subreddits[user][subreddit]=int(freq)\n",
    "            all_subreddits[subreddit]+=int(freq)\n",
    "\n",
    "    all_subreddits = list(all_subreddits)\n",
    "    print(\"Length of vocab: \" + str(len(vocab)))\n",
    "    print(\"User count: \" + str(len(user_subreddits)))\n",
    "    print(\"Subreddit count: \" + str(len(all_subreddits)))\n",
    "    return user_subreddits, vocab, all_subreddits"
   ]
  },
  {
   "cell_type": "code",
   "execution_count": 8,
   "metadata": {},
   "outputs": [
    {
     "data": {
      "application/vnd.jupyter.widget-view+json": {
       "model_id": "1d51d3ae97194a7daac6752d1445285c",
       "version_major": 2,
       "version_minor": 0
      },
      "text/plain": [
       "HBox(children=(HTML(value='Building vocab from file'), FloatProgress(value=0.0, max=28132858.0), HTML(value=''…"
      ]
     },
     "metadata": {},
     "output_type": "display_data"
    },
    {
     "name": "stdout",
     "output_type": "stream",
     "text": [
      "\n",
      "Length of vocab: 8966\n",
      "User count: 2333\n",
      "Subreddit count: 6633\n"
     ]
    }
   ],
   "source": [
    "u,v,a=build_user_to_subreddits(network_path,ground_pol)"
   ]
  },
  {
   "cell_type": "code",
   "execution_count": 9,
   "metadata": {},
   "outputs": [],
   "source": [
    "dict_a=dict(zip(a,range(len(a))))"
   ]
  },
  {
   "cell_type": "code",
   "execution_count": 10,
   "metadata": {},
   "outputs": [],
   "source": [
    "feat_matrix=np.zeros((len(u),len(dict_a)))\n",
    "y=[]\n",
    "for i,user in enumerate(u.keys()):\n",
    "    y.append(ground_pol[user])\n",
    "    for j,sub in enumerate(u[user].keys()):\n",
    "        feat_matrix[i][dict_a[sub]]=u[user][sub]\n",
    "y=np.array(y)"
   ]
  },
  {
   "cell_type": "code",
   "execution_count": 95,
   "metadata": {},
   "outputs": [],
   "source": [
    "from sklearn.decomposition import PCA"
   ]
  },
  {
   "cell_type": "code",
   "execution_count": 97,
   "metadata": {},
   "outputs": [],
   "source": [
    "pca = PCA(n_components=3)"
   ]
  },
  {
   "cell_type": "code",
   "execution_count": 100,
   "metadata": {},
   "outputs": [],
   "source": [
    "decomp_feat = pca.fit_transform(feat_matrix) "
   ]
  },
  {
   "cell_type": "code",
   "execution_count": 104,
   "metadata": {},
   "outputs": [
    {
     "name": "stderr",
     "output_type": "stream",
     "text": [
      "/opt/anaconda/lib/python3.7/site-packages/ipykernel_launcher.py:3: MatplotlibDeprecationWarning: Using a string of single character colors as a color sequence is deprecated. Use an explicit list instead.\n",
      "  This is separate from the ipykernel package so we can avoid doing imports until\n"
     ]
    },
    {
     "data": {
      "text/plain": [
       "<matplotlib.collections.PathCollection at 0x7f228e3212d0>"
      ]
     },
     "execution_count": 104,
     "metadata": {},
     "output_type": "execute_result"
    },
    {
     "data": {
      "image/png": "[encoded data removed]",
      "text/plain": [
       "<Figure size 432x288 with 1 Axes>"
      ]
     },
     "metadata": {
      "needs_background": "light"
     },
     "output_type": "display_data"
    }
   ],
   "source": [
    "import matplotlib.pyplot as plt\n",
    "plt.figure(0)\n",
    "plt.scatter(decomp_feat[y==1,0],decomp_feat[y==1,1],color='', marker='o', edgecolors='blue', s=10)\n",
    "plt.scatter(decomp_feat[y==0,0],decomp_feat[y==0,1],color='red',marker='*',s=100)\n",
    "# plt.figure(1)\n",
    "# plt.scatter(decomp_feat[y==1,0],decomp_feat[y==1,1],color='', marker='o', edgecolors='blue', s=10)\n",
    "# plt.figure(2)\n",
    "# plt.scatter(decomp_feat[y==0,0],decomp_feat[y==0,1],color='red',marker='*',s=100)\n",
    "# plt.show()"
   ]
  },
  {
   "cell_type": "code",
   "execution_count": 102,
   "metadata": {},
   "outputs": [],
   "source": [
    "from sklearn import manifold"
   ]
  },
  {
   "cell_type": "code",
   "execution_count": 105,
   "metadata": {},
   "outputs": [
    {
     "data": {
      "image/png": "[encoded data removed]",
      "text/plain": [
       "<Figure size 576x576 with 1 Axes>"
      ]
     },
     "metadata": {},
     "output_type": "display_data"
    }
   ],
   "source": [
    "tsne = manifold.TSNE(n_components=2, init='pca', random_state=501,n_jobs=4)\n",
    "X_tsne = tsne.fit_transform(feat_matrix)\n",
    "\n",
    "\n",
    "x_min, x_max = X_tsne.min(0), X_tsne.max(0)\n",
    "X_norm = (X_tsne - x_min) / (x_max - x_min)\n",
    "plt.figure(figsize=(8, 8))\n",
    "for i in range(X_norm.shape[0]):\n",
    "    plt.text(X_norm[i, 0], X_norm[i, 1], str(y[i]), color=plt.cm.Set1(y[i]), \n",
    "             fontdict={'weight': 'bold', 'size': 9})\n",
    "plt.xticks([])\n",
    "plt.yticks([])\n",
    "plt.show()"
   ]
  },
  {
   "cell_type": "code",
   "execution_count": null,
   "metadata": {},
   "outputs": [],
   "source": []
  }
 ],
 "metadata": {
  "kernelspec": {
   "display_name": "Python 3",
   "language": "python",
   "name": "python3"
  },
  "language_info": {
   "codemirror_mode": {
    "name": "ipython",
    "version": 3
   },
   "file_extension": ".py",
   "mimetype": "text/x-python",
   "name": "python",
   "nbconvert_exporter": "python",
   "pygments_lexer": "ipython3",
   "version": "3.7.4"
  }
 },
 "nbformat": 4,
 "nbformat_minor": 2
}
