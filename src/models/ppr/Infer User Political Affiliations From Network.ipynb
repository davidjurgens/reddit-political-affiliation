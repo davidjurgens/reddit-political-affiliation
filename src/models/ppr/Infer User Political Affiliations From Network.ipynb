{
 "cells": [
  {
   "cell_type": "code",
   "execution_count": 1,
   "metadata": {},
   "outputs": [],
   "source": [
    "import json\n",
    "import gzip\n",
    "import bz2\n",
    "import lzma\n",
    "import glob\n",
    "from os.path import basename\n",
    "from  collections import *\n",
    "from tqdm.notebook import tqdm\n",
    "import ast\n",
    "import networkx as nx\n",
    "import random\n",
    "import pickle\n",
    "from collections import Counter\n",
    "\n",
    "# SETTINGS\n",
    "year = '2018'\n",
    "existing_graph = True\n",
    "existing_party_ppr = True"
   ]
  },
  {
   "cell_type": "markdown",
   "metadata": {},
   "source": [
    "# Construct the weighted bipartite graph from user to subreddit"
   ]
  },
  {
   "cell_type": "markdown",
   "metadata": {},
   "source": [
    "### Build the graph"
   ]
  },
  {
   "cell_type": "code",
   "execution_count": 2,
   "metadata": {
    "scrolled": true
   },
   "outputs": [
    {
     "name": "stdout",
     "output_type": "stream",
     "text": [
      "Loading existing graph\n",
      "Loading in graph from /shared/0/projects/reddit-political-affiliation/data/bipartite-networks/2018_graph_filtered.pickle\n"
     ]
    }
   ],
   "source": [
    "def build_bipartite_graph(directory, min_sub_threshold=500):\n",
    "    files = glob.glob(directory)\n",
    "\n",
    "    filtered_subreddits = get_subreddits_above_threshold(files, min_sub_threshold)\n",
    "    g = nx.Graph()\n",
    "\n",
    "    users = set()\n",
    "    subreddits = set()\n",
    "\n",
    "    for fname in tqdm(files, desc='Processing all files'):\n",
    "        with open(fname, 'rt') as f:\n",
    "            lines = f.readlines()\n",
    "\n",
    "        for line in tqdm(lines, position=1, desc='Build graph from file'):\n",
    "            user, subreddit, freq = line[:-1].split('\\t')\n",
    "            freq = int(freq)\n",
    "\n",
    "            # distinguish users from subreddits\n",
    "            subreddit = 'r/' + subreddit\n",
    "\n",
    "            users.add(user)\n",
    "            subreddits.add(subreddit)\n",
    "\n",
    "            if subreddit in filtered_subreddits:\n",
    "                if not g.has_node(user):\n",
    "                    g.add_node(user)\n",
    "                if not g.has_node(subreddit):\n",
    "                    g.add_node(subreddit)\n",
    "\n",
    "                if g.has_edge(user, subreddit):\n",
    "                    g[user][subreddit]['weight'] += freq\n",
    "                else:\n",
    "                    g.add_edge(user, subreddit, weight=freq)\n",
    "\n",
    "    return filter_single_edge_nodes(g)\n",
    "\n",
    "\n",
    "def get_subreddits_above_threshold(files, min_sub_threshold):\n",
    "    \"\"\" Get subreddits that have a given number of submissions \"\"\"\n",
    "\n",
    "    sub_frequencies = Counter()\n",
    "    for fname in tqdm(files, desc='Processing all files'):\n",
    "        with open(fname, 'rt') as f:\n",
    "            lines = f.readlines()\n",
    "\n",
    "        for line in tqdm(lines, position=1, desc='Build graph from file'):\n",
    "            user, subreddit, freq = line[:-1].split('\\t')\n",
    "            subreddit = 'r/' + subreddit\n",
    "            sub_frequencies[subreddit] += int(freq)\n",
    "\n",
    "    return {sub: count for sub, count in sub_frequencies.items() if count >= min_sub_threshold}\n",
    "\n",
    "\n",
    "def filter_single_edge_nodes(g):\n",
    "    \"\"\" Get rid of users who only have an edge to one subreddit \"\"\"\n",
    "    to_remove = [n for (n, deg) in g.degree() if deg == 1]\n",
    "    g.remove_nodes_from(to_remove)\n",
    "    return g\n",
    "\n",
    "\n",
    "def load_existing_graph(input_path):\n",
    "    print(\"Loading in graph from {}\".format(input_path))\n",
    "    with open(input_path, 'rb') as handle:\n",
    "        g = pickle.load(handle)\n",
    "        return g\n",
    "    \n",
    "if existing_graph:\n",
    "    print(\"Loading existing graph\")\n",
    "    location = '/shared/0/projects/reddit-political-affiliation/data/bipartite-networks/' + year + '_graph_filtered.pickle'\n",
    "    g = load_existing_graph(location)\n",
    "else:\n",
    "    print(\"Building new graph\")\n",
    "    location = '/shared/0/projects/reddit-political-affiliation/data/bipartite-networks/' + year + '*.tsv'\n",
    "    g = build_bipartite_graph(location)\n",
    "    \n",
    "    # Save the graph for next time\n",
    "    out_dir = '/shared/0/projects/reddit-political-affiliation/data/bipartite-networks/'\n",
    "    with open(out_dir + year + '_graph_filtered.pickle', 'wb') as handle:\n",
    "        pickle.dump(g, handle, protocol=pickle.HIGHEST_PROTOCOL)"
   ]
  },
  {
   "cell_type": "markdown",
   "metadata": {},
   "source": [
    "# Load in the users flair-based labels"
   ]
  },
  {
   "cell_type": "code",
   "execution_count": 3,
   "metadata": {},
   "outputs": [
    {
     "data": {
      "application/vnd.jupyter.widget-view+json": {
       "model_id": "c04e3e42be1c49dcb3376e4adf3c9f2b",
       "version_major": 2,
       "version_minor": 0
      },
      "text/plain": [
       "HBox(children=(FloatProgress(value=0.0, max=164.0), HTML(value='')))"
      ]
     },
     "metadata": {},
     "output_type": "display_data"
    },
    {
     "name": "stdout",
     "output_type": "stream",
     "text": [
      "\n",
      "User to politic counts: 7832\n",
      "[('unitedstates', Counter({'Republican': 36})), ('ixid', Counter({'Democrat': 77})), ('TheMG', Counter({'Democrat': 12})), ('MoosPalang', Counter({'Democrat': 2})), ('well_here_I_am', Counter({'Republican': 46})), ('madwilliamflint', Counter({'Republican': 3})), ('lannister80', Counter({'Democrat': 7})), ('dcgh96', Counter({'Republican': 12})), ('G-3-R', Counter({'Republican': 9})), ('Eat_The_Muffin', Counter({'Republican': 3}))]\n"
     ]
    }
   ],
   "source": [
    "files = glob.glob('/shared/0/projects/reddit-political-affiliation/data/flair-affiliations/20*.tsv')\n",
    "\n",
    "user_to_politic_counts = defaultdict(Counter)\n",
    "\n",
    "for fname in tqdm(files):\n",
    "    with open(fname, 'rt') as f:\n",
    "        for line in f:\n",
    "            user, politics, freq = line.split('\\t')\n",
    "            user_to_politic_counts[user][politics] += int(freq)\n",
    "            \n",
    "print(\"User to politic counts: \" + str(len(user_to_politic_counts)))\n",
    "print(list(user_to_politic_counts.items())[:10])"
   ]
  },
  {
   "cell_type": "markdown",
   "metadata": {},
   "source": [
    "# Canonicalize each user to a single affiliation; toss out those with more than one"
   ]
  },
  {
   "cell_type": "code",
   "execution_count": 4,
   "metadata": {},
   "outputs": [
    {
     "name": "stdout",
     "output_type": "stream",
     "text": [
      "Saw political affiliations for 7775 users\n"
     ]
    }
   ],
   "source": [
    "user_to_politics = {}\n",
    "for u, pc in user_to_politic_counts.items():\n",
    "    if len(pc) > 1:\n",
    "        continue\n",
    "    user_to_politics[u] = list(pc.keys())[0]\n",
    "print('Saw political affiliations for %d users' % len(user_to_politics))"
   ]
  },
  {
   "cell_type": "markdown",
   "metadata": {},
   "source": [
    "# Split in to test/train sets"
   ]
  },
  {
   "cell_type": "code",
   "execution_count": 5,
   "metadata": {},
   "outputs": [
    {
     "name": "stdout",
     "output_type": "stream",
     "text": [
      "6997 778\n"
     ]
    }
   ],
   "source": [
    "all_identified_users = list(user_to_politics.keys())\n",
    "random.seed(42)\n",
    "random.shuffle(all_identified_users)\n",
    "\n",
    "train_users = all_identified_users[:int(0.9*len(all_identified_users))]\n",
    "test_users = all_identified_users[int(0.9*len(all_identified_users)):]\n",
    "print(len(train_users), len(test_users))"
   ]
  },
  {
   "cell_type": "markdown",
   "metadata": {},
   "source": [
    "# Train personalized page rank for both parties"
   ]
  },
  {
   "cell_type": "code",
   "execution_count": 6,
   "metadata": {},
   "outputs": [
    {
     "name": "stdout",
     "output_type": "stream",
     "text": [
      "5018 1979\n"
     ]
    }
   ],
   "source": [
    "rep_users = set([k for k in train_users if user_to_politics[k] == 'Republican'])\n",
    "dem_users = set([k for k in train_users if user_to_politics[k] == 'Democrat'])\n",
    "\n",
    "print(len(rep_users), len(dem_users))"
   ]
  },
  {
   "cell_type": "code",
   "execution_count": 7,
   "metadata": {},
   "outputs": [],
   "source": [
    "# REP PPR\n",
    "out_dir = '/shared/0/projects/reddit-political-affiliation/data/ppr-scores/'\n",
    "\n",
    "if existing_party_ppr:\n",
    "    with open(out_dir + year + '_rep_ppr.pickle', 'rb') as handle:\n",
    "        rep_ppr = pickle.load(handle)\n",
    "else:\n",
    "    n = g.number_of_nodes()\n",
    "    rep_personalization = {}\n",
    "\n",
    "    for n in tqdm(g.nodes, total=n):\n",
    "        if n in rep_users:\n",
    "            rep_personalization[n] = 1\n",
    "        else:\n",
    "            rep_personalization[n] = 0.00001\n",
    "\n",
    "    rep_ppr = nx.pagerank(g, personalization=rep_personalization)\n",
    "    with open(out_dir + year + '_rep_ppr.pickle', 'wb') as handle:\n",
    "        pickle.dump(rep_ppr, handle, protocol=pickle.HIGHEST_PROTOCOL)"
   ]
  },
  {
   "cell_type": "code",
   "execution_count": 8,
   "metadata": {},
   "outputs": [],
   "source": [
    "# DEM PPR\n",
    "out_dir = '/shared/0/projects/reddit-political-affiliation/data/ppr-scores/'\n",
    "\n",
    "if existing_party_ppr:\n",
    "    with open(out_dir + year + '_dem_ppr.pickle', 'rb') as handle:\n",
    "        dem_ppr = pickle.load(handle) \n",
    "else:\n",
    "    n = g.number_of_nodes()\n",
    "    dem_personalization = {}\n",
    "\n",
    "    for n in tqdm(g.nodes, total=n):\n",
    "        if n in dem_users:\n",
    "            dem_personalization[n] = 1\n",
    "        else:\n",
    "            dem_personalization[n] = 0.00001\n",
    "            \n",
    "    dem_ppr = nx.pagerank(g, personalization=dem_personalization)\n",
    "    with open(out_dir + year + '_dem_ppr.pickle', 'wb') as handle:\n",
    "        pickle.dump(dem_ppr, handle, protocol=pickle.HIGHEST_PROTOCOL)"
   ]
  },
  {
   "cell_type": "markdown",
   "metadata": {},
   "source": [
    "# Null Model\n",
    "\n",
    "1. Randomly select the same number of users\n",
    "2. Compute PPR\n",
    "3. Repeat ~30 times to get an estimate of the mean/standard-deviation\n",
    "4. Calculate the z-score using the actual PPR and the estimated mean/stddev\n",
    "\n",
    "Note - If there are k republican users, just pick k random users, e.g. random.sample(all_users, k) and use those as the “seed” users in the PPR"
   ]
  },
  {
   "cell_type": "markdown",
   "metadata": {},
   "source": [
    "# Score Distributions\n",
    "\n",
    "### Read in the null models"
   ]
  },
  {
   "cell_type": "code",
   "execution_count": 9,
   "metadata": {
    "scrolled": true
   },
   "outputs": [
    {
     "data": {
      "application/vnd.jupyter.widget-view+json": {
       "model_id": "3e57f798bc77498085061cf2e80e389f",
       "version_major": 2,
       "version_minor": 0
      },
      "text/plain": [
       "HBox(children=(FloatProgress(value=0.0, description='Processing all files for year 2018', max=32.0, style=Prog…"
      ]
     },
     "metadata": {},
     "output_type": "display_data"
    },
    {
     "data": {
      "application/vnd.jupyter.widget-view+json": {
       "model_id": "7b142a5b3c8544a3b205c2493c3ee4f9",
       "version_major": 2,
       "version_minor": 0
      },
      "text/plain": [
       "HBox(children=(FloatProgress(value=0.0, description='Reading user scores in from file', max=10491052.0, style=…"
      ]
     },
     "metadata": {},
     "output_type": "display_data"
    },
    {
     "name": "stdout",
     "output_type": "stream",
     "text": [
      "\n"
     ]
    },
    {
     "data": {
      "application/vnd.jupyter.widget-view+json": {
       "model_id": "6c42b44efb4a43d3931b1799e733182b",
       "version_major": 2,
       "version_minor": 0
      },
      "text/plain": [
       "HBox(children=(FloatProgress(value=0.0, description='Reading user scores in from file', max=11565.0, style=Pro…"
      ]
     },
     "metadata": {},
     "output_type": "display_data"
    },
    {
     "name": "stdout",
     "output_type": "stream",
     "text": [
      "\n"
     ]
    },
    {
     "data": {
      "application/vnd.jupyter.widget-view+json": {
       "model_id": "66d69bd2836f4ff0bce674a75b9427c6",
       "version_major": 2,
       "version_minor": 0
      },
      "text/plain": [
       "HBox(children=(FloatProgress(value=0.0, description='Reading user scores in from file', max=10499005.0, style=…"
      ]
     },
     "metadata": {},
     "output_type": "display_data"
    },
    {
     "name": "stdout",
     "output_type": "stream",
     "text": [
      "\n"
     ]
    },
    {
     "data": {
      "application/vnd.jupyter.widget-view+json": {
       "model_id": "9bba489125114c359551d031a043f65c",
       "version_major": 2,
       "version_minor": 0
      },
      "text/plain": [
       "HBox(children=(FloatProgress(value=0.0, description='Reading user scores in from file', max=10491052.0, style=…"
      ]
     },
     "metadata": {},
     "output_type": "display_data"
    },
    {
     "name": "stdout",
     "output_type": "stream",
     "text": [
      "\n"
     ]
    },
    {
     "data": {
      "application/vnd.jupyter.widget-view+json": {
       "model_id": "f9349864a5f8430faf77f66ae7d650d4",
       "version_major": 2,
       "version_minor": 0
      },
      "text/plain": [
       "HBox(children=(FloatProgress(value=0.0, description='Reading user scores in from file', max=10491052.0, style=…"
      ]
     },
     "metadata": {},
     "output_type": "display_data"
    },
    {
     "name": "stdout",
     "output_type": "stream",
     "text": [
      "\n"
     ]
    },
    {
     "data": {
      "application/vnd.jupyter.widget-view+json": {
       "model_id": "822fd6ecb87749b3b1c0af2d7fb1ee45",
       "version_major": 2,
       "version_minor": 0
      },
      "text/plain": [
       "HBox(children=(FloatProgress(value=0.0, description='Reading user scores in from file', max=10491052.0, style=…"
      ]
     },
     "metadata": {},
     "output_type": "display_data"
    },
    {
     "name": "stdout",
     "output_type": "stream",
     "text": [
      "\n"
     ]
    },
    {
     "data": {
      "application/vnd.jupyter.widget-view+json": {
       "model_id": "915b842292234fa9a2dbc579db355b2f",
       "version_major": 2,
       "version_minor": 0
      },
      "text/plain": [
       "HBox(children=(FloatProgress(value=0.0, description='Reading user scores in from file', max=10491052.0, style=…"
      ]
     },
     "metadata": {},
     "output_type": "display_data"
    },
    {
     "name": "stdout",
     "output_type": "stream",
     "text": [
      "\n"
     ]
    },
    {
     "data": {
      "application/vnd.jupyter.widget-view+json": {
       "model_id": "85d5b32c54f94643b8648e19f586a7fc",
       "version_major": 2,
       "version_minor": 0
      },
      "text/plain": [
       "HBox(children=(FloatProgress(value=0.0, description='Reading user scores in from file', max=10491052.0, style=…"
      ]
     },
     "metadata": {},
     "output_type": "display_data"
    },
    {
     "name": "stdout",
     "output_type": "stream",
     "text": [
      "\n"
     ]
    },
    {
     "data": {
      "application/vnd.jupyter.widget-view+json": {
       "model_id": "a7e61f695ef74e399012034dfdb326d0",
       "version_major": 2,
       "version_minor": 0
      },
      "text/plain": [
       "HBox(children=(FloatProgress(value=0.0, description='Reading user scores in from file', max=10491052.0, style=…"
      ]
     },
     "metadata": {},
     "output_type": "display_data"
    },
    {
     "name": "stdout",
     "output_type": "stream",
     "text": [
      "\n"
     ]
    },
    {
     "data": {
      "application/vnd.jupyter.widget-view+json": {
       "model_id": "725297b75f694d2390da5f4c956932c3",
       "version_major": 2,
       "version_minor": 0
      },
      "text/plain": [
       "HBox(children=(FloatProgress(value=0.0, description='Reading user scores in from file', max=10491052.0, style=…"
      ]
     },
     "metadata": {},
     "output_type": "display_data"
    },
    {
     "name": "stdout",
     "output_type": "stream",
     "text": [
      "\n"
     ]
    },
    {
     "data": {
      "application/vnd.jupyter.widget-view+json": {
       "model_id": "2d9bd2b7f4f942f9b1b2373ce6e6fca0",
       "version_major": 2,
       "version_minor": 0
      },
      "text/plain": [
       "HBox(children=(FloatProgress(value=0.0, description='Reading user scores in from file', max=10491052.0, style=…"
      ]
     },
     "metadata": {},
     "output_type": "display_data"
    },
    {
     "name": "stdout",
     "output_type": "stream",
     "text": [
      "\n"
     ]
    },
    {
     "data": {
      "application/vnd.jupyter.widget-view+json": {
       "model_id": "19ac0196543b4ecbb1fcbd348b839a8d",
       "version_major": 2,
       "version_minor": 0
      },
      "text/plain": [
       "HBox(children=(FloatProgress(value=0.0, description='Reading user scores in from file', max=164743.0, style=Pr…"
      ]
     },
     "metadata": {},
     "output_type": "display_data"
    },
    {
     "name": "stdout",
     "output_type": "stream",
     "text": [
      "\n"
     ]
    },
    {
     "data": {
      "application/vnd.jupyter.widget-view+json": {
       "model_id": "2c19dcb888d54eb998aa10880aadbfa7",
       "version_major": 2,
       "version_minor": 0
      },
      "text/plain": [
       "HBox(children=(FloatProgress(value=0.0, description='Reading user scores in from file', max=10491052.0, style=…"
      ]
     },
     "metadata": {},
     "output_type": "display_data"
    },
    {
     "name": "stdout",
     "output_type": "stream",
     "text": [
      "\n"
     ]
    },
    {
     "data": {
      "application/vnd.jupyter.widget-view+json": {
       "model_id": "f2d986ec38664eb4b0f68b4f25c15004",
       "version_major": 2,
       "version_minor": 0
      },
      "text/plain": [
       "HBox(children=(FloatProgress(value=0.0, description='Reading user scores in from file', max=10491052.0, style=…"
      ]
     },
     "metadata": {},
     "output_type": "display_data"
    },
    {
     "name": "stdout",
     "output_type": "stream",
     "text": [
      "\n"
     ]
    },
    {
     "data": {
      "application/vnd.jupyter.widget-view+json": {
       "model_id": "9a9f97ffa4d4407d97f14299cb744f19",
       "version_major": 2,
       "version_minor": 0
      },
      "text/plain": [
       "HBox(children=(FloatProgress(value=0.0, description='Reading user scores in from file', max=10491052.0, style=…"
      ]
     },
     "metadata": {},
     "output_type": "display_data"
    },
    {
     "name": "stdout",
     "output_type": "stream",
     "text": [
      "\n"
     ]
    },
    {
     "data": {
      "application/vnd.jupyter.widget-view+json": {
       "model_id": "7fd2efd82a1c461aafb74a3c17a8121d",
       "version_major": 2,
       "version_minor": 0
      },
      "text/plain": [
       "HBox(children=(FloatProgress(value=0.0, description='Reading user scores in from file', max=137560.0, style=Pr…"
      ]
     },
     "metadata": {},
     "output_type": "display_data"
    },
    {
     "name": "stdout",
     "output_type": "stream",
     "text": [
      "\n"
     ]
    },
    {
     "data": {
      "application/vnd.jupyter.widget-view+json": {
       "model_id": "e6a7be2fa24e4fba883636b83cf5f65a",
       "version_major": 2,
       "version_minor": 0
      },
      "text/plain": [
       "HBox(children=(FloatProgress(value=0.0, description='Reading user scores in from file', max=10491052.0, style=…"
      ]
     },
     "metadata": {},
     "output_type": "display_data"
    },
    {
     "name": "stdout",
     "output_type": "stream",
     "text": [
      "\n"
     ]
    },
    {
     "data": {
      "application/vnd.jupyter.widget-view+json": {
       "model_id": "f0e081412bb842c0ac4135f5bac25533",
       "version_major": 2,
       "version_minor": 0
      },
      "text/plain": [
       "HBox(children=(FloatProgress(value=0.0, description='Reading user scores in from file', max=10491052.0, style=…"
      ]
     },
     "metadata": {},
     "output_type": "display_data"
    },
    {
     "name": "stdout",
     "output_type": "stream",
     "text": [
      "\n"
     ]
    },
    {
     "data": {
      "application/vnd.jupyter.widget-view+json": {
       "model_id": "457c678d20c6439b87d9947278008fe9",
       "version_major": 2,
       "version_minor": 0
      },
      "text/plain": [
       "HBox(children=(FloatProgress(value=0.0, description='Reading user scores in from file', max=10491052.0, style=…"
      ]
     },
     "metadata": {},
     "output_type": "display_data"
    },
    {
     "name": "stdout",
     "output_type": "stream",
     "text": [
      "\n"
     ]
    },
    {
     "data": {
      "application/vnd.jupyter.widget-view+json": {
       "model_id": "eef04b19c00d426ea9bbfad4daff31b3",
       "version_major": 2,
       "version_minor": 0
      },
      "text/plain": [
       "HBox(children=(FloatProgress(value=0.0, description='Reading user scores in from file', max=10491052.0, style=…"
      ]
     },
     "metadata": {},
     "output_type": "display_data"
    },
    {
     "name": "stdout",
     "output_type": "stream",
     "text": [
      "\n"
     ]
    },
    {
     "data": {
      "application/vnd.jupyter.widget-view+json": {
       "model_id": "a1fae439f9264676b958788ceaffd10a",
       "version_major": 2,
       "version_minor": 0
      },
      "text/plain": [
       "HBox(children=(FloatProgress(value=0.0, description='Reading user scores in from file', max=10491052.0, style=…"
      ]
     },
     "metadata": {},
     "output_type": "display_data"
    },
    {
     "name": "stdout",
     "output_type": "stream",
     "text": [
      "\n"
     ]
    },
    {
     "data": {
      "application/vnd.jupyter.widget-view+json": {
       "model_id": "07289acd7e424618bf834e874853dd43",
       "version_major": 2,
       "version_minor": 0
      },
      "text/plain": [
       "HBox(children=(FloatProgress(value=0.0, description='Reading user scores in from file', max=10491052.0, style=…"
      ]
     },
     "metadata": {},
     "output_type": "display_data"
    },
    {
     "name": "stdout",
     "output_type": "stream",
     "text": [
      "\n"
     ]
    },
    {
     "data": {
      "application/vnd.jupyter.widget-view+json": {
       "model_id": "f3c630eea5d84b65b0303e0976b3694f",
       "version_major": 2,
       "version_minor": 0
      },
      "text/plain": [
       "HBox(children=(FloatProgress(value=0.0, description='Reading user scores in from file', max=10491052.0, style=…"
      ]
     },
     "metadata": {},
     "output_type": "display_data"
    },
    {
     "name": "stdout",
     "output_type": "stream",
     "text": [
      "\n"
     ]
    },
    {
     "data": {
      "application/vnd.jupyter.widget-view+json": {
       "model_id": "a0f6422c0c2d4e30a07bd2ca9af036ba",
       "version_major": 2,
       "version_minor": 0
      },
      "text/plain": [
       "HBox(children=(FloatProgress(value=0.0, description='Reading user scores in from file', max=10491052.0, style=…"
      ]
     },
     "metadata": {},
     "output_type": "display_data"
    },
    {
     "name": "stdout",
     "output_type": "stream",
     "text": [
      "\n"
     ]
    },
    {
     "data": {
      "application/vnd.jupyter.widget-view+json": {
       "model_id": "62ea58edbb45472e82ef353c37144f13",
       "version_major": 2,
       "version_minor": 0
      },
      "text/plain": [
       "HBox(children=(FloatProgress(value=0.0, description='Reading user scores in from file', max=10491052.0, style=…"
      ]
     },
     "metadata": {},
     "output_type": "display_data"
    },
    {
     "name": "stdout",
     "output_type": "stream",
     "text": [
      "\n"
     ]
    },
    {
     "data": {
      "application/vnd.jupyter.widget-view+json": {
       "model_id": "7ada729f9baf4fa9881973527631c37a",
       "version_major": 2,
       "version_minor": 0
      },
      "text/plain": [
       "HBox(children=(FloatProgress(value=0.0, description='Reading user scores in from file', max=10491052.0, style=…"
      ]
     },
     "metadata": {},
     "output_type": "display_data"
    },
    {
     "name": "stdout",
     "output_type": "stream",
     "text": [
      "\n"
     ]
    },
    {
     "data": {
      "application/vnd.jupyter.widget-view+json": {
       "model_id": "e84938ccda9244f49d3f1b71a8c854f1",
       "version_major": 2,
       "version_minor": 0
      },
      "text/plain": [
       "HBox(children=(FloatProgress(value=0.0, description='Reading user scores in from file', max=10491052.0, style=…"
      ]
     },
     "metadata": {},
     "output_type": "display_data"
    },
    {
     "name": "stdout",
     "output_type": "stream",
     "text": [
      "\n"
     ]
    },
    {
     "data": {
      "application/vnd.jupyter.widget-view+json": {
       "model_id": "35256c8592a9447a87d1a6ba04656d83",
       "version_major": 2,
       "version_minor": 0
      },
      "text/plain": [
       "HBox(children=(FloatProgress(value=0.0, description='Reading user scores in from file', max=10491052.0, style=…"
      ]
     },
     "metadata": {},
     "output_type": "display_data"
    },
    {
     "name": "stdout",
     "output_type": "stream",
     "text": [
      "\n"
     ]
    },
    {
     "data": {
      "application/vnd.jupyter.widget-view+json": {
       "model_id": "fe6b58dcfdf349c192d62bca98bd6991",
       "version_major": 2,
       "version_minor": 0
      },
      "text/plain": [
       "HBox(children=(FloatProgress(value=0.0, description='Reading user scores in from file', max=10491052.0, style=…"
      ]
     },
     "metadata": {},
     "output_type": "display_data"
    },
    {
     "name": "stdout",
     "output_type": "stream",
     "text": [
      "\n"
     ]
    },
    {
     "data": {
      "application/vnd.jupyter.widget-view+json": {
       "model_id": "f3d2a699c8904c5f9473cb7496830f99",
       "version_major": 2,
       "version_minor": 0
      },
      "text/plain": [
       "HBox(children=(FloatProgress(value=0.0, description='Reading user scores in from file', max=10491052.0, style=…"
      ]
     },
     "metadata": {},
     "output_type": "display_data"
    },
    {
     "name": "stdout",
     "output_type": "stream",
     "text": [
      "\n"
     ]
    },
    {
     "data": {
      "application/vnd.jupyter.widget-view+json": {
       "model_id": "419ed6ba06d54b04972e00bc857a45ae",
       "version_major": 2,
       "version_minor": 0
      },
      "text/plain": [
       "HBox(children=(FloatProgress(value=0.0, description='Reading user scores in from file', max=5579.0, style=Prog…"
      ]
     },
     "metadata": {},
     "output_type": "display_data"
    },
    {
     "name": "stdout",
     "output_type": "stream",
     "text": [
      "\n"
     ]
    },
    {
     "data": {
      "application/vnd.jupyter.widget-view+json": {
       "model_id": "208327eefe4c450fac38d767f105b17c",
       "version_major": 2,
       "version_minor": 0
      },
      "text/plain": [
       "HBox(children=(FloatProgress(value=0.0, description='Reading user scores in from file', max=10491052.0, style=…"
      ]
     },
     "metadata": {},
     "output_type": "display_data"
    },
    {
     "name": "stdout",
     "output_type": "stream",
     "text": [
      "\n",
      "\n"
     ]
    }
   ],
   "source": [
    "# Read in all of the null models and store the results\n",
    "score_dist = defaultdict(list)\n",
    "directory = '/shared/0/projects/reddit-political-affiliation/data/ppr-scores/' + year + '*.tsv'\n",
    "\n",
    "files = glob.glob(directory)\n",
    "\n",
    "for fname in tqdm(files, desc='Processing all files for year ' + year):\n",
    "    with open(fname, 'rt') as f:\n",
    "        lines = f.readlines()\n",
    "\n",
    "    for line in tqdm(lines, position=1, desc='Reading user scores in from file'):\n",
    "        user, score = line[:-1].split('\\t')\n",
    "        score_dist[user].append(score)"
   ]
  },
  {
   "cell_type": "markdown",
   "metadata": {},
   "source": [
    "## Top Political Subreddits By Z-Scores"
   ]
  },
  {
   "cell_type": "code",
   "execution_count": 10,
   "metadata": {
    "scrolled": true
   },
   "outputs": [
    {
     "name": "stdout",
     "output_type": "stream",
     "text": [
      "Computing mean and variance for null models\n"
     ]
    },
    {
     "data": {
      "application/vnd.jupyter.widget-view+json": {
       "model_id": "f3783f11cfbe4c7a8c349bf0e5fa148a",
       "version_major": 2,
       "version_minor": 0
      },
      "text/plain": [
       "HBox(children=(FloatProgress(value=0.0, description='Processing null models for mean and std', max=10499005.0,…"
      ]
     },
     "metadata": {},
     "output_type": "display_data"
    },
    {
     "name": "stdout",
     "output_type": "stream",
     "text": [
      "\n"
     ]
    }
   ],
   "source": [
    "import itertools\n",
    "import numpy as np\n",
    "import pandas as pd\n",
    "import seaborn as sns\n",
    "import matplotlib.pyplot as plt\n",
    "from scipy import stats\n",
    "\n",
    "# Find the top PPR score (avg) and plot a distribution as a sanity check\n",
    "print(\"Computing mean and variance for null models\")\n",
    "score_avg_dist = {}\n",
    "score_std = {}\n",
    "for user, scores in tqdm(score_dist.items(), desc='Processing null models for mean and std'):\n",
    "    scores = np.array(scores, dtype=float)\n",
    "    score_avg_dist[user] = np.mean(scores)\n",
    "    score_std[user] = np.std(scores)"
   ]
  },
  {
   "cell_type": "code",
   "execution_count": 11,
   "metadata": {},
   "outputs": [
    {
     "data": {
      "application/vnd.jupyter.widget-view+json": {
       "model_id": "bf0ee2ff08c940b586ecf661af2d07f9",
       "version_major": 2,
       "version_minor": 0
      },
      "text/plain": [
       "HBox(children=(FloatProgress(value=0.0, description='Processing Republican PPR scores', max=10491052.0, style=…"
      ]
     },
     "metadata": {},
     "output_type": "display_data"
    },
    {
     "name": "stdout",
     "output_type": "stream",
     "text": [
      "\n"
     ]
    },
    {
     "data": {
      "application/vnd.jupyter.widget-view+json": {
       "model_id": "fbd9f19ea75441c29a1e6b0461c006b0",
       "version_major": 2,
       "version_minor": 0
      },
      "text/plain": [
       "HBox(children=(FloatProgress(value=0.0, description='Processing Democrat PPR scores', max=10491052.0, style=Pr…"
      ]
     },
     "metadata": {},
     "output_type": "display_data"
    },
    {
     "name": "stdout",
     "output_type": "stream",
     "text": [
      "\n",
      "Saving results  to directory: /shared/0/projects/reddit-political-affiliation/data/z-scores/\n"
     ]
    }
   ],
   "source": [
    "# Get all z-scores and store them\n",
    "rep_z_scores, dem_z_scores = {}, {}\n",
    "\n",
    "for user, score in tqdm(rep_ppr.items(), desc='Processing Republican PPR scores'):\n",
    "    if score_std[user] == 0:\n",
    "        continue\n",
    "    rep_z_scores[user] = (score - score_avg_dist[user]) / score_std[user]\n",
    "    \n",
    "for user, score in tqdm(dem_ppr.items(), desc='Processing Democrat PPR scores'):\n",
    "    if score_std[user] == 0:\n",
    "        continue\n",
    "    dem_z_scores[user] = (score - score_avg_dist[user]) / score_std[user]\n",
    "    \n",
    "\n",
    "out_dir = '/shared/0/projects/reddit-political-affiliation/data/z-scores/'\n",
    "print(\"Saving results  to directory: \" + out_dir)\n",
    "\n",
    "with open(out_dir + year + '_rep_scores.pickle', 'wb') as handle:\n",
    "    pickle.dump(rep_z_scores, handle, protocol=pickle.HIGHEST_PROTOCOL)\n",
    "    \n",
    "with open(out_dir + year + '_dem_scores.pickle', 'wb') as handle:\n",
    "    pickle.dump(dem_z_scores, handle, protocol=pickle.HIGHEST_PROTOCOL)"
   ]
  },
  {
   "cell_type": "code",
   "execution_count": 12,
   "metadata": {},
   "outputs": [
    {
     "name": "stdout",
     "output_type": "stream",
     "text": [
      "Sorting lists to the top political subreddits\n",
      "Top DEM Subreddits\n",
      "{'r/nurseryrhymes': 272.91393091511776, 'r/SubredditSimulator': 178.87327296770604, 'r/MetaSpeaks': 113.69088102153212, 'r/NTSB_database': 106.64444161344147, 'r/RedditTrophies': 105.35271703259843, 'r/NewFishSpecies': 97.57888244611834, 'r/Republicancer': 97.19146461110604, 'r/nohair': 95.35894744701073, 'r/Shit_SPS_Says': 85.07534633294333, 'r/RedditMinusMods': 80.71163819547674, 'r/CANNABISfuturus': 78.94362725639974, 'r/InconvenientDemocrats': 75.84621135858238, 'r/MillionShekelExtreme': 73.13242054620649, 'r/gunsofliberty': 68.34547632073141, 'r/MINEFoundation': 66.83135310764358, 'r/DidTheVikingsWinSB': 62.3987083348105, 'r/BirdtownComics': 60.0392762199796, 'r/metaphotography': 58.63545071689235, 'r/doomsdaycult': 57.84071745278265, 'r/pitcnt': 56.31992946015402, 'r/CAchores': 54.791795792382175, 'r/both_sides': 52.76358478985953, 'r/classygirls': 51.69915801220503, 'r/uninsurable': 48.993935281944516, 'r/budgetcooking': 48.35712034645971, 'r/DankMemeArchive': 48.087365336685856, 'r/MensLibWatch': 47.19774351736825, 'r/TenYearsAgoOnReddit': 46.25302118693946, 'r/LibertarianFreeState': 46.04285090905029, 'r/Awoo_irl': 45.82342566285623, 'r/SexyCosplayBabes': 44.69917479292646, 'r/exmemes': 44.161539398426164, 'r/RealTimeWW2': 43.6825175677789, 'r/posts': 43.24464988506574, 'r/kcbar': 43.0525629352341, 'r/AgainstTrueHateSubs': 42.73496586559278, 'r/AtheistDefenseLeague': 42.632987644510315, 'r/ImaginaryGolarion': 42.54470143876571, 'r/AnimeBlush': 42.50530958643789, 'r/TheGreatGasly': 42.19269053705553, 'r/NewJerseyuncensored': 41.730883582188994, 'r/DeepGreenResistance': 41.70493608953905, 'r/Blasfemia': 40.9413482432673, 'r/debatecreation': 40.72454046040175, 'r/Checkmating': 40.69923737752495, 'r/AMAgicfart': 40.660869701288846, 'r/shitneoliberalismsays': 40.390860050383395, 'r/IndiaRWResources': 40.30222045429587, 'r/ScottFalls': 39.342170280854056, 'r/ForConservativesOnly': 39.09877154323075, 'r/BullpupBubba': 38.5707509551222, 'r/CoAH': 38.20728266902089, 'r/broccoliisgay': 37.863002431570365, 'r/hdcelebgifs': 37.83442048294237, 'r/TekkenTaikai': 37.82410270832166, 'r/ItsOkToBeWhite': 37.64841125646182, 'r/postersofevil': 37.35180034987618, 'r/LeftoverRed': 36.959606011923974, 'r/fansofNWA': 36.95324734978075, 'r/sanghibabes': 36.83313978936907, 'r/ChelseaForSenate': 36.675555783651454, 'r/SubredditSimulator_SS': 36.54171193392216, 'r/openlittermap': 36.45378280240934, 'r/trueleft': 36.01187654134498, 'r/hardwarememes': 35.55841588864591, 'r/notthebabylonbee': 35.18441836851624, 'r/ShortLife': 35.07317600140829, 'r/SuperheroCirclejerk': 34.96959952248176, 'r/everythingaboutwater': 34.90882542561493, 'r/TsundereImperialists': 34.739152861847536, 'r/ThePalaceOfMiruko': 34.48074229499133, 'r/LargeImages': 34.293651754229934, 'r/RepublicanValues': 33.84239107496871, 'r/CleanCoils': 33.15839730399487, 'r/ImagesOfOhio': 33.15196624950332, 'r/Spillthetea': 33.081329092101726, 'r/TrailFitness': 32.66688119739564, 'r/GophersVideos': 32.13105022047765, 'r/SayNOtoBlackOpsPass': 31.956565280983547, 'r/CanadaGolf': 31.934945078465166, 'r/ZhinMains': 31.895452938553618, 'r/pozilei': 31.756339890708084, 'r/RedcapLogic': 31.705714626169975, 'r/DemetriStrikesAgain': 31.359254361763007, 'r/THEBLUEDAWN': 31.279022503265814, 'r/Swamp_of_Sadness': 31.273597559962468, 'r/ATGMs': 31.260950345829635, 'r/WhatMakesUsHappy': 31.2455730680897, 'r/JimCornette': 31.078426096962673, 'r/HaikuBot9000': 30.955703978557466, 'r/MarinaLaswick': 30.67279955163577, 'r/PokeyJokeys': 30.199397097004084, 'r/eretoad': 29.4302840268084, 'r/ConservativeLounge': 29.386787643884016, 'r/TopMindsOfVoat': 29.17958038214065, 'r/FortniteMeta': 29.081060732798132, 'r/DownvotesMcGoats': 28.96694840010667, 'r/Agenda_Design': 28.795124512929302, 'r/Belgium2': 28.671303448467707, 'r/The_Leftorium': 28.625016268953324}\n",
      "Top REP Subreddits\n",
      "{'r/nurseryrhymes': 11.089405939241544, 'r/SubredditSimulator': 7.561330417593129, 'r/MetaSpeaks': 4.874524499565425, 'r/NTSB_database': 4.583440436913318, 'r/RedditTrophies': 4.530080091775422, 'r/NewFishSpecies': 4.208947783278154, 'r/Republicancer': 4.192943791641033, 'r/nohair': 4.123719355626718, 'r/Shit_SPS_Says': 3.692434424043236, 'r/RedditMinusMods': 3.51217233431077, 'r/CANNABISfuturus': 3.4456126106348344, 'r/InconvenientDemocrats': 3.3111845547822965, 'r/MillionShekelExtreme': 3.1960873118925757, 'r/gunsofliberty': 3.0013338200740907, 'r/MINEFoundation': 2.9387863247069124, 'r/DidTheVikingsWinSB': 2.7621522220569923, 'r/BirdtownComics': 2.6582098207750415, 'r/metaphotography': 2.6002186557301297, 'r/doomsdaycult': 2.5738644320648976, 'r/pitcnt': 2.5045659018309663, 'r/CAchores': 2.4479153601703834, 'r/both_sides': 2.364131215534447, 'r/classygirls': 2.313684685411854, 'r/uninsurable': 2.201933604178767, 'r/budgetcooking': 2.1756271722575113, 'r/DankMemeArchive': 2.170959476243946, 'r/MensLibWatch': 2.127734031053508, 'r/TenYearsAgoOnReddit': 2.095183851637167, 'r/LibertarianFreeState': 2.086501847181219, 'r/Awoo_irl': 2.0774375256965176, 'r/SexyCosplayBabes': 2.0245196992450407, 'r/exmemes': 2.0087860298843063, 'r/RealTimeWW2': 1.9825222167905878, 'r/posts': 1.9709098900224717, 'r/kcbar': 1.9564991797490796, 'r/AgainstTrueHateSubs': 1.9498551577716858, 'r/ImaginaryGolarion': 1.941995451737272, 'r/AtheistDefenseLeague': 1.9391667834640378, 'r/AnimeBlush': 1.9338924816939147, 'r/TheGreatGasly': 1.9209783817222899, 'r/NewJerseyuncensored': 1.908377138398341, 'r/DeepGreenResistance': 1.9008295465522649, 'r/Blasfemia': 1.8692862039357958, 'r/debatecreation': 1.8668057251860641, 'r/AMAgicfart': 1.8641755254256103, 'r/Checkmating': 1.8592847535109973, 'r/shitneoliberalismsays': 1.846545876468517, 'r/IndiaRWResources': 1.839892009995547, 'r/ScottFalls': 1.8032251493754916, 'r/ForConservativesOnly': 1.7996462146955479, 'r/BullpupBubba': 1.7713582931756244, 'r/CoAH': 1.75634364261952, 'r/broccoliisgay': 1.7421216385115783, 'r/TekkenTaikai': 1.7405147149543019, 'r/ItsOkToBeWhite': 1.7397327264599332, 'r/hdcelebgifs': 1.7379487163878666, 'r/postersofevil': 1.72747991298691, 'r/LeftoverRed': 1.7112786069616848, 'r/fansofNWA': 1.7045402176159081, 'r/sanghibabes': 1.6965864289604116, 'r/ChelseaForSenate': 1.69306895041915, 'r/openlittermap': 1.6903833623872773, 'r/SubredditSimulator_SS': 1.681701483083088, 'r/trueleft': 1.665652770565078, 'r/hardwarememes': 1.646920590893757, 'r/notthebabylonbee': 1.6314709841799726, 'r/ShortLife': 1.6268756306575018, 'r/everythingaboutwater': 1.6265621267504804, 'r/SuperheroCirclejerk': 1.6225969502436692, 'r/TsundereImperialists': 1.619553057868782, 'r/ThePalaceOfMiruko': 1.6088782768530427, 'r/LargeImages': 1.5946739651547421, 'r/RepublicanValues': 1.576032665027865, 'r/CleanCoils': 1.5542530214702772, 'r/ImagesOfOhio': 1.5539873585785748, 'r/Spillthetea': 1.5445936642682951, 'r/TrailFitness': 1.5274730775487428, 'r/GophersVideos': 1.5053382306256857, 'r/SayNOtoBlackOpsPass': 1.4981303654717122, 'r/ZhinMains': 1.4956058523248619, 'r/CanadaGolf': 1.4942450287846185, 'r/pozilei': 1.48985917818588, 'r/RedcapLogic': 1.4877678797552416, 'r/WhatMakesUsHappy': 1.475235432943937, 'r/DemetriStrikesAgain': 1.473455820079279, 'r/THEBLUEDAWN': 1.4701414915260684, 'r/Swamp_of_Sadness': 1.4699173904684606, 'r/JimCornette': 1.4683306947354007, 'r/ATGMs': 1.463556481342043, 'r/HaikuBot9000': 1.4632611197718701, 'r/MarinaLaswick': 1.4515745125130546, 'r/PokeyJokeys': 1.432018549311955, 'r/eretoad': 1.393771246169007, 'r/ConservativeLounge': 1.3919744374371277, 'r/TopMindsOfVoat': 1.383414833349458, 'r/FortniteMeta': 1.3793450474451854, 'r/DownvotesMcGoats': 1.374631137414884, 'r/Agenda_Design': 1.3740089156291377, 'r/Belgium2': 1.3688939438809051, 'r/The_Leftorium': 1.3605061321301473}\n"
     ]
    }
   ],
   "source": [
    "sub_rep_scores = {k: v for k, v in rep_z_scores.items() if k[:2] == 'r/' and k[2:4] != 'u_'}\n",
    "sub_dem_scores = {k: v for k, v in dem_z_scores.items() if k[:2] == 'r/' and k[2:4] != 'u_'}\n",
    "    \n",
    "print(\"Sorting lists to the top political subreddits\")\n",
    "sub_rep_scores = {k: v for k, v in sorted(sub_rep_scores.items(), key=lambda item: item[1], reverse=True)}\n",
    "sub_dem_scores = {k: v for k, v in sorted(sub_dem_scores.items(), key=lambda item: item[1], reverse=True)}\n",
    "\n",
    "top_dem = dict(itertools.islice(sub_dem_scores.items(), 100))\n",
    "top_rep = dict(itertools.islice(sub_rep_scores.items(), 100))\n",
    "\n",
    "print(\"Top DEM Subreddits\")\n",
    "print(top_dem)\n",
    "\n",
    "print(\"Top REP Subreddits\")\n",
    "print(top_rep)"
   ]
  },
  {
   "cell_type": "code",
   "execution_count": 31,
   "metadata": {},
   "outputs": [
    {
     "data": {
      "text/plain": [
       "<matplotlib.axes._subplots.AxesSubplot at 0x7facda5dbcd0>"
      ]
     },
     "execution_count": 31,
     "metadata": {},
     "output_type": "execute_result"
    },
    {
     "data": {
      "image/png": "[encoded data removed]",
      "text/plain": [
       "<Figure size 432x288 with 1 Axes>"
      ]
     },
     "metadata": {
      "needs_background": "light"
     },
     "output_type": "display_data"
    }
   ],
   "source": [
    "# Plot top Z-Scores for each\n",
    "y = list(top_rep.values())[:25]\n",
    "x = list(range(25))\n",
    "sns.barplot(x, y)"
   ]
  },
  {
   "cell_type": "markdown",
   "metadata": {},
   "source": [
    "# Politicalness Score\n",
    "\n",
    "Sum the rep_ppr and dem_ppr for a user/subreddit and then normalize across all users and (separately) all subreddits to get a score of \"politicalness\". E.g., subreddits that have a higher score end up being visited more frequently by politically-active users\n",
    "\n",
    "Correct bias using null model"
   ]
  },
  {
   "cell_type": "markdown",
   "metadata": {},
   "source": [
    "# Predicting on the test set\n",
    "\n",
    "Test whether the \"political leaning\" score predicts the affiliations for the users in the `test_users` set by seeing which affiliation (from the PPR score) is larger."
   ]
  },
  {
   "cell_type": "code",
   "execution_count": 32,
   "metadata": {},
   "outputs": [],
   "source": [
    "# Normalize z-scores\n",
    "sum_dem_score = sum(list(dem_z_scores.values()))\n",
    "sum_rep_score = sum(list(rep_z_scores.values()))\n",
    "\n",
    "both = sum_dem_score + sum_rep_score\n",
    "\n",
    "norm_dem, norm_rep = {}, {}\n",
    "\n",
    "for user, score in dem_z_scores.items():\n",
    "    norm_dem[user] = score / both \n",
    "\n",
    "for user, score in rep_z_scores.items():\n",
    "    norm_rep[user] = score / both"
   ]
  },
  {
   "cell_type": "code",
   "execution_count": 33,
   "metadata": {},
   "outputs": [
    {
     "name": "stdout",
     "output_type": "stream",
     "text": [
      "Size of test set: 580\n",
      "0.3086206896551724\n"
     ]
    }
   ],
   "source": [
    "from sklearn.metrics import accuracy_score\n",
    "\n",
    "\n",
    "# Filter out data not present...\n",
    "filtered_test = []\n",
    "labels = []\n",
    "\n",
    "for user in test_users:\n",
    "    if user in rep_ppr and user in dem_ppr:\n",
    "        filtered_test.append(user)\n",
    "        labels.append(user_to_politics[user])\n",
    "\n",
    "print(\"Size of test set: \" + str(len(filtered_test)))\n",
    "\n",
    "# Run prediction\n",
    "\n",
    "def get_prediction(user):\n",
    "    score = norm_rep[user] - norm_dem[user]\n",
    "    if score < 0:\n",
    "        return \"Democrat\"\n",
    "    else:\n",
    "        return \"Republican\"\n",
    "    \n",
    "    \n",
    "predictions = [get_prediction(user) for users in filtered_test]\n",
    "print(accuracy_score(labels, predictions))"
   ]
  }
 ],
 "metadata": {
  "kernelspec": {
   "display_name": "Python 3",
   "language": "python",
   "name": "python3"
  },
  "language_info": {
   "codemirror_mode": {
    "name": "ipython",
    "version": 3
   },
   "file_extension": ".py",
   "mimetype": "text/x-python",
   "name": "python",
   "nbconvert_exporter": "python",
   "pygments_lexer": "ipython3",
   "version": "3.7.4"
  }
 },
 "nbformat": 4,
 "nbformat_minor": 2
}
