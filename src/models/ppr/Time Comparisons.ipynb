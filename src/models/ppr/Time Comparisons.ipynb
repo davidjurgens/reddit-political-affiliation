{
 "cells": [
  {
   "cell_type": "markdown",
   "metadata": {},
   "source": [
    "# Time Comparison"
   ]
  },
  {
   "cell_type": "code",
   "execution_count": 1,
   "metadata": {},
   "outputs": [],
   "source": [
    "import json\n",
    "import gzip\n",
    "import bz2\n",
    "import lzma\n",
    "import glob\n",
    "from os.path import basename\n",
    "from  collections import *\n",
    "from tqdm.notebook import tqdm\n",
    "import ast\n",
    "import networkx as nx\n",
    "import random\n",
    "import pickle\n",
    "import itertools\n",
    "from collections import Counter"
   ]
  },
  {
   "cell_type": "markdown",
   "metadata": {},
   "source": [
    "# Biggest Changes Between Years"
   ]
  },
  {
   "cell_type": "code",
   "execution_count": 2,
   "metadata": {
    "scrolled": true
   },
   "outputs": [
    {
     "name": "stdout",
     "output_type": "stream",
     "text": [
      "Loading in 2018 scores\n",
      "Loading in 2019 scores\n"
     ]
    },
    {
     "data": {
      "application/vnd.jupyter.widget-view+json": {
       "model_id": "b1af4863f0334122a6d87c73d7c984d9",
       "version_major": 2,
       "version_minor": 0
      },
      "text/plain": [
       "HBox(children=(FloatProgress(value=0.0, description='Computing REP delta between 2018 and 2019', max=13821990.…"
      ]
     },
     "metadata": {},
     "output_type": "display_data"
    },
    {
     "name": "stdout",
     "output_type": "stream",
     "text": [
      "\n"
     ]
    },
    {
     "data": {
      "application/vnd.jupyter.widget-view+json": {
       "model_id": "e340c2e87c674d3f910ec4ad300ff507",
       "version_major": 2,
       "version_minor": 0
      },
      "text/plain": [
       "HBox(children=(FloatProgress(value=0.0, description='Computing DEM delta between 2018 and 2019', max=13821990.…"
      ]
     },
     "metadata": {},
     "output_type": "display_data"
    },
    {
     "name": "stdout",
     "output_type": "stream",
     "text": [
      "\n"
     ]
    }
   ],
   "source": [
    "def load_z_scores(year):\n",
    "    directory = '/shared/0/projects/reddit-political-affiliation/data/z-scores/'\n",
    "    rep_file = directory + str(year) + '_rep_scores.pickle'\n",
    "    dem_file = directory + str(year) + '_dem_scores.pickle'\n",
    "\n",
    "    with open(rep_file, 'rb') as f:\n",
    "        rep_z_scores = pickle.load(f)\n",
    "    \n",
    "    with open(dem_file, 'rb') as f:\n",
    "        dem_z_scores = pickle.load(f)\n",
    "    \n",
    "    return rep_z_scores, dem_z_scores\n",
    "   \n",
    "\n",
    "print(\"Loading in 2018 scores\")\n",
    "z_rep_18, z_dem_18 = load_z_scores(2018)\n",
    "print(\"Loading in 2019 scores\")\n",
    "z_rep_19, z_dem_19 = load_z_scores(2019)\n",
    "\n",
    "z_rep_delta, z_dem_delta = {}, {}\n",
    "\n",
    "for user, score in tqdm(z_rep_19.items(), desc=\"Computing REP delta between 2018 and 2019\"):\n",
    "    if user in z_rep_18:\n",
    "        z_rep_delta[user] = abs(score - z_rep_18[user])\n",
    "    \n",
    "    \n",
    "for user, score in tqdm(z_dem_19.items(), desc=\"Computing DEM delta between 2018 and 2019\"):\n",
    "    if user in z_dem_18:\n",
    "        z_dem_delta[user] = abs(score - z_dem_18[user])"
   ]
  },
  {
   "cell_type": "markdown",
   "metadata": {},
   "source": [
    "# Grab Biggest Subreddit Differences"
   ]
  },
  {
   "cell_type": "code",
   "execution_count": 3,
   "metadata": {},
   "outputs": [
    {
     "name": "stdout",
     "output_type": "stream",
     "text": [
      "Filtering data down to subreddits only\n",
      "Sorting lists\n",
      "Top DEM Subreddits\n",
      "{'r/AskThe_Donald': 45215942024.81679, 'r/Bladesmith': 45215942024.808716, 'r/thick': 43941997137.799286, 'r/AccidentalComedy': 43941997137.79629, 'r/hamiltonmusical': 43941997137.79621, 'r/TrueAskReddit': 43941997137.78985, 'r/AdventuresOfSabrina': 43941997137.782875, 'r/chicagofood': 43941997137.7802, 'r/AskScienceDiscussion': 42629998964.637634, 'r/WWEChampions': 42629998964.634796, 'r/E30': 42629998964.634605, 'r/JonTron': 42629998964.63394, 'r/CanadianHardwareSwap': 42629998964.631424, 'r/composer': 42629998964.63089, 'r/homeless': 42629998964.6306, 'r/AskNOLA': 42629998964.62345, 'r/chinchilla': 42629998964.62328, 'r/PublicFlashing': 42629998964.62159, 'r/XYONetwork': 42629998964.6006, 'r/AngelsAndAirwaves': 42629998964.54095, 'r/Awww': 41276319009.715065, 'r/indie': 41276319009.71232, 'r/Dariusmains': 41276319009.709816, 'r/Syracuse': 41276319009.70934, 'r/ArenaHS': 41276319009.709145, 'r/batonrouge': 41276319009.70908, 'r/TeemoTalk': 41276319009.70838, 'r/Goruck': 41276319009.70518, 'r/amazfit': 41276319009.70497, 'r/USF': 41276319009.70408, 'r/bloodbowl': 41276319009.70355, 'r/Vulfpeck': 41276319009.7028, 'r/ToyotaTundra': 41276319009.70135, 'r/UI_Design': 41276319009.70105, 'r/WatchesCirclejerk': 41276319009.70094, 'r/Mistborn': 41276319009.69877, 'r/chastitytraining': 41276319009.697525, 'r/Androgynoushotties': 41276319009.69598, 'r/TVZionApp': 41276319009.69346, 'r/nfrealmusic': 41276319009.684654, 'r/MrBeast': 41276319009.59144, 'r/Sino': 36918662067.01242, 'r/nsfwoutfits': 36918662066.65739, 'r/PokePorn': 36918662066.65531, 'r/shittyrobots': 36918662066.65494, 'r/AskEconomics': 36918662066.65388, 'r/thighdeology': 36918662066.65168, 'r/Ohio': 36918662066.65162, 'r/DigitalPainting': 36918662066.650665, 'r/vexillologycirclejerk': 36918662066.647285, 'r/virgin': 36918662066.64619, 'r/hotas': 36918662066.64515, 'r/badunitedkingdom': 36918662066.64409, 'r/csgomarketforum': 36918662066.633934, 'r/Terminator': 36918662066.60887, 'r/TheRealJoke': 36918662066.51, 'r/The_Best_NSFW_GIFS': 35878490422.115036, 'r/bigseo': 35878490422.113846, 'r/DrawMeNSFW': 35878490422.112656, 'r/drugscirclejerk': 35878490422.11242, 'r/datasets': 35878490422.109344, 'r/rush': 35878490422.10923, 'r/DelphiMurders': 35878490422.108246, 'r/bigdickgirl': 35878490422.10677, 'r/pocketoperators': 35878490422.10658, 'r/BipolarSOs': 35878490422.10598, 'r/razerphone': 35878490422.104515, 'r/linuxmemes': 35878490422.10224, 'r/kroger': 35878490422.097984, 'r/Wife': 35878490422.09058, 'r/SimplySidney': 34807248399.918434, 'r/pmp': 34807248399.9071, 'r/greenville': 34807248399.90482, 'r/perfectloops': 34807248399.54553, 'r/SheLikesItRough': 34807248399.54497, 'r/OttawaSenators': 34807248399.54441, 'r/Lyft': 34807248399.54437, 'r/Harmontown': 34807248399.54413, 'r/holdmyjuicebox': 34807248399.54343, 'r/artc': 34807248399.54334, 'r/dayton': 34807248399.54322, 'r/barelylegalteens': 34807248399.54249, 'r/assettocorsa': 34807248399.54237, 'r/HotStuffNSFW': 34807248399.54108, 'r/freshalbumart': 34807248399.540184, 'r/Steelbooks': 34807248399.53839, 'r/cheatingwives': 34807248399.53818, 'r/StarWarsCantina': 34807248399.537834, 'r/ram_trucks': 34807248399.53695, 'r/watch_dogs': 34807248399.53686, 'r/dankvideos': 34807248399.5367, 'r/RoleReversal': 34807248399.536446, 'r/mistress': 34807248399.53453, 'r/Pornhub': 34807248399.53418, 'r/friends_tv_show': 34807248399.52996, 'r/cremposting': 34807248399.52984, 'r/Illenium': 34807248399.5182, 'r/KUWTK': 34807248399.484924, 'r/SubwayCreatures': 34807248399.47508, 'r/ShemalePorn': 34180039397.994274}\n",
      "Top REP Subreddits\n",
      "{'r/AskThe_Donald': 530321839625.73315, 'r/Bladesmith': 530321839625.60657, 'r/thick': 515380189273.93555, 'r/AccidentalComedy': 515380189273.8631, 'r/hamiltonmusical': 515380189273.8612, 'r/TrueAskReddit': 515380189273.7761, 'r/AdventuresOfSabrina': 515380189273.756, 'r/chicagofood': 515380189273.61487, 'r/WWEChampions': 499992225347.5701, 'r/AskScienceDiscussion': 499992225347.56995, 'r/JonTron': 499992225347.5495, 'r/E30': 499992225347.49664, 'r/CanadianHardwareSwap': 499992225347.4884, 'r/composer': 499992225347.4756, 'r/homeless': 499992225347.46857, 'r/AskNOLA': 499992225347.3679, 'r/chinchilla': 499992225347.36395, 'r/PublicFlashing': 499992225347.25037, 'r/XYONetwork': 499992225346.6734, 'r/AngelsAndAirwaves': 499992225345.29834, 'r/indie': 484115390501.09033, 'r/Awww': 484115390501.0879, 'r/ArenaHS': 484115390501.0135, 'r/batonrouge': 484115390501.01196, 'r/Goruck': 484115390500.98987, 'r/amazfit': 484115390500.98486, 'r/Dariusmains': 484115390500.9608, 'r/bloodbowl': 484115390500.9506, 'r/Syracuse': 484115390500.94934, 'r/TeemoTalk': 484115390500.92615, 'r/USF': 484115390500.8908, 'r/TVZionApp': 484115390500.863, 'r/Vulfpeck': 484115390500.8599, 'r/ToyotaTundra': 484115390500.82477, 'r/WatchesCirclejerk': 484115390500.815, 'r/chastitytraining': 484115390500.8047, 'r/Mistborn': 484115390500.7624, 'r/Androgynoushotties': 484115390500.69476, 'r/nfrealmusic': 484115390500.49304, 'r/MrBeast': 484115390498.3934, 'r/UI_Design': 484115390498.15137, 'r/Sino': 433005968845.9659, 'r/nsfwoutfits': 433005968845.7078, 'r/PokePorn': 433005968845.6576, 'r/shittyrobots': 433005968845.6487, 'r/thighdeology': 433005968845.6386, 'r/Ohio': 433005968845.63715, 'r/AskEconomics': 433005968845.623, 'r/DigitalPainting': 433005968845.6141, 'r/vexillologycirclejerk': 433005968845.5323, 'r/virgin': 433005968845.5057, 'r/hotas': 433005968845.4805, 'r/badunitedkingdom': 433005968845.4548, 'r/csgomarketforum': 433005968845.1401, 'r/Terminator': 433005968844.6024, 'r/TheRealJoke': 433005968839.98865, 'r/DrawMeNSFW': 420806162420.00574, 'r/The_Best_NSFW_GIFS': 420806162419.99445, 'r/bigseo': 420806162419.96564, 'r/bigdickgirl': 420806162419.8632, 'r/pocketoperators': 420806162419.8587, 'r/datasets': 420806162419.85657, 'r/rush': 420806162419.85394, 'r/BipolarSOs': 420806162419.844, 'r/DelphiMurders': 420806162419.83, 'r/linuxmemes': 420806162419.75354, 'r/razerphone': 420806162419.7397, 'r/kroger': 420806162419.6506, 'r/Wife': 420806162419.5439, 'r/drugscirclejerk': 420806162417.5506, 'r/SimplySidney': 408241942487.07996, 'r/pmp': 408241942487.0348, 'r/greenville': 408241942486.97974, 'r/HotStuffNSFW': 408241942486.7209, 'r/perfectloops': 408241942486.68744, 'r/barelylegalteens': 408241942486.6826, 'r/SheLikesItRough': 408241942486.67365, 'r/OttawaSenators': 408241942486.6603, 'r/Lyft': 408241942486.65936, 'r/Harmontown': 408241942486.6533, 'r/holdmyjuicebox': 408241942486.6365, 'r/artc': 408241942486.63434, 'r/dayton': 408241942486.6314, 'r/dankvideos': 408241942486.61487, 'r/Steelbooks': 408241942486.5834, 'r/mistress': 408241942486.5624, 'r/freshalbumart': 408241942486.55786, 'r/ram_trucks': 408241942486.5484, 'r/watch_dogs': 408241942486.5462, 'r/RoleReversal': 408241942486.5364, 'r/cheatingwives': 408241942486.5093, 'r/StarWarsCantina': 408241942486.50104, 'r/Pornhub': 408241942486.4815, 'r/friends_tv_show': 408241942486.4517, 'r/cremposting': 408241942486.37634, 'r/Illenium': 408241942486.16724, 'r/KUWTK': 408241942485.51825, 'r/SubwayCreatures': 408241942485.28015, 'r/assettocorsa': 408241942484.3016, 'r/ShemalePorn': 400885629278.05963}\n"
     ]
    }
   ],
   "source": [
    "print(\"Filtering data down to subreddits only\")\n",
    "sub_rep_deltas = {k: v for k, v in z_rep_delta.items() if k[:2] == 'r/' and k[2:4] != 'u_'}\n",
    "sub_dem_deltas = {k: v for k, v in z_dem_delta.items() if k[:2] == 'r/' and k[2:4] != 'u_'}\n",
    "    \n",
    "print(\"Sorting lists\")\n",
    "sub_rep_deltas = {k: v for k, v in sorted(sub_rep_deltas.items(), key=lambda item: item[1], reverse=True)}\n",
    "sub_dem_deltas = {k: v for k, v in sorted(sub_dem_deltas.items(), key=lambda item: item[1], reverse=True)}\n",
    "\n",
    "top_dem = dict(itertools.islice(sub_rep_deltas.items(), 100))\n",
    "top_rep = dict(itertools.islice(sub_dem_deltas.items(), 100))\n",
    "\n",
    "print(\"Top DEM Subreddits\")\n",
    "print(top_dem)\n",
    "\n",
    "print(\"Top REP Subreddits\")\n",
    "print(top_rep)"
   ]
  },
  {
   "cell_type": "code",
   "execution_count": null,
   "metadata": {},
   "outputs": [],
   "source": [
    "print(\"Sorting REP deltas\")\n",
    "z_rep_delta = {k: v for k, v in sorted(z_rep_delta.items(), key=lambda item: item[1], reverse=True)}\n",
    "\n",
    "print(\"Sorting DEM deltas\")\n",
    "z_dem_delta = {k: v for k, v in sorted(z_dem_delta.items(), key=lambda item: item[1], reverse=True)}\n",
    "\n",
    "\n",
    "top_dem = dict(itertools.islice(z_dem_delta.items(), 100))\n",
    "top_rep = dict(itertools.islice(z_rep_delta.items(), 100))\n",
    "\n",
    "print(\"Top DEM deltas\")\n",
    "print(top_dem)\n",
    "\n",
    "print(\"Top REP deltas\")\n",
    "print(top_rep)"
   ]
  }
 ],
 "metadata": {
  "kernelspec": {
   "display_name": "Python 3",
   "language": "python",
   "name": "python3"
  },
  "language_info": {
   "codemirror_mode": {
    "name": "ipython",
    "version": 3
   },
   "file_extension": ".py",
   "mimetype": "text/x-python",
   "name": "python",
   "nbconvert_exporter": "python",
   "pygments_lexer": "ipython3",
   "version": "3.7.4"
  }
 },
 "nbformat": 4,
 "nbformat_minor": 2
}
