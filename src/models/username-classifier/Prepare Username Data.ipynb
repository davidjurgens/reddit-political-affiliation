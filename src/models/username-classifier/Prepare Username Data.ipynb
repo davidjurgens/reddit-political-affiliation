{
 "cells": [
  {
   "cell_type": "code",
   "execution_count": 6,
   "metadata": {},
   "outputs": [],
   "source": [
    "import pandas as pd\n",
    "from glob import glob\n",
    "from collections import *\n",
    "import random\n",
    "from tqdm.notebook import tqdm"
   ]
  },
  {
   "cell_type": "code",
   "execution_count": 21,
   "metadata": {},
   "outputs": [],
   "source": [
    "fnames = glob('/shared/0/projects/reddit-political-affiliation/data/flair-affiliations/*.tsv')"
   ]
  },
  {
   "cell_type": "code",
   "execution_count": 26,
   "metadata": {},
   "outputs": [],
   "source": [
    "fnames2 = glob('/shared/0/projects/reddit-political-affiliation/data/comment-affiliations/silver/*.tsv')"
   ]
  },
  {
   "cell_type": "code",
   "execution_count": 3,
   "metadata": {},
   "outputs": [
    {
     "data": {
      "text/plain": [
       "'/shared/0/projects/reddit-political-affiliation/data/flair-affiliations/RC_2010-06.tsv'"
      ]
     },
     "execution_count": 3,
     "metadata": {},
     "output_type": "execute_result"
    }
   ],
   "source": [
    "fnames[0]"
   ]
  },
  {
   "cell_type": "code",
   "execution_count": 4,
   "metadata": {},
   "outputs": [
    {
     "name": "stdout",
     "output_type": "stream",
     "text": [
      "FarsideSC\tConservative\tRepublican\tConservative\t1567296214\r\n",
      "JackFucington\tConservative\tRepublican\tConservative\t1567296262\r\n",
      "RedBaronsBrother\tConservative\tRepublican\tConservative\t1567296527\r\n",
      "WunjoRolls6\tAMERICA FIRST\tRepublican\tThe_Donald\t1567296528\r\n",
      "WunjoRolls6\tMAGA\tRepublican\tThe_Donald\t1535762247\r\n",
      "Znut55\tMAGA\tRepublican\tThe_Donald\t1567296595\r\n",
      "TheRealGrantEdwards\tAMERICA FIRST\tRepublican\tThe_Donald\t1567296625\r\n",
      "DonsGuard\tTrump Supporter\tRepublican\tAskTrumpSupporters\t1567296631\r\n",
      "DonsGuard\tMAGA\tRepublican\tThe_Donald\t1567736684\r\n",
      "ButGravityAlwaysWins\tLiberal\tDemocrat\tAskALiberal\t1567296644\r\n"
     ]
    }
   ],
   "source": [
    "!head /shared/0/projects/reddit-political-affiliation/data/flair-affiliations/RC_2010-06.tsv"
   ]
  },
  {
   "cell_type": "code",
   "execution_count": 22,
   "metadata": {},
   "outputs": [],
   "source": [
    "random.shuffle(fnames)"
   ]
  },
  {
   "cell_type": "code",
   "execution_count": 27,
   "metadata": {},
   "outputs": [
    {
     "data": {
      "application/vnd.jupyter.widget-view+json": {
       "model_id": "6e604f2d5fca4e3a947e19cfbcac3a55",
       "version_major": 2,
       "version_minor": 0
      },
      "text/plain": [
       "HBox(children=(FloatProgress(value=0.0, max=170.0), HTML(value='')))"
      ]
     },
     "metadata": {},
     "output_type": "display_data"
    },
    {
     "name": "stdout",
     "output_type": "stream",
     "text": [
      "\n"
     ]
    },
    {
     "data": {
      "application/vnd.jupyter.widget-view+json": {
       "model_id": "95fc8d9da70c44b09cdc851360e4c35d",
       "version_major": 2,
       "version_minor": 0
      },
      "text/plain": [
       "HBox(children=(FloatProgress(value=0.0, max=202.0), HTML(value='')))"
      ]
     },
     "metadata": {},
     "output_type": "display_data"
    },
    {
     "name": "stdout",
     "output_type": "stream",
     "text": [
      "\n"
     ]
    }
   ],
   "source": [
    "user2aff = {}\n",
    "for fname in tqdm(fnames):\n",
    "    with open(fname) as f:\n",
    "        for line in f:\n",
    "            cols = line[:-1].split('\\t')\n",
    "            if len(cols) < 3:\n",
    "                print(line)\n",
    "                continue\n",
    "            user2aff[cols[0]] = cols[2]\n",
    "            \n",
    "for fname in tqdm(fnames2):\n",
    "    with open(fname) as f:\n",
    "        for line in f:\n",
    "            cols = line[:-1].split('\\t')\n",
    "            if len(cols) < 3:\n",
    "                #print(line)\n",
    "                continue\n",
    "            user2aff[cols[0]] = cols[1]            "
   ]
  },
  {
   "cell_type": "code",
   "execution_count": 28,
   "metadata": {},
   "outputs": [
    {
     "data": {
      "text/plain": [
       "196774"
      ]
     },
     "execution_count": 28,
     "metadata": {},
     "output_type": "execute_result"
    }
   ],
   "source": [
    "len(user2aff)"
   ]
  },
  {
   "cell_type": "code",
   "execution_count": 34,
   "metadata": {},
   "outputs": [
    {
     "data": {
      "text/plain": [
       "20"
      ]
     },
     "execution_count": 34,
     "metadata": {},
     "output_type": "execute_result"
    }
   ],
   "source": [
    "max(len(x) for x in user2aff.keys())"
   ]
  },
  {
   "cell_type": "code",
   "execution_count": 29,
   "metadata": {},
   "outputs": [
    {
     "data": {
      "text/html": [
       "<div>\n",
       "<style scoped>\n",
       "    .dataframe tbody tr th:only-of-type {\n",
       "        vertical-align: middle;\n",
       "    }\n",
       "\n",
       "    .dataframe tbody tr th {\n",
       "        vertical-align: top;\n",
       "    }\n",
       "\n",
       "    .dataframe thead th {\n",
       "        text-align: right;\n",
       "    }\n",
       "</style>\n",
       "<table border=\"1\" class=\"dataframe\">\n",
       "  <thead>\n",
       "    <tr style=\"text-align: right;\">\n",
       "      <th></th>\n",
       "      <th>username</th>\n",
       "      <th>label</th>\n",
       "    </tr>\n",
       "  </thead>\n",
       "  <tbody>\n",
       "    <tr>\n",
       "      <th>0</th>\n",
       "      <td>FarsideSC</td>\n",
       "      <td>Republican</td>\n",
       "    </tr>\n",
       "    <tr>\n",
       "      <th>1</th>\n",
       "      <td>JackFucington</td>\n",
       "      <td>Republican</td>\n",
       "    </tr>\n",
       "    <tr>\n",
       "      <th>2</th>\n",
       "      <td>RedBaronsBrother</td>\n",
       "      <td>Republican</td>\n",
       "    </tr>\n",
       "    <tr>\n",
       "      <th>3</th>\n",
       "      <td>WunjoRolls6</td>\n",
       "      <td>Democrat</td>\n",
       "    </tr>\n",
       "    <tr>\n",
       "      <th>4</th>\n",
       "      <td>Znut55</td>\n",
       "      <td>Republican</td>\n",
       "    </tr>\n",
       "  </tbody>\n",
       "</table>\n",
       "</div>"
      ],
      "text/plain": [
       "           username       label\n",
       "0         FarsideSC  Republican\n",
       "1     JackFucington  Republican\n",
       "2  RedBaronsBrother  Republican\n",
       "3       WunjoRolls6    Democrat\n",
       "4            Znut55  Republican"
      ]
     },
     "execution_count": 29,
     "metadata": {},
     "output_type": "execute_result"
    }
   ],
   "source": [
    "df = defaultdict(list)\n",
    "for k, v in user2aff.items():\n",
    "    df['username'].append(k)\n",
    "    df['label'].append(v)\n",
    "df = pd.DataFrame(df)\n",
    "df.head()"
   ]
  },
  {
   "cell_type": "code",
   "execution_count": 35,
   "metadata": {},
   "outputs": [],
   "source": [
    "df['binary_label'] = df.label.apply(lambda x: 1 if x == 'Democrat' else 0)"
   ]
  },
  {
   "cell_type": "code",
   "execution_count": 32,
   "metadata": {},
   "outputs": [
    {
     "data": {
      "text/plain": [
       "{'Democrat', 'Republican'}"
      ]
     },
     "execution_count": 32,
     "metadata": {},
     "output_type": "execute_result"
    }
   ],
   "source": [
    "set(df['label'])"
   ]
  },
  {
   "cell_type": "code",
   "execution_count": 36,
   "metadata": {},
   "outputs": [],
   "source": [
    "df.to_csv('/shared/0/projects/reddit-political-affiliation/data/username-labels/user2label.csv', index=False)"
   ]
  },
  {
   "cell_type": "code",
   "execution_count": 38,
   "metadata": {},
   "outputs": [],
   "source": [
    "import numpy as np"
   ]
  },
  {
   "cell_type": "code",
   "execution_count": 39,
   "metadata": {},
   "outputs": [],
   "source": [
    "train_df, dev_df, test_df = \\\n",
    "              np.split(df.sample(frac=1, random_state=42), \n",
    "                       [int(.8*len(df)), int(.9*len(df))])"
   ]
  },
  {
   "cell_type": "code",
   "execution_count": 42,
   "metadata": {},
   "outputs": [
    {
     "data": {
      "text/plain": [
       "(157419, 19677, 19678)"
      ]
     },
     "execution_count": 42,
     "metadata": {},
     "output_type": "execute_result"
    }
   ],
   "source": [
    "len(train_df), len(dev_df), len(test_df)"
   ]
  },
  {
   "cell_type": "code",
   "execution_count": 40,
   "metadata": {},
   "outputs": [],
   "source": [
    "train_df.to_csv('/shared/0/projects/reddit-political-affiliation/data/username-labels/user2label.train.csv', index=False)\n",
    "dev_df.to_csv('/shared/0/projects/reddit-political-affiliation/data/username-labels/user2label.dev.csv', index=False)\n",
    "test_df.to_csv('/shared/0/projects/reddit-political-affiliation/data/username-labels/user2label.test.csv', index=False)"
   ]
  }
 ],
 "metadata": {
  "kernelspec": {
   "display_name": "Python 3",
   "language": "python",
   "name": "python3"
  },
  "language_info": {
   "codemirror_mode": {
    "name": "ipython",
    "version": 3
   },
   "file_extension": ".py",
   "mimetype": "text/x-python",
   "name": "python",
   "nbconvert_exporter": "python",
   "pygments_lexer": "ipython3",
   "version": "3.8.5"
  }
 },
 "nbformat": 4,
 "nbformat_minor": 2
}
