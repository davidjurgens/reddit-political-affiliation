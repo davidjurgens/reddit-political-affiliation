{
 "cells": [
  {
   "cell_type": "code",
   "execution_count": 3,
   "metadata": {},
   "outputs": [],
   "source": [
    "import json\n",
    "import gzip\n",
    "import bz2\n",
    "import lzma\n",
    "import glob\n",
    "from os.path import basename\n",
    "from  collections import *\n",
    "from tqdm.notebook import tqdm\n",
    "import os\n",
    "import zstandard as zstd"
   ]
  },
  {
   "cell_type": "code",
   "execution_count": 4,
   "metadata": {},
   "outputs": [],
   "source": [
    "files = glob.glob('/shared/2/datasets/reddit-dump-all/RC/*.zst')\n",
    "files.extend(glob.glob('/shared/2/datasets/reddit-dump-all/RC/*.xz'))\n",
    "files.extend(glob.glob('/shared/2/datasets/reddit-dump-all/RC/*.bz2'))\n",
    "files.extend(glob.glob('/shared/2/datasets/reddit-dump-all/RS/*.bz2'))\n",
    "files.extend(glob.glob('/shared/2/datasets/reddit-dump-all/RS/*.xz'))"
   ]
  },
  {
   "cell_type": "code",
   "execution_count": 5,
   "metadata": {},
   "outputs": [
    {
     "name": "stdout",
     "output_type": "stream",
     "text": [
      "200\n"
     ]
    }
   ],
   "source": [
    "month_to_files = defaultdict(list)\n",
    "for fname in files:\n",
    "    name = basename(fname)\n",
    "    year_month = name.split('.')[0][3:]\n",
    "    month_to_files[year_month].append(fname)\n",
    "print(len(month_to_files))"
   ]
  },
  {
   "cell_type": "code",
   "execution_count": 6,
   "metadata": {},
   "outputs": [],
   "source": [
    "months = sorted(list(month_to_files.keys()), reverse=True)"
   ]
  },
  {
   "cell_type": "code",
   "execution_count": 7,
   "metadata": {},
   "outputs": [
    {
     "data": {
      "application/vnd.jupyter.widget-view+json": {
       "model_id": "4997f7de67ad49f89826724e10ece3a9",
       "version_major": 2,
       "version_minor": 0
      },
      "text/plain": [
       "HBox(children=(FloatProgress(value=0.0, max=200.0), HTML(value='')))"
      ]
     },
     "metadata": {},
     "output_type": "display_data"
    },
    {
     "name": "stdout",
     "output_type": "stream",
     "text": [
      "/shared/2/datasets/reddit-dump-all/RS/RS_v2_2010-12.xz\n",
      "/shared/2/datasets/reddit-dump-all/RS/RS_v2_2010-11.xz\n",
      "/shared/2/datasets/reddit-dump-all/RS/RS_v2_2010-10.xz\n",
      "/shared/2/datasets/reddit-dump-all/RS/RS_v2_2010-09.xz\n",
      "/shared/2/datasets/reddit-dump-all/RS/RS_v2_2010-08.xz\n",
      "/shared/2/datasets/reddit-dump-all/RS/RS_v2_2010-07.xz\n",
      "/shared/2/datasets/reddit-dump-all/RS/RS_v2_2010-06.xz\n",
      "/shared/2/datasets/reddit-dump-all/RS/RS_v2_2010-05.xz\n",
      "/shared/2/datasets/reddit-dump-all/RS/RS_v2_2010-04.xz\n",
      "/shared/2/datasets/reddit-dump-all/RS/RS_v2_2010-03.xz\n",
      "/shared/2/datasets/reddit-dump-all/RS/RS_v2_2010-02.xz\n",
      "/shared/2/datasets/reddit-dump-all/RS/RS_v2_2010-01.xz\n",
      "/shared/2/datasets/reddit-dump-all/RS/RS_v2_2009-12.xz\n",
      "/shared/2/datasets/reddit-dump-all/RS/RS_v2_2009-11.xz\n",
      "/shared/2/datasets/reddit-dump-all/RS/RS_v2_2009-10.xz\n",
      "/shared/2/datasets/reddit-dump-all/RS/RS_v2_2009-09.xz\n",
      "/shared/2/datasets/reddit-dump-all/RS/RS_v2_2009-08.xz\n",
      "/shared/2/datasets/reddit-dump-all/RS/RS_v2_2009-07.xz\n",
      "/shared/2/datasets/reddit-dump-all/RS/RS_v2_2009-06.xz\n",
      "/shared/2/datasets/reddit-dump-all/RS/RS_v2_2009-05.xz\n",
      "/shared/2/datasets/reddit-dump-all/RS/RS_v2_2009-04.xz\n",
      "/shared/2/datasets/reddit-dump-all/RS/RS_v2_2009-03.xz\n",
      "/shared/2/datasets/reddit-dump-all/RS/RS_v2_2009-02.xz\n",
      "/shared/2/datasets/reddit-dump-all/RS/RS_v2_2009-01.xz\n",
      "/shared/2/datasets/reddit-dump-all/RS/RS_v2_2008-12.xz\n",
      "/shared/2/datasets/reddit-dump-all/RS/RS_v2_2008-11.xz\n",
      "/shared/2/datasets/reddit-dump-all/RS/RS_v2_2008-10.xz\n",
      "/shared/2/datasets/reddit-dump-all/RS/RS_v2_2008-09.xz\n",
      "/shared/2/datasets/reddit-dump-all/RS/RS_v2_2008-08.xz\n",
      "/shared/2/datasets/reddit-dump-all/RS/RS_v2_2008-07.xz\n",
      "/shared/2/datasets/reddit-dump-all/RC/RC_2019-12.zst\n",
      "AttributeError(\"module 'zstandard' has no attribute 'open'\")\n",
      "/shared/2/datasets/reddit-dump-all/RC/RC_2019-11.zst\n",
      "AttributeError(\"module 'zstandard' has no attribute 'open'\")\n",
      "/shared/2/datasets/reddit-dump-all/RC/RC_2019-10.zst\n",
      "AttributeError(\"module 'zstandard' has no attribute 'open'\")\n",
      "/shared/2/datasets/reddit-dump-all/RC/RC_2019-09.zst\n",
      "AttributeError(\"module 'zstandard' has no attribute 'open'\")\n",
      "/shared/2/datasets/reddit-dump-all/RC/RC_2019-08.zst\n",
      "AttributeError(\"module 'zstandard' has no attribute 'open'\")\n",
      "/shared/2/datasets/reddit-dump-all/RC/RC_2019-07-01-24.xz\n",
      "KeyboardInterrupt()\n",
      "/shared/2/datasets/reddit-dump-all/RS/RS_2019-07-01-24.xz\n",
      "KeyboardInterrupt()\n",
      "\n"
     ]
    },
    {
     "ename": "KeyboardInterrupt",
     "evalue": "",
     "output_type": "error",
     "traceback": [
      "\u001b[0;31m---------------------------------------------------------------------------\u001b[0m",
      "\u001b[0;31mKeyboardInterrupt\u001b[0m                         Traceback (most recent call last)",
      "\u001b[0;32m<ipython-input-7-e7092989e103>\u001b[0m in \u001b[0;36m<module>\u001b[0;34m\u001b[0m\n\u001b[1;32m     32\u001b[0m     \u001b[0;32mwith\u001b[0m \u001b[0mopen\u001b[0m\u001b[0;34m(\u001b[0m\u001b[0moutput_dir\u001b[0m \u001b[0;34m+\u001b[0m \u001b[0mmonth\u001b[0m \u001b[0;34m+\u001b[0m \u001b[0;34m'.tsv'\u001b[0m\u001b[0;34m,\u001b[0m \u001b[0;34m'wt'\u001b[0m\u001b[0;34m)\u001b[0m \u001b[0;32mas\u001b[0m \u001b[0moutf\u001b[0m\u001b[0;34m:\u001b[0m\u001b[0;34m\u001b[0m\u001b[0;34m\u001b[0m\u001b[0m\n\u001b[1;32m     33\u001b[0m         \u001b[0;32mfor\u001b[0m \u001b[0muser\u001b[0m\u001b[0;34m,\u001b[0m \u001b[0mscs\u001b[0m \u001b[0;32min\u001b[0m \u001b[0muser_to_subreddit_counts\u001b[0m\u001b[0;34m.\u001b[0m\u001b[0mitems\u001b[0m\u001b[0;34m(\u001b[0m\u001b[0;34m)\u001b[0m\u001b[0;34m:\u001b[0m\u001b[0;34m\u001b[0m\u001b[0;34m\u001b[0m\u001b[0m\n\u001b[0;32m---> 34\u001b[0;31m             \u001b[0;32mfor\u001b[0m \u001b[0msub\u001b[0m\u001b[0;34m,\u001b[0m \u001b[0mcount\u001b[0m \u001b[0;32min\u001b[0m \u001b[0mscs\u001b[0m\u001b[0;34m.\u001b[0m\u001b[0mitems\u001b[0m\u001b[0;34m(\u001b[0m\u001b[0;34m)\u001b[0m\u001b[0;34m:\u001b[0m\u001b[0;34m\u001b[0m\u001b[0;34m\u001b[0m\u001b[0m\n\u001b[0m\u001b[1;32m     35\u001b[0m                 \u001b[0moutf\u001b[0m\u001b[0;34m.\u001b[0m\u001b[0mwrite\u001b[0m\u001b[0;34m(\u001b[0m\u001b[0muser\u001b[0m \u001b[0;34m+\u001b[0m \u001b[0;34m'\\t'\u001b[0m \u001b[0;34m+\u001b[0m \u001b[0msub\u001b[0m \u001b[0;34m+\u001b[0m \u001b[0;34m'\\t'\u001b[0m \u001b[0;34m+\u001b[0m \u001b[0mstr\u001b[0m\u001b[0;34m(\u001b[0m\u001b[0mcount\u001b[0m\u001b[0;34m)\u001b[0m \u001b[0;34m+\u001b[0m \u001b[0;34m'\\n'\u001b[0m\u001b[0;34m)\u001b[0m\u001b[0;34m\u001b[0m\u001b[0;34m\u001b[0m\u001b[0m\n",
      "\u001b[0;31mKeyboardInterrupt\u001b[0m: "
     ]
    }
   ],
   "source": [
    "output_dir = '/shared/0/projects/reddit-political-affiliation/data/bipartite-networks/'\n",
    "\n",
    "def get_file_type(fname):\n",
    "    if fname.endswith('bz2'):\n",
    "        return bz2\n",
    "    elif fname.endswith('xz'):\n",
    "        return lzma\n",
    "    else:\n",
    "        return zstd\n",
    "    \n",
    "#for month, mfiles in tqdm(month_to_files.items(), total=len(month_to_files)):\n",
    "for month in tqdm(months):\n",
    "    mfiles = month_to_files[month]    \n",
    "    user_to_subreddit_counts = defaultdict(Counter)\n",
    "    for fname in mfiles:\n",
    "        print(fname)\n",
    "\n",
    "        ftype = get_file_type(fname)\n",
    "        try:\n",
    "            with ftype.open(fname, 'rt') as f:\n",
    "                for line in f:\n",
    "                    try:\n",
    "                        action = json.loads(line) # post or comment\n",
    "                        subreddit = action['subreddit']\n",
    "                        user = action['author']\n",
    "                        user_to_subreddit_counts[user][subreddit] += 1\n",
    "                    except KeyError as e:\n",
    "                        #print(repr(e))\n",
    "                        pass\n",
    "        except BaseException as e:\n",
    "            print(repr(e))\n",
    "    with open(output_dir + month + '.tsv', 'wt') as outf:\n",
    "        for user, scs in user_to_subreddit_counts.items():\n",
    "            for sub, count in scs.items():\n",
    "                outf.write(user + '\\t' + sub + '\\t' + str(count) + '\\n')"
   ]
  }
 ],
 "metadata": {
  "kernelspec": {
   "display_name": "Python 3",
   "language": "python",
   "name": "python3"
  },
  "language_info": {
   "codemirror_mode": {
    "name": "ipython",
    "version": 3
   },
   "file_extension": ".py",
   "mimetype": "text/x-python",
   "name": "python",
   "nbconvert_exporter": "python",
   "pygments_lexer": "ipython3",
   "version": "3.6.8"
  }
 },
 "nbformat": 4,
 "nbformat_minor": 2
}
