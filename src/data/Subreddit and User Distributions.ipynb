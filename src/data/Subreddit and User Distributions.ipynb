{
 "cells": [
  {
   "cell_type": "markdown",
   "metadata": {},
   "source": [
    "# Subreddit submission count distribution"
   ]
  },
  {
   "cell_type": "code",
   "execution_count": 79,
   "metadata": {},
   "outputs": [],
   "source": [
    "import json\n",
    "import gzip\n",
    "import bz2\n",
    "import lzma\n",
    "import glob\n",
    "from os.path import basename\n",
    "from collections import *\n",
    "from tqdm.notebook import tqdm\n",
    "import ast\n",
    "import networkx as nx\n",
    "import random\n",
    "import pickle\n",
    "from collections import Counter\n",
    "import numpy as np\n",
    "import pandas as pd\n",
    "import seaborn as sns\n",
    "from scipy import stats\n",
    "\n",
    "sns.set(color_codes=True)\n",
    "year = '2018'"
   ]
  },
  {
   "cell_type": "code",
   "execution_count": 80,
   "metadata": {
    "scrolled": true
   },
   "outputs": [
    {
     "data": {
      "application/vnd.jupyter.widget-view+json": {
       "model_id": "c460ac9823744173813f9faf5cb8f4d0",
       "version_major": 2,
       "version_minor": 0
      },
      "text/plain": [
       "HBox(children=(FloatProgress(value=0.0, description='Processing all files', max=12.0, style=ProgressStyle(desc…"
      ]
     },
     "metadata": {},
     "output_type": "display_data"
    },
    {
     "data": {
      "application/vnd.jupyter.widget-view+json": {
       "model_id": "4976a99b1be04b62922a50cd3f93815d",
       "version_major": 2,
       "version_minor": 0
      },
      "text/plain": [
       "HBox(children=(FloatProgress(value=0.0, description='Counting subreddit and user frequency', max=21725802.0, s…"
      ]
     },
     "metadata": {},
     "output_type": "display_data"
    },
    {
     "name": "stdout",
     "output_type": "stream",
     "text": [
      "\n"
     ]
    },
    {
     "data": {
      "application/vnd.jupyter.widget-view+json": {
       "model_id": "2676eb174ace407096398f45b41f1690",
       "version_major": 2,
       "version_minor": 0
      },
      "text/plain": [
       "HBox(children=(FloatProgress(value=0.0, description='Counting subreddit and user frequency', max=27037101.0, s…"
      ]
     },
     "metadata": {},
     "output_type": "display_data"
    },
    {
     "name": "stdout",
     "output_type": "stream",
     "text": [
      "\n"
     ]
    },
    {
     "data": {
      "application/vnd.jupyter.widget-view+json": {
       "model_id": "e9de081b12334dac936b67c72475cacd",
       "version_major": 2,
       "version_minor": 0
      },
      "text/plain": [
       "HBox(children=(FloatProgress(value=0.0, description='Counting subreddit and user frequency', max=23899525.0, s…"
      ]
     },
     "metadata": {},
     "output_type": "display_data"
    },
    {
     "name": "stdout",
     "output_type": "stream",
     "text": [
      "\n"
     ]
    },
    {
     "data": {
      "application/vnd.jupyter.widget-view+json": {
       "model_id": "7427fc2ba4694286940fc6377417964b",
       "version_major": 2,
       "version_minor": 0
      },
      "text/plain": [
       "HBox(children=(FloatProgress(value=0.0, description='Counting subreddit and user frequency', max=25035919.0, s…"
      ]
     },
     "metadata": {},
     "output_type": "display_data"
    },
    {
     "name": "stdout",
     "output_type": "stream",
     "text": [
      "\n"
     ]
    },
    {
     "data": {
      "application/vnd.jupyter.widget-view+json": {
       "model_id": "874ef26c9c70400ea0407fa89f337b5f",
       "version_major": 2,
       "version_minor": 0
      },
      "text/plain": [
       "HBox(children=(FloatProgress(value=0.0, description='Counting subreddit and user frequency', max=21132657.0, s…"
      ]
     },
     "metadata": {},
     "output_type": "display_data"
    },
    {
     "name": "stdout",
     "output_type": "stream",
     "text": [
      "\n"
     ]
    },
    {
     "data": {
      "application/vnd.jupyter.widget-view+json": {
       "model_id": "c8bb06f649de48c890aee37fbc3489bf",
       "version_major": 2,
       "version_minor": 0
      },
      "text/plain": [
       "HBox(children=(FloatProgress(value=0.0, description='Counting subreddit and user frequency', max=21853832.0, s…"
      ]
     },
     "metadata": {},
     "output_type": "display_data"
    },
    {
     "name": "stdout",
     "output_type": "stream",
     "text": [
      "\n"
     ]
    },
    {
     "data": {
      "application/vnd.jupyter.widget-view+json": {
       "model_id": "378176be2faf4630b48b79e1444f0080",
       "version_major": 2,
       "version_minor": 0
      },
      "text/plain": [
       "HBox(children=(FloatProgress(value=0.0, description='Counting subreddit and user frequency', max=19026070.0, s…"
      ]
     },
     "metadata": {},
     "output_type": "display_data"
    },
    {
     "name": "stdout",
     "output_type": "stream",
     "text": [
      "\n"
     ]
    },
    {
     "data": {
      "application/vnd.jupyter.widget-view+json": {
       "model_id": "26c55258671148b7b819eb9f6a4c1dff",
       "version_major": 2,
       "version_minor": 0
      },
      "text/plain": [
       "HBox(children=(FloatProgress(value=0.0, description='Counting subreddit and user frequency', max=25147021.0, s…"
      ]
     },
     "metadata": {},
     "output_type": "display_data"
    },
    {
     "name": "stdout",
     "output_type": "stream",
     "text": [
      "\n"
     ]
    },
    {
     "data": {
      "application/vnd.jupyter.widget-view+json": {
       "model_id": "a08d6a86a4e34451811cdb4c360bffae",
       "version_major": 2,
       "version_minor": 0
      },
      "text/plain": [
       "HBox(children=(FloatProgress(value=0.0, description='Counting subreddit and user frequency', max=23490048.0, s…"
      ]
     },
     "metadata": {},
     "output_type": "display_data"
    },
    {
     "name": "stdout",
     "output_type": "stream",
     "text": [
      "\n"
     ]
    },
    {
     "data": {
      "application/vnd.jupyter.widget-view+json": {
       "model_id": "8d6f5f5f808a4125b06fc873bf3c603e",
       "version_major": 2,
       "version_minor": 0
      },
      "text/plain": [
       "HBox(children=(FloatProgress(value=0.0, description='Counting subreddit and user frequency', max=23888064.0, s…"
      ]
     },
     "metadata": {},
     "output_type": "display_data"
    },
    {
     "name": "stdout",
     "output_type": "stream",
     "text": [
      "\n"
     ]
    },
    {
     "data": {
      "application/vnd.jupyter.widget-view+json": {
       "model_id": "0578c79577f74d7c855c56deb4210b7d",
       "version_major": 2,
       "version_minor": 0
      },
      "text/plain": [
       "HBox(children=(FloatProgress(value=0.0, description='Counting subreddit and user frequency', max=20628876.0, s…"
      ]
     },
     "metadata": {},
     "output_type": "display_data"
    },
    {
     "name": "stdout",
     "output_type": "stream",
     "text": [
      "\n"
     ]
    },
    {
     "data": {
      "application/vnd.jupyter.widget-view+json": {
       "model_id": "a3546f2aabe84e4e887500c166d0c633",
       "version_major": 2,
       "version_minor": 0
      },
      "text/plain": [
       "HBox(children=(FloatProgress(value=0.0, description='Counting subreddit and user frequency', max=19413643.0, s…"
      ]
     },
     "metadata": {},
     "output_type": "display_data"
    },
    {
     "name": "stdout",
     "output_type": "stream",
     "text": [
      "\n",
      "\n"
     ]
    }
   ],
   "source": [
    "directory = '/shared/0/projects/reddit-political-affiliation/data/bipartite-networks/' + year + '*.tsv'\n",
    "files = glob.glob(directory)\n",
    "\n",
    "subreddit_submissions = Counter()\n",
    "user_submissions = Counter()\n",
    "\n",
    "for fname in tqdm(files, desc='Processing all files'):\n",
    "        with open(fname, 'rt') as f:\n",
    "            lines = f.readlines()\n",
    "\n",
    "        for line in tqdm(lines, position=1, desc='Counting subreddit and user frequency'):\n",
    "            user, subreddit, freq = line[:-1].split('\\t')\n",
    "            freq = int(freq)\n",
    "            subreddit = 'r/' + subreddit\n",
    "            subreddit_submissions[subreddit] += int(freq)\n",
    "            user_submissions[user] += int(freq)"
   ]
  },
  {
   "cell_type": "code",
   "execution_count": 81,
   "metadata": {},
   "outputs": [
    {
     "name": "stdout",
     "output_type": "stream",
     "text": [
      "[('r/AskReddit', 68695877), ('r/politics', 24074116), ('r/nba', 13915888), ('r/The_Donald', 11899507), ('r/FortNiteBR', 11011773), ('r/funny', 10831789), ('r/worldnews', 10816067), ('r/nfl', 10404955), ('r/soccer', 10084874), ('r/news', 9787184)]\n",
      "[('[deleted]', 123618540), ('AutoModerator', 12617832), ('AutoNewsAdmin', 2367354), ('AutoNewspaperAdmin', 2243750), ('-en-', 1186025), ('MemeInvestor_bot', 1070703), ('transcribersofreddit', 810508), ('RPBot', 700379), ('transcribot', 524719), ('peterboykin', 522859)]\n"
     ]
    }
   ],
   "source": [
    "print(subreddit_submissions.most_common(10))\n",
    "print(user_submissions.most_common(10))"
   ]
  },
  {
   "cell_type": "code",
   "execution_count": 82,
   "metadata": {},
   "outputs": [
    {
     "name": "stdout",
     "output_type": "stream",
     "text": [
      "Average # of subreddit submissions: 834\n",
      "Standard deviation: 68698\n",
      "Lower quartile: 1\n",
      "Upper quartile: 5\n"
     ]
    },
    {
     "data": {
      "text/plain": [
       "<matplotlib.axes._subplots.AxesSubplot at 0x7f3fca7a64d0>"
      ]
     },
     "execution_count": 82,
     "metadata": {},
     "output_type": "execute_result"
    },
    {
     "data": {
      "image/png": "[encoded data removed]",
      "text/plain": [
       "<Figure size 432x288 with 1 Axes>"
      ]
     },
     "metadata": {},
     "output_type": "display_data"
    }
   ],
   "source": [
    "results = np.array(list(subreddit_submissions.values()))\n",
    "\n",
    "print(\"Average # of subreddit submissions: %d\" % np.mean(results))\n",
    "print(\"Standard deviation: %d\" % np.std(results))\n",
    "print(\"Lower quartile: %d\" % np.quantile(results, 0.25))\n",
    "print(\"Upper quartile: %d\" % np.quantile(results, 0.75))\n",
    "\n",
    "sns.distplot(results, hist=False)"
   ]
  },
  {
   "cell_type": "code",
   "execution_count": 83,
   "metadata": {},
   "outputs": [
    {
     "name": "stdout",
     "output_type": "stream",
     "text": [
      "Submission count of 3+: 198101\n",
      "Submission count of 5+: 153967\n",
      "Submission count of 10+: 113285\n",
      "Submission count of 25+: 50561\n",
      "Submission count of 50+: 33352\n",
      "Submission count of 100+: 28071\n",
      "Submission count of 250+: 14185\n",
      "Submission count of 500+: 10027\n",
      "Submission count of 1000+: 17701\n",
      "Submission count of 10000+: 6248\n",
      "Submission count of 100000+: 1742\n",
      "Submission count of 1000000+: 200\n"
     ]
    },
    {
     "data": {
      "text/plain": [
       "<matplotlib.axes._subplots.AxesSubplot at 0x7f3fc2a0f9d0>"
      ]
     },
     "execution_count": 83,
     "metadata": {},
     "output_type": "execute_result"
    },
    {
     "data": {
      "image/png": "[encoded data removed]",
      "text/plain": [
       "<Figure size 432x288 with 1 Axes>"
      ]
     },
     "metadata": {},
     "output_type": "display_data"
    }
   ],
   "source": [
    "bins = np.array([3, 5, 10, 25, 50, 100, 250, 500, 1000, 10000, 100000, 1000000, 10000000])\n",
    "df = pd.DataFrame(data=results, columns=[\"data\"])\n",
    "df[\"bucket\"] = pd.cut(df.data, bins)\n",
    "\n",
    "frequency, bins = np.histogram(results, bins)\n",
    "for i in range(len(bins) - 1):\n",
    "    print(\"Submission count of %d+: %d\" % (bins[i], frequency[i]))\n",
    "    \n",
    "sns.barplot(x=bins[:10], y=frequency[:10])"
   ]
  },
  {
   "cell_type": "markdown",
   "metadata": {},
   "source": [
    "# User Submission Distributions"
   ]
  },
  {
   "cell_type": "code",
   "execution_count": 84,
   "metadata": {},
   "outputs": [
    {
     "name": "stdout",
     "output_type": "stream",
     "text": [
      "Average # of subreddit submissions: 76\n",
      "Standard deviation: 29179\n",
      "Lower quartile: 2\n",
      "Upper quartile: 25\n"
     ]
    },
    {
     "data": {
      "text/plain": [
       "<matplotlib.axes._subplots.AxesSubplot at 0x7f41eaa92850>"
      ]
     },
     "execution_count": 84,
     "metadata": {},
     "output_type": "execute_result"
    },
    {
     "data": {
      "image/png": "[encoded data removed]",
      "text/plain": [
       "<Figure size 432x288 with 1 Axes>"
      ]
     },
     "metadata": {},
     "output_type": "display_data"
    }
   ],
   "source": [
    "user_results = np.array(list(user_submissions.values()))\n",
    "\n",
    "print(\"Average # of subreddit submissions: %d\" % np.mean(user_results))\n",
    "print(\"Standard deviation: %d\" % np.std(user_results))\n",
    "print(\"Lower quartile: %d\" % np.quantile(user_results, 0.25))\n",
    "print(\"Upper quartile: %d\" % np.quantile(user_results, 0.75))\n",
    "    \n",
    "sns.distplot(user_results, hist=False)"
   ]
  },
  {
   "cell_type": "code",
   "execution_count": 85,
   "metadata": {},
   "outputs": [
    {
     "name": "stdout",
     "output_type": "stream",
     "text": [
      "Submission count of 5+: 2364732\n",
      "Submission count of 10+: 2465347\n",
      "Submission count of 25+: 1465608\n",
      "Submission count of 50+: 1140641\n",
      "Submission count of 100+: 1034665\n",
      "Submission count of 250+: 478365\n",
      "Submission count of 500+: 281450\n",
      "Submission count of 1000+: 210119\n",
      "Submission count of 5000+: 11190\n",
      "Submission count of 10000+: 2439\n",
      "Submission count of 100000+: 45\n"
     ]
    },
    {
     "data": {
      "text/plain": [
       "<matplotlib.axes._subplots.AxesSubplot at 0x7f3f3820a5d0>"
      ]
     },
     "execution_count": 85,
     "metadata": {},
     "output_type": "execute_result"
    },
    {
     "data": {
      "image/png": "[encoded data removed]",
      "text/plain": [
       "<Figure size 432x288 with 1 Axes>"
      ]
     },
     "metadata": {},
     "output_type": "display_data"
    }
   ],
   "source": [
    "bins = np.array([5, 10, 25, 50, 100, 250, 500, 1000, 5000, 10000, 100000, 1000000])\n",
    "df = pd.DataFrame(data=user_results, columns=[\"data\"])\n",
    "df[\"bucket\"] = pd.cut(df.data, bins)\n",
    "\n",
    "frequency, bins = np.histogram(user_results, bins)\n",
    "for i in range(len(bins) - 1):\n",
    "    print(\"Submission count of %d+: %d\" % (bins[i], frequency[i]))\n",
    "    \n",
    "sns.barplot(x=bins[:10], y=frequency[:10])"
   ]
  },
  {
   "cell_type": "markdown",
   "metadata": {},
   "source": [
    "### Save Data"
   ]
  },
  {
   "cell_type": "code",
   "execution_count": 86,
   "metadata": {},
   "outputs": [
    {
     "name": "stdout",
     "output_type": "stream",
     "text": [
      "Saving subreddit distribution\n",
      "Saving user distribution \n"
     ]
    }
   ],
   "source": [
    "# Save results to TSV\n",
    "out_dir = '/shared/0/projects/reddit-political-affiliation/data/distributions/'\n",
    "\n",
    "print(\"Saving subreddit distribution\")\n",
    "with open(out_dir + year + '_subreddits.tsv', 'w') as f:\n",
    "    for element in subreddit_submissions:\n",
    "        f.write('%s\\t%d\\n' % (element, subreddit_submissions[element]))\n",
    "\n",
    "print(\"Saving user distribution \")\n",
    "with open(out_dir + year + '_users.tsv', 'w') as f:\n",
    "    for element in user_submissions:\n",
    "        f.write('%s\\t%d\\n' % (element, user_submissions[element]))"
   ]
  }
 ],
 "metadata": {
  "kernelspec": {
   "display_name": "Python 3",
   "language": "python",
   "name": "python3"
  },
  "language_info": {
   "codemirror_mode": {
    "name": "ipython",
    "version": 3
   },
   "file_extension": ".py",
   "mimetype": "text/x-python",
   "name": "python",
   "nbconvert_exporter": "python",
   "pygments_lexer": "ipython3",
   "version": "3.7.4"
  }
 },
 "nbformat": 4,
 "nbformat_minor": 2
}
