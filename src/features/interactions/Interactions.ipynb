{
 "cells": [
  {
   "cell_type": "markdown",
   "metadata": {},
   "source": [
    "# Interactions"
   ]
  },
  {
   "cell_type": "code",
   "execution_count": 6,
   "metadata": {},
   "outputs": [],
   "source": [
    "import sys\n",
    "import glob\n",
    "import numpy as np\n",
    "import pandas as pd\n",
    "from collections import defaultdict\n",
    "\n",
    "sys.path.append('/home/kalkiek/projects/reddit-political-affiliation/')\n",
    "\n",
    "from src.data.date_helper import read_submissions\n",
    "from src.features.interactions.political_comment import PoliticalComment"
   ]
  },
  {
   "cell_type": "markdown",
   "metadata": {},
   "source": [
    "### Quick Clean Up\n",
    "\n",
    "I forgot to  remove 't1' prefix from some of the comment IDs\n",
    "\n",
    "We also need to remove any bot accounts"
   ]
  },
  {
   "cell_type": "code",
   "execution_count": 2,
   "metadata": {},
   "outputs": [
    {
     "name": "stdout",
     "output_type": "stream",
     "text": [
      "Known bots: 393\n"
     ]
    }
   ],
   "source": [
    "def grab_bot_accounts():\n",
    "    fname = '/shared/0/projects/prosocial/known-bots.tsv'\n",
    "    bots = []\n",
    "\n",
    "    with open(fname, 'rt') as f:\n",
    "        lines = f.readlines()\n",
    "\n",
    "        for line in lines:\n",
    "            bots.append(line.split('\\t')[1])\n",
    "\n",
    "    print(\"Known bots: %d\" % len(bots))\n",
    "    return bots\n",
    "\n",
    "bots = grab_bot_accounts()\n",
    "bots.extend('[deleted]')"
   ]
  },
  {
   "cell_type": "markdown",
   "metadata": {},
   "source": [
    "###  Can't run this until the script is done running! We'll run it in a few days"
   ]
  },
  {
   "cell_type": "code",
   "execution_count": 6,
   "metadata": {},
   "outputs": [
    {
     "name": "stdout",
     "output_type": "stream",
     "text": [
      "Total number of political comments: 113921968\n"
     ]
    }
   ],
   "source": [
    "def remove_id_prefix_and_bots(in_file):\n",
    "    comments = 0\n",
    "    with open(in_file, 'r') as f:\n",
    "        for line in f:\n",
    "            comment_id, parent_id, username, subreddit, created, politics, text = line.split('\\t')\n",
    "            if username not in bots:\n",
    "                if comment_id[:2] == 't1':\n",
    "                    comment_id = comment_id[3:]\n",
    "                if parent_id[:2] == 't1':\n",
    "                    parent_id = parent_id[3:]\n",
    "\n",
    "                comments += 1\n",
    "                political_comment = PoliticalComment(comment_id, parent_id, username, subreddit, created, politics, text)\n",
    "                yield political_comment\n",
    "\n",
    "    print(\"Total number of political comments: {}\".format(comments))\n",
    "\n",
    "in_file = '/shared/0/projects/reddit-political-affiliation/data/interactions/all_comments.tsv'\n",
    "out_file = '/shared/0/projects/reddit-political-affiliation/data/interactions/all_comments_filtered.tsv'\n",
    "\n",
    "with open(out_file, 'w') as out_f:\n",
    "    for comment in filtered_comments(in_file):\n",
    "        out_f.write(comment.to_tsv_row())"
   ]
  },
  {
   "cell_type": "markdown",
   "metadata": {},
   "source": [
    "## Reading In The Data\n",
    "\n",
    "Sample of how to read the data in"
   ]
  },
  {
   "cell_type": "code",
   "execution_count": 9,
   "metadata": {},
   "outputs": [
    {
     "data": {
      "text/html": [
       "<div>\n",
       "<style scoped>\n",
       "    .dataframe tbody tr th:only-of-type {\n",
       "        vertical-align: middle;\n",
       "    }\n",
       "\n",
       "    .dataframe tbody tr th {\n",
       "        vertical-align: top;\n",
       "    }\n",
       "\n",
       "    .dataframe thead th {\n",
       "        text-align: right;\n",
       "    }\n",
       "</style>\n",
       "<table border=\"1\" class=\"dataframe\">\n",
       "  <thead>\n",
       "    <tr style=\"text-align: right;\">\n",
       "      <th></th>\n",
       "      <th>comment_id</th>\n",
       "      <th>parent_id</th>\n",
       "      <th>username</th>\n",
       "      <th>subreddit</th>\n",
       "      <th>created</th>\n",
       "      <th>politics</th>\n",
       "      <th>text</th>\n",
       "    </tr>\n",
       "  </thead>\n",
       "  <tbody>\n",
       "    <tr>\n",
       "      <th>0</th>\n",
       "      <td>eypc9zv</td>\n",
       "      <td>t1_eyp9duh</td>\n",
       "      <td>CueDramaticMusic</td>\n",
       "      <td>tumblr</td>\n",
       "      <td>1567296002</td>\n",
       "      <td>Democrat</td>\n",
       "      <td></td>\n",
       "    </tr>\n",
       "    <tr>\n",
       "      <th>1</th>\n",
       "      <td>eypca5l</td>\n",
       "      <td>t1_eypby8b</td>\n",
       "      <td>ninethirtyone</td>\n",
       "      <td>news</td>\n",
       "      <td>1567296005</td>\n",
       "      <td>Democrat</td>\n",
       "      <td></td>\n",
       "    </tr>\n",
       "    <tr>\n",
       "      <th>2</th>\n",
       "      <td>eypca5t</td>\n",
       "      <td>t3_cy2nlj</td>\n",
       "      <td>lostapwbm</td>\n",
       "      <td>SquaredCircle</td>\n",
       "      <td>1567296006</td>\n",
       "      <td>Democrat</td>\n",
       "      <td></td>\n",
       "    </tr>\n",
       "    <tr>\n",
       "      <th>3</th>\n",
       "      <td>eypcabv</td>\n",
       "      <td>t1_eyonlbn</td>\n",
       "      <td>needler14</td>\n",
       "      <td>ABoringDystopia</td>\n",
       "      <td>1567296009</td>\n",
       "      <td>Democrat</td>\n",
       "      <td></td>\n",
       "    </tr>\n",
       "    <tr>\n",
       "      <th>4</th>\n",
       "      <td>eypcac1</td>\n",
       "      <td>t3_cy09os</td>\n",
       "      <td>LimpWibbler_</td>\n",
       "      <td>funny</td>\n",
       "      <td>1567296009</td>\n",
       "      <td>Democrat</td>\n",
       "      <td></td>\n",
       "    </tr>\n",
       "  </tbody>\n",
       "</table>\n",
       "</div>"
      ],
      "text/plain": [
       "  comment_id   parent_id          username        subreddit     created  \\\n",
       "0    eypc9zv  t1_eyp9duh  CueDramaticMusic           tumblr  1567296002   \n",
       "1    eypca5l  t1_eypby8b     ninethirtyone             news  1567296005   \n",
       "2    eypca5t   t3_cy2nlj         lostapwbm    SquaredCircle  1567296006   \n",
       "3    eypcabv  t1_eyonlbn         needler14  ABoringDystopia  1567296009   \n",
       "4    eypcac1   t3_cy09os      LimpWibbler_            funny  1567296009   \n",
       "\n",
       "   politics text  \n",
       "0  Democrat       \n",
       "1  Democrat       \n",
       "2  Democrat       \n",
       "3  Democrat       \n",
       "4  Democrat       "
      ]
     },
     "execution_count": 9,
     "metadata": {},
     "output_type": "execute_result"
    }
   ],
   "source": [
    "in_file = '/shared/0/projects/reddit-political-affiliation/data/interactions/comment_ids.tsv'\n",
    "\n",
    "def read_in_comments(in_file, count=-1):\n",
    "    comments = []\n",
    "    with open(in_file, 'r') as f:\n",
    "        for line in f:\n",
    "            line = line.strip()\n",
    "            comment_id, parent_id, username, subreddit, created, politics = line.split('\\t')\n",
    "            political_comment = PoliticalComment(comment_id, parent_id, username, subreddit, created, politics)\n",
    "            comments.append(political_comment.to_dict())\n",
    "            if count > 0 and len(comments) >= count:\n",
    "                return comments\n",
    "            \n",
    "    print(\"Total number of political comments: {}\".format(len(comments)))\n",
    "    return comments\n",
    "\n",
    "\n",
    "        \n",
    "comments = read_in_comments(in_file, count=100)\n",
    "df_comments = pd.DataFrame(comments)\n",
    "df_comments.head()"
   ]
  },
  {
   "cell_type": "markdown",
   "metadata": {},
   "source": [
    "# Bucket about dyadic affiliation composition (e.g,. Liberal+Liberal)"
   ]
  },
  {
   "cell_type": "code",
   "execution_count": null,
   "metadata": {},
   "outputs": [],
   "source": []
  },
  {
   "cell_type": "markdown",
   "metadata": {},
   "source": [
    "# Comments in same subreddit made at a similar time point"
   ]
  },
  {
   "cell_type": "code",
   "execution_count": null,
   "metadata": {},
   "outputs": [],
   "source": []
  }
 ],
 "metadata": {
  "kernelspec": {
   "display_name": "Python 3",
   "language": "python",
   "name": "python3"
  },
  "language_info": {
   "codemirror_mode": {
    "name": "ipython",
    "version": 3
   },
   "file_extension": ".py",
   "mimetype": "text/x-python",
   "name": "python",
   "nbconvert_exporter": "python",
   "pygments_lexer": "ipython3",
   "version": "3.6.8"
  }
 },
 "nbformat": 4,
 "nbformat_minor": 2
}
