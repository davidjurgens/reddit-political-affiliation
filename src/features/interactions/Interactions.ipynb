{
 "cells": [
  {
   "cell_type": "markdown",
   "metadata": {},
   "source": [
    "# Interactions"
   ]
  },
  {
   "cell_type": "code",
   "execution_count": 2,
   "metadata": {},
   "outputs": [],
   "source": [
    "import sys\n",
    "import glob\n",
    "import numpy as np\n",
    "import pandas as pd\n",
    "from collections import defaultdict\n",
    "\n",
    "sys.path.append('/home/kalkiek/projects/reddit-political-affiliation/')\n",
    "\n",
    "from src.data.date_helper import read_submissions\n",
    "from src.features.interactions.political_comment import PoliticalComment"
   ]
  },
  {
   "cell_type": "markdown",
   "metadata": {},
   "source": [
    "### Quick Clean Up\n",
    "\n",
    "I forgot to  remove 't1' prefix from some of the comment IDs\n",
    "\n",
    "We also need to remove any bot accounts"
   ]
  },
  {
   "cell_type": "code",
   "execution_count": 3,
   "metadata": {},
   "outputs": [
    {
     "name": "stdout",
     "output_type": "stream",
     "text": [
      "Known bots: 393\n"
     ]
    }
   ],
   "source": [
    "def grab_bot_accounts():\n",
    "    fname = '/shared/0/projects/prosocial/known-bots.tsv'\n",
    "    bots = []\n",
    "\n",
    "    with open(fname, 'rt') as f:\n",
    "        lines = f.readlines()\n",
    "\n",
    "        for line in lines:\n",
    "            bots.append(line.split('\\t')[1])\n",
    "\n",
    "    print(\"Known bots: %d\" % len(bots))\n",
    "    return bots\n",
    "\n",
    "bots = grab_bot_accounts()\n",
    "bots.extend('[deleted]')"
   ]
  },
  {
   "cell_type": "markdown",
   "metadata": {},
   "source": [
    "###  Can't run this until the script is done running! We'll run it in a few days"
   ]
  },
  {
   "cell_type": "code",
   "execution_count": 6,
   "metadata": {},
   "outputs": [
    {
     "name": "stdout",
     "output_type": "stream",
     "text": [
      "Total number of political comments: 113921968\n"
     ]
    }
   ],
   "source": [
    "# def remove_id_prefix_and_bots(in_file):\n",
    "#     comments = 0\n",
    "#     with open(in_file, 'r') as f:\n",
    "#         for line in f:\n",
    "#             comment_id, parent_id, username, subreddit, created, politics, text = line.split('\\t')\n",
    "#             if username not in bots:\n",
    "#                 if comment_id[:2] == 't1':\n",
    "#                     comment_id = comment_id[3:]\n",
    "#                 if parent_id[:2] == 't1':\n",
    "#                     parent_id = parent_id[3:]\n",
    "\n",
    "#                 comments += 1\n",
    "#                 political_comment = PoliticalComment(comment_id, parent_id, username, subreddit, created, politics, text)\n",
    "#                 yield political_comment\n",
    "\n",
    "#     print(\"Total number of political comments: {}\".format(comments))\n",
    "\n",
    "# in_file = '/shared/0/projects/reddit-political-affiliation/data/interactions/all_comments.tsv'\n",
    "# out_file = '/shared/0/projects/reddit-political-affiliation/data/interactions/all_comments_filtered.tsv'\n",
    "\n",
    "# with open(out_file, 'w') as out_f:\n",
    "#     for comment in filtered_comments(in_file):\n",
    "#         out_f.write(comment.to_tsv_row())"
   ]
  },
  {
   "cell_type": "markdown",
   "metadata": {},
   "source": [
    "## Reading In The Data\n",
    "\n",
    "Sample of how to read the data in"
   ]
  },
  {
   "cell_type": "code",
   "execution_count": 32,
   "metadata": {},
   "outputs": [
    {
     "name": "stdout",
     "output_type": "stream",
     "text": [
      "500000\n"
     ]
    },
    {
     "data": {
      "text/html": [
       "<div>\n",
       "<style scoped>\n",
       "    .dataframe tbody tr th:only-of-type {\n",
       "        vertical-align: middle;\n",
       "    }\n",
       "\n",
       "    .dataframe tbody tr th {\n",
       "        vertical-align: top;\n",
       "    }\n",
       "\n",
       "    .dataframe thead th {\n",
       "        text-align: right;\n",
       "    }\n",
       "</style>\n",
       "<table border=\"1\" class=\"dataframe\">\n",
       "  <thead>\n",
       "    <tr style=\"text-align: right;\">\n",
       "      <th></th>\n",
       "      <th>comment_id</th>\n",
       "      <th>parent_id</th>\n",
       "      <th>username</th>\n",
       "      <th>subreddit</th>\n",
       "      <th>created</th>\n",
       "      <th>politics</th>\n",
       "      <th>text</th>\n",
       "    </tr>\n",
       "  </thead>\n",
       "  <tbody>\n",
       "    <tr>\n",
       "      <th>0</th>\n",
       "      <td>eypc9zv</td>\n",
       "      <td>eyp9duh</td>\n",
       "      <td>CueDramaticMusic</td>\n",
       "      <td>tumblr</td>\n",
       "      <td>1567296002</td>\n",
       "      <td>Democrat</td>\n",
       "      <td>I don’t know whether to read the last sentence...</td>\n",
       "    </tr>\n",
       "    <tr>\n",
       "      <th>1</th>\n",
       "      <td>eypca5l</td>\n",
       "      <td>eypby8b</td>\n",
       "      <td>ninethirtyone</td>\n",
       "      <td>news</td>\n",
       "      <td>1567296005</td>\n",
       "      <td>Democrat</td>\n",
       "      <td>You responded to my comment to make a point yo...</td>\n",
       "    </tr>\n",
       "    <tr>\n",
       "      <th>2</th>\n",
       "      <td>eypca5t</td>\n",
       "      <td>t3_cy2nlj</td>\n",
       "      <td>lostapwbm</td>\n",
       "      <td>SquaredCircle</td>\n",
       "      <td>1567296006</td>\n",
       "      <td>Democrat</td>\n",
       "      <td>After the fantastic energy of the crowds for T...</td>\n",
       "    </tr>\n",
       "    <tr>\n",
       "      <th>3</th>\n",
       "      <td>eypca8l</td>\n",
       "      <td>eypbz6d</td>\n",
       "      <td>OlliesFreeOxen</td>\n",
       "      <td>news</td>\n",
       "      <td>1567296007</td>\n",
       "      <td>Unknown</td>\n",
       "      <td>Run away when you lose. Typical. You have your...</td>\n",
       "    </tr>\n",
       "    <tr>\n",
       "      <th>4</th>\n",
       "      <td>eypcaac</td>\n",
       "      <td>eyp5fjl</td>\n",
       "      <td>Based_Putin</td>\n",
       "      <td>news</td>\n",
       "      <td>1567296008</td>\n",
       "      <td>Unknown</td>\n",
       "      <td>What does this even mean?</td>\n",
       "    </tr>\n",
       "    <tr>\n",
       "      <th>5</th>\n",
       "      <td>eypcabv</td>\n",
       "      <td>eyonlbn</td>\n",
       "      <td>needler14</td>\n",
       "      <td>ABoringDystopia</td>\n",
       "      <td>1567296009</td>\n",
       "      <td>Democrat</td>\n",
       "      <td>Right? I'll eat McDonald's here and there but ...</td>\n",
       "    </tr>\n",
       "    <tr>\n",
       "      <th>6</th>\n",
       "      <td>eypcac1</td>\n",
       "      <td>t3_cy09os</td>\n",
       "      <td>LimpWibbler_</td>\n",
       "      <td>funny</td>\n",
       "      <td>1567296009</td>\n",
       "      <td>Democrat</td>\n",
       "      <td>I absolutely love these kids. Funny or not.</td>\n",
       "    </tr>\n",
       "    <tr>\n",
       "      <th>7</th>\n",
       "      <td>eypcacv</td>\n",
       "      <td>t3_cy2yrm</td>\n",
       "      <td>DonnyGoat</td>\n",
       "      <td>NYYankees</td>\n",
       "      <td>1567296010</td>\n",
       "      <td>Democrat</td>\n",
       "      <td>Whose match are they at?</td>\n",
       "    </tr>\n",
       "    <tr>\n",
       "      <th>8</th>\n",
       "      <td>eypcae0</td>\n",
       "      <td>eyp66ij</td>\n",
       "      <td>rhunter99</td>\n",
       "      <td>news</td>\n",
       "      <td>1567296010</td>\n",
       "      <td>Unknown</td>\n",
       "      <td>Neil is that you?</td>\n",
       "    </tr>\n",
       "    <tr>\n",
       "      <th>9</th>\n",
       "      <td>eypcaeh</td>\n",
       "      <td>eypavwe</td>\n",
       "      <td>Firtydilthythrowaway</td>\n",
       "      <td>Music</td>\n",
       "      <td>1567296011</td>\n",
       "      <td>Unknown</td>\n",
       "      <td>This place is lost; it's merely a public opini...</td>\n",
       "    </tr>\n",
       "  </tbody>\n",
       "</table>\n",
       "</div>"
      ],
      "text/plain": [
       "  comment_id  parent_id              username        subreddit     created  \\\n",
       "0    eypc9zv    eyp9duh      CueDramaticMusic           tumblr  1567296002   \n",
       "1    eypca5l    eypby8b         ninethirtyone             news  1567296005   \n",
       "2    eypca5t  t3_cy2nlj             lostapwbm    SquaredCircle  1567296006   \n",
       "3    eypca8l    eypbz6d        OlliesFreeOxen             news  1567296007   \n",
       "4    eypcaac    eyp5fjl           Based_Putin             news  1567296008   \n",
       "5    eypcabv    eyonlbn             needler14  ABoringDystopia  1567296009   \n",
       "6    eypcac1  t3_cy09os          LimpWibbler_            funny  1567296009   \n",
       "7    eypcacv  t3_cy2yrm             DonnyGoat        NYYankees  1567296010   \n",
       "8    eypcae0    eyp66ij             rhunter99             news  1567296010   \n",
       "9    eypcaeh    eypavwe  Firtydilthythrowaway            Music  1567296011   \n",
       "\n",
       "   politics                                               text  \n",
       "0  Democrat  I don’t know whether to read the last sentence...  \n",
       "1  Democrat  You responded to my comment to make a point yo...  \n",
       "2  Democrat  After the fantastic energy of the crowds for T...  \n",
       "3   Unknown  Run away when you lose. Typical. You have your...  \n",
       "4   Unknown                          What does this even mean?  \n",
       "5  Democrat  Right? I'll eat McDonald's here and there but ...  \n",
       "6  Democrat        I absolutely love these kids. Funny or not.  \n",
       "7  Democrat                           Whose match are they at?  \n",
       "8   Unknown                                  Neil is that you?  \n",
       "9   Unknown  This place is lost; it's merely a public opini...  "
      ]
     },
     "execution_count": 32,
     "metadata": {},
     "output_type": "execute_result"
    }
   ],
   "source": [
    "in_file = '/shared/0/projects/reddit-political-affiliation/data/interactions/all_comments_filtered.tsv'\n",
    "\n",
    "def read_in_comments(in_file, count=-1):\n",
    "    comments = []\n",
    "    with open(in_file, 'r') as f:\n",
    "        for line in f:\n",
    "            line = line.strip()\n",
    "            try:\n",
    "                comment_id, parent_id, username, subreddit, created, politics, text = line.split('\\t')\n",
    "                political_comment = PoliticalComment(comment_id, parent_id, username, subreddit, created, politics, text)\n",
    "                comments.append(political_comment.to_dict())\n",
    "                if count > 0 and len(comments) >= count:\n",
    "                    return comments\n",
    "            except Exception:\n",
    "                pass\n",
    "            \n",
    "    print(\"Total number of political comments: {}\".format(len(comments)))\n",
    "    return comments\n",
    "\n",
    "\n",
    "        \n",
    "comments = read_in_comments(in_file, count=500000)\n",
    "df_comments = pd.DataFrame(comments)\n",
    "print(len(df_comments))\n",
    "df_comments.head(10)"
   ]
  },
  {
   "cell_type": "markdown",
   "metadata": {},
   "source": [
    "# Bucket about dyadic affiliation composition (e.g,. Liberal+Liberal)"
   ]
  },
  {
   "cell_type": "code",
   "execution_count": 33,
   "metadata": {},
   "outputs": [
    {
     "name": "stdout",
     "output_type": "stream",
     "text": [
      "Number of rep users: 6703\n",
      "Number of dem users: 14609\n",
      "Number of unknown users: 76177\n",
      "\n",
      "Number of rep comments: 134341\n",
      "Number of dem comments: 263726\n",
      "Number of unknown comments: 101933\n"
     ]
    }
   ],
   "source": [
    "rep_df = df_comments[df_comments['politics'] == 'Republican']\n",
    "dem_df = df_comments[df_comments['politics'] == 'Democrat']\n",
    "unknown_df = df_comments[df_comments['politics'] == 'Unknown']\n",
    "\n",
    "rep_users = set(rep_df['username'].tolist())\n",
    "dem_users = set(dem_df['username'].tolist())\n",
    "unknown_users = set(unknown_df['username'].tolist())\n",
    "\n",
    "print(\"Number of rep users: {}\".format(len(rep_users)))\n",
    "print(\"Number of dem users: {}\".format(len(dem_users)))\n",
    "print(\"Number of unknown users: {}\".format(len(unknown_users)))\n",
    "print()\n",
    "print(\"Number of rep comments: {}\".format(len(rep_df)))\n",
    "print(\"Number of dem comments: {}\".format(len(dem_df)))\n",
    "print(\"Number of unknown comments: {}\".format(len(unknown_df)))"
   ]
  },
  {
   "cell_type": "code",
   "execution_count": 34,
   "metadata": {},
   "outputs": [
    {
     "name": "stdout",
     "output_type": "stream",
     "text": [
      "Dem to dem interactions: 6019\n",
      "Rep to rep interactions: 1421\n",
      "Dem to rep interactions: 2310\n",
      "Rep to dem interactions: 2288\n",
      "Dem to unknown interactions: 13974\n",
      "Rep to dem interactions: 2288\n"
     ]
    }
   ],
   "source": [
    "def get_interactions(from_party, to_party):\n",
    "    from_comment_ids = set(df_comments[df_comments['politics'] == from_party]['comment_id'].tolist())\n",
    "    to_comment_ids = set(df_comments[df_comments['politics'] == to_party]['comment_id'].tolist())\n",
    "    interactions = df_comments[(df_comments['comment_id'].isin(from_comment_ids) & df_comments['parent_id'].isin(to_comment_ids))]\n",
    "    return interactions\n",
    "\n",
    "dem_to_dem = get_interactions('Democrat', 'Democrat')\n",
    "rep_to_rep = get_interactions('Republican', 'Republican')\n",
    "dem_to_rep = get_interactions('Democrat', 'Republican')\n",
    "rep_to_dem = get_interactions('Republican', 'Democrat')\n",
    "dem_to_unknown = get_interactions('Democrat', 'Unknown')\n",
    "rep_to_unknown = get_interactions('Republican', 'Democrat')\n",
    "\n",
    "print(\"Dem to dem interactions: {}\".format(len(dem_to_dem)))\n",
    "print(\"Rep to rep interactions: {}\".format(len(rep_to_rep)))\n",
    "print(\"Dem to rep interactions: {}\".format(len(dem_to_rep)))\n",
    "print(\"Rep to dem interactions: {}\".format(len(rep_to_dem)))\n",
    "print(\"Dem to unknown interactions: {}\".format(len(dem_to_unknown)))\n",
    "print(\"Rep to dem interactions: {}\".format(len(rep_to_unknown)))"
   ]
  },
  {
   "cell_type": "markdown",
   "metadata": {},
   "source": [
    "# Comments in same subreddit made at a similar time point"
   ]
  },
  {
   "cell_type": "code",
   "execution_count": null,
   "metadata": {},
   "outputs": [],
   "source": []
  }
 ],
 "metadata": {
  "kernelspec": {
   "display_name": "Python 3",
   "language": "python",
   "name": "python3"
  },
  "language_info": {
   "codemirror_mode": {
    "name": "ipython",
    "version": 3
   },
   "file_extension": ".py",
   "mimetype": "text/x-python",
   "name": "python",
   "nbconvert_exporter": "python",
   "pygments_lexer": "ipython3",
   "version": "3.6.8"
  }
 },
 "nbformat": 4,
 "nbformat_minor": 2
}
