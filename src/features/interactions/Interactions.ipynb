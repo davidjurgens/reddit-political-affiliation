{
 "cells": [
  {
   "cell_type": "markdown",
   "metadata": {},
   "source": [
    "# Interactions"
   ]
  },
  {
   "cell_type": "code",
   "execution_count": 1,
   "metadata": {},
   "outputs": [
    {
     "name": "stderr",
     "output_type": "stream",
     "text": [
      "wandb: WARNING W&B installed but not logged in.  Run `wandb login` or set the WANDB_API_KEY env variable.\n"
     ]
    }
   ],
   "source": [
    "import sys\n",
    "import glob\n",
    "import numpy as np\n",
    "import pandas as pd\n",
    "from collections import *\n",
    "\n",
    "sys.path.append('/home/kalkiek/projects/reddit-political-affiliation/')\n",
    "\n",
    "from src.data.date_helper import read_submissions\n",
    "from src.features.interactions.political_comment import PoliticalComment\n",
    "from transformers import BertTokenizer,BertForSequenceClassification, BertConfig, AdamW\n",
    "import torch\n",
    "import torch.optim as optim\n",
    "import torch.nn as nn"
   ]
  },
  {
   "cell_type": "markdown",
   "metadata": {},
   "source": [
    "### Quick Clean Up\n",
    "\n",
    "I forgot to  remove 't1' prefix from some of the comment IDs\n",
    "\n",
    "We also need to remove any bot accounts"
   ]
  },
  {
   "cell_type": "code",
   "execution_count": 2,
   "metadata": {},
   "outputs": [
    {
     "name": "stdout",
     "output_type": "stream",
     "text": [
      "Known bots: 393\n"
     ]
    }
   ],
   "source": [
    "def grab_bot_accounts():\n",
    "    fname = '/shared/0/projects/prosocial/known-bots.tsv'\n",
    "    bots = []\n",
    "\n",
    "    with open(fname, 'rt') as f:\n",
    "        lines = f.readlines()\n",
    "\n",
    "        for line in lines:\n",
    "            bots.append(line.split('\\t')[1])\n",
    "\n",
    "    print(\"Known bots: %d\" % len(bots))\n",
    "    return bots\n",
    "\n",
    "bots = grab_bot_accounts()\n",
    "bots.extend('[deleted]')"
   ]
  },
  {
   "cell_type": "markdown",
   "metadata": {},
   "source": [
    "###  Can't run this until the script is done running! We'll run it in a few days"
   ]
  },
  {
   "cell_type": "code",
   "execution_count": 6,
   "metadata": {},
   "outputs": [
    {
     "name": "stdout",
     "output_type": "stream",
     "text": [
      "Total number of political comments: 113921968\n"
     ]
    }
   ],
   "source": [
    "# def remove_id_prefix_and_bots(in_file):\n",
    "#     comments = 0\n",
    "#     with open(in_file, 'r') as f:\n",
    "#         for line in f:\n",
    "#             comment_id, parent_id, username, subreddit, created, politics, text = line.split('\\t')\n",
    "#             if username not in bots:\n",
    "#                 if comment_id[:2] == 't1':\n",
    "#                     comment_id = comment_id[3:]\n",
    "#                 if parent_id[:2] == 't1':\n",
    "#                     parent_id = parent_id[3:]\n",
    "\n",
    "#                 comments += 1\n",
    "#                 political_comment = PoliticalComment(comment_id, parent_id, username, subreddit, created, politics, text)\n",
    "#                 yield political_comment\n",
    "\n",
    "#     print(\"Total number of political comments: {}\".format(comments))\n",
    "\n",
    "# in_file = '/shared/0/projects/reddit-political-affiliation/data/interactions/all_comments.tsv'\n",
    "# out_file = '/shared/0/projects/reddit-political-affiliation/data/interactions/all_comments_filtered.tsv'\n",
    "\n",
    "# with open(out_file, 'w') as out_f:\n",
    "#     for comment in filtered_comments(in_file):\n",
    "#         out_f.write(comment.to_tsv_row())"
   ]
  },
  {
   "cell_type": "markdown",
   "metadata": {},
   "source": [
    "## Reading In The Data\n",
    "\n",
    "Sample of how to read the data in"
   ]
  },
  {
   "cell_type": "code",
   "execution_count": 3,
   "metadata": {},
   "outputs": [
    {
     "name": "stdout",
     "output_type": "stream",
     "text": [
      "10000000\n"
     ]
    },
    {
     "data": {
      "text/html": [
       "<div>\n",
       "<style scoped>\n",
       "    .dataframe tbody tr th:only-of-type {\n",
       "        vertical-align: middle;\n",
       "    }\n",
       "\n",
       "    .dataframe tbody tr th {\n",
       "        vertical-align: top;\n",
       "    }\n",
       "\n",
       "    .dataframe thead th {\n",
       "        text-align: right;\n",
       "    }\n",
       "</style>\n",
       "<table border=\"1\" class=\"dataframe\">\n",
       "  <thead>\n",
       "    <tr style=\"text-align: right;\">\n",
       "      <th></th>\n",
       "      <th>comment_id</th>\n",
       "      <th>parent_id</th>\n",
       "      <th>username</th>\n",
       "      <th>subreddit</th>\n",
       "      <th>created</th>\n",
       "      <th>politics</th>\n",
       "      <th>text</th>\n",
       "    </tr>\n",
       "  </thead>\n",
       "  <tbody>\n",
       "    <tr>\n",
       "      <th>0</th>\n",
       "      <td>eypc9zv</td>\n",
       "      <td>eyp9duh</td>\n",
       "      <td>CueDramaticMusic</td>\n",
       "      <td>tumblr</td>\n",
       "      <td>1567296002</td>\n",
       "      <td>Democrat</td>\n",
       "      <td>I don’t know whether to read the last sentence...</td>\n",
       "    </tr>\n",
       "    <tr>\n",
       "      <th>1</th>\n",
       "      <td>eypca5l</td>\n",
       "      <td>eypby8b</td>\n",
       "      <td>ninethirtyone</td>\n",
       "      <td>news</td>\n",
       "      <td>1567296005</td>\n",
       "      <td>Democrat</td>\n",
       "      <td>You responded to my comment to make a point yo...</td>\n",
       "    </tr>\n",
       "    <tr>\n",
       "      <th>2</th>\n",
       "      <td>eypca5t</td>\n",
       "      <td>t3_cy2nlj</td>\n",
       "      <td>lostapwbm</td>\n",
       "      <td>SquaredCircle</td>\n",
       "      <td>1567296006</td>\n",
       "      <td>Democrat</td>\n",
       "      <td>After the fantastic energy of the crowds for T...</td>\n",
       "    </tr>\n",
       "    <tr>\n",
       "      <th>3</th>\n",
       "      <td>eypca8l</td>\n",
       "      <td>eypbz6d</td>\n",
       "      <td>OlliesFreeOxen</td>\n",
       "      <td>news</td>\n",
       "      <td>1567296007</td>\n",
       "      <td>Unknown</td>\n",
       "      <td>Run away when you lose. Typical. You have your...</td>\n",
       "    </tr>\n",
       "    <tr>\n",
       "      <th>4</th>\n",
       "      <td>eypcaac</td>\n",
       "      <td>eyp5fjl</td>\n",
       "      <td>Based_Putin</td>\n",
       "      <td>news</td>\n",
       "      <td>1567296008</td>\n",
       "      <td>Unknown</td>\n",
       "      <td>What does this even mean?</td>\n",
       "    </tr>\n",
       "    <tr>\n",
       "      <th>5</th>\n",
       "      <td>eypcabv</td>\n",
       "      <td>eyonlbn</td>\n",
       "      <td>needler14</td>\n",
       "      <td>ABoringDystopia</td>\n",
       "      <td>1567296009</td>\n",
       "      <td>Democrat</td>\n",
       "      <td>Right? I'll eat McDonald's here and there but ...</td>\n",
       "    </tr>\n",
       "    <tr>\n",
       "      <th>6</th>\n",
       "      <td>eypcac1</td>\n",
       "      <td>t3_cy09os</td>\n",
       "      <td>LimpWibbler_</td>\n",
       "      <td>funny</td>\n",
       "      <td>1567296009</td>\n",
       "      <td>Democrat</td>\n",
       "      <td>I absolutely love these kids. Funny or not.</td>\n",
       "    </tr>\n",
       "    <tr>\n",
       "      <th>7</th>\n",
       "      <td>eypcacv</td>\n",
       "      <td>t3_cy2yrm</td>\n",
       "      <td>DonnyGoat</td>\n",
       "      <td>NYYankees</td>\n",
       "      <td>1567296010</td>\n",
       "      <td>Democrat</td>\n",
       "      <td>Whose match are they at?</td>\n",
       "    </tr>\n",
       "    <tr>\n",
       "      <th>8</th>\n",
       "      <td>eypcae0</td>\n",
       "      <td>eyp66ij</td>\n",
       "      <td>rhunter99</td>\n",
       "      <td>news</td>\n",
       "      <td>1567296010</td>\n",
       "      <td>Unknown</td>\n",
       "      <td>Neil is that you?</td>\n",
       "    </tr>\n",
       "    <tr>\n",
       "      <th>9</th>\n",
       "      <td>eypcaeh</td>\n",
       "      <td>eypavwe</td>\n",
       "      <td>Firtydilthythrowaway</td>\n",
       "      <td>Music</td>\n",
       "      <td>1567296011</td>\n",
       "      <td>Unknown</td>\n",
       "      <td>This place is lost; it's merely a public opini...</td>\n",
       "    </tr>\n",
       "  </tbody>\n",
       "</table>\n",
       "</div>"
      ],
      "text/plain": [
       "  comment_id  parent_id              username        subreddit     created  \\\n",
       "0    eypc9zv    eyp9duh      CueDramaticMusic           tumblr  1567296002   \n",
       "1    eypca5l    eypby8b         ninethirtyone             news  1567296005   \n",
       "2    eypca5t  t3_cy2nlj             lostapwbm    SquaredCircle  1567296006   \n",
       "3    eypca8l    eypbz6d        OlliesFreeOxen             news  1567296007   \n",
       "4    eypcaac    eyp5fjl           Based_Putin             news  1567296008   \n",
       "5    eypcabv    eyonlbn             needler14  ABoringDystopia  1567296009   \n",
       "6    eypcac1  t3_cy09os          LimpWibbler_            funny  1567296009   \n",
       "7    eypcacv  t3_cy2yrm             DonnyGoat        NYYankees  1567296010   \n",
       "8    eypcae0    eyp66ij             rhunter99             news  1567296010   \n",
       "9    eypcaeh    eypavwe  Firtydilthythrowaway            Music  1567296011   \n",
       "\n",
       "   politics                                               text  \n",
       "0  Democrat  I don’t know whether to read the last sentence...  \n",
       "1  Democrat  You responded to my comment to make a point yo...  \n",
       "2  Democrat  After the fantastic energy of the crowds for T...  \n",
       "3   Unknown  Run away when you lose. Typical. You have your...  \n",
       "4   Unknown                          What does this even mean?  \n",
       "5  Democrat  Right? I'll eat McDonald's here and there but ...  \n",
       "6  Democrat        I absolutely love these kids. Funny or not.  \n",
       "7  Democrat                           Whose match are they at?  \n",
       "8   Unknown                                  Neil is that you?  \n",
       "9   Unknown  This place is lost; it's merely a public opini...  "
      ]
     },
     "execution_count": 3,
     "metadata": {},
     "output_type": "execute_result"
    }
   ],
   "source": [
    "in_file = '/shared/0/projects/reddit-political-affiliation/data/interactions/all_comments_filtered.tsv'\n",
    "\n",
    "def read_in_comments(in_file, count=-1):\n",
    "    comments = []\n",
    "    with open(in_file, 'r',encoding=\"utf-8\") as f:\n",
    "        for line in f:\n",
    "            line = line.strip()\n",
    "            try:\n",
    "                comment_id, parent_id, username, subreddit, created, politics, text = line.split('\\t')\n",
    "                political_comment = PoliticalComment(comment_id, parent_id, username, subreddit, created, politics, text)\n",
    "                comments.append(political_comment.to_dict())\n",
    "                if count > 0 and len(comments) >= count:\n",
    "                    return comments\n",
    "            except Exception:\n",
    "                pass\n",
    "            \n",
    "    print(\"Total number of political comments: {}\".format(len(comments)))\n",
    "    return comments\n",
    "\n",
    "\n",
    "        \n",
    "comments = read_in_comments(in_file, count=10000000)\n",
    "df_comments = pd.DataFrame(comments)\n",
    "print(len(df_comments))\n",
    "df_comments.head(10)"
   ]
  },
  {
   "cell_type": "markdown",
   "metadata": {},
   "source": [
    "# Bucket about dyadic affiliation composition (e.g,. Liberal+Liberal)"
   ]
  },
  {
   "cell_type": "code",
   "execution_count": 4,
   "metadata": {},
   "outputs": [
    {
     "name": "stdout",
     "output_type": "stream",
     "text": [
      "Number of rep users: 9133\n",
      "Number of dem users: 19280\n",
      "Number of unknown users: 845189\n",
      "\n",
      "Number of rep comments: 2471970\n",
      "Number of dem comments: 5243945\n",
      "Number of unknown comments: 2284085\n"
     ]
    }
   ],
   "source": [
    "rep_df = df_comments[df_comments['politics'] == 'Republican']\n",
    "dem_df = df_comments[df_comments['politics'] == 'Democrat']\n",
    "unknown_df = df_comments[df_comments['politics'] == 'Unknown']\n",
    "\n",
    "rep_users = set(rep_df['username'].tolist())\n",
    "dem_users = set(dem_df['username'].tolist())\n",
    "unknown_users = set(unknown_df['username'].tolist())\n",
    "\n",
    "print(\"Number of rep users: {}\".format(len(rep_users)))\n",
    "print(\"Number of dem users: {}\".format(len(dem_users)))\n",
    "print(\"Number of unknown users: {}\".format(len(unknown_users)))\n",
    "print()\n",
    "print(\"Number of rep comments: {}\".format(len(rep_df)))\n",
    "print(\"Number of dem comments: {}\".format(len(dem_df)))\n",
    "print(\"Number of unknown comments: {}\".format(len(unknown_df)))"
   ]
  },
  {
   "cell_type": "code",
   "execution_count": 5,
   "metadata": {},
   "outputs": [
    {
     "name": "stdout",
     "output_type": "stream",
     "text": [
      "Dem to dem interactions: 116893\n",
      "Rep to rep interactions: 29623\n",
      "Dem to rep interactions: 49723\n",
      "Rep to dem interactions: 48574\n",
      "Dem to unknown interactions: 312114\n",
      "Rep to unknown interactions: 145044\n",
      "Unknown to dem interactions: 1408713\n",
      "Unknown to rep interactions: 637680\n"
     ]
    }
   ],
   "source": [
    "def get_interactions(from_party, to_party):\n",
    "    from_comment_ids = set(df_comments[df_comments['politics'] == from_party]['comment_id'].tolist())\n",
    "    to_comment_ids = set(df_comments[df_comments['politics'] == to_party]['comment_id'].tolist())\n",
    "    interactions = df_comments[(df_comments['comment_id'].isin(from_comment_ids) & df_comments['parent_id'].isin(to_comment_ids))]\n",
    "    return interactions\n",
    "\n",
    "dem_to_dem = get_interactions('Democrat', 'Democrat')\n",
    "rep_to_rep = get_interactions('Republican', 'Republican')\n",
    "dem_to_rep = get_interactions('Democrat', 'Republican')\n",
    "rep_to_dem = get_interactions('Republican', 'Democrat')\n",
    "dem_to_unknown = get_interactions('Democrat', 'Unknown')\n",
    "rep_to_unknown = get_interactions('Republican', 'Unknown')\n",
    "unknown_to_dem = get_interactions('Unknown','Democrat')\n",
    "unknown_to_rep = get_interactions('Unknown','Republican')\n",
    "\n",
    "print(\"Dem to dem interactions: {}\".format(len(dem_to_dem)))\n",
    "print(\"Rep to rep interactions: {}\".format(len(rep_to_rep)))\n",
    "print(\"Dem to rep interactions: {}\".format(len(dem_to_rep)))\n",
    "print(\"Rep to dem interactions: {}\".format(len(rep_to_dem)))\n",
    "print(\"Dem to unknown interactions: {}\".format(len(dem_to_unknown)))\n",
    "print(\"Rep to unknown interactions: {}\".format(len(rep_to_unknown)))\n",
    "print(\"Unknown to dem interactions: {}\".format(len(unknown_to_dem)))\n",
    "print(\"Unknown to rep interactions: {}\".format(len(unknown_to_rep)))\n"
   ]
  },
  {
   "cell_type": "code",
   "execution_count": 6,
   "metadata": {},
   "outputs": [],
   "source": [
    "comment_lists={\"d2d\":dem_to_dem,\"r2r\":rep_to_rep,\"d2r\":dem_to_rep,\"r2d\":rep_to_dem,\"d2u\":dem_to_unknown,\"r2u\":rep_to_unknown,\"u2d\":unknown_to_dem,\"u2r\":unknown_to_rep}"
   ]
  },
  {
   "cell_type": "markdown",
   "metadata": {},
   "source": [
    "# Comments in same subreddit made at a similar time point"
   ]
  },
  {
   "cell_type": "code",
   "execution_count": 7,
   "metadata": {},
   "outputs": [],
   "source": [
    "def prepare_features(seq_1, max_seq_length=128, zero_pad=True, include_CLS_token=True, include_SEP_token=True):\n",
    "    # Tokenize Input\n",
    "    tokens = tokenizer.tokenize(seq_1)[0:max_seq_length - 2]\n",
    "    # Initialize Tokens\n",
    "    if include_CLS_token:\n",
    "        tokens.insert(0, tokenizer.cls_token)\n",
    "\n",
    "    if include_SEP_token:\n",
    "        tokens.append(tokenizer.sep_token)\n",
    "\n",
    "    input_ids = tokenizer.convert_tokens_to_ids(tokens)\n",
    "    pad_id = tokenizer.convert_tokens_to_ids([tokenizer.pad_token])[0]\n",
    "    # Input Mask\n",
    "    input_mask = [1] * len(input_ids)\n",
    "    # Zero-pad sequence length\n",
    "    if zero_pad:\n",
    "        while len(input_ids) < max_seq_length:\n",
    "            input_ids.append(pad_id)\n",
    "            input_mask.append(0)\n",
    "    # print(torch.tensor(input_ids).shape)\n",
    "    return torch.tensor(input_ids), torch.tensor(input_mask)"
   ]
  },
  {
   "cell_type": "code",
   "execution_count": 8,
   "metadata": {},
   "outputs": [
    {
     "data": {
      "text/plain": [
       "BertForSequenceClassification(\n",
       "  (bert): BertModel(\n",
       "    (embeddings): BertEmbeddings(\n",
       "      (word_embeddings): Embedding(30522, 768, padding_idx=0)\n",
       "      (position_embeddings): Embedding(512, 768)\n",
       "      (token_type_embeddings): Embedding(2, 768)\n",
       "      (LayerNorm): LayerNorm((768,), eps=1e-12, elementwise_affine=True)\n",
       "      (dropout): Dropout(p=0.1, inplace=False)\n",
       "    )\n",
       "    (encoder): BertEncoder(\n",
       "      (layer): ModuleList(\n",
       "        (0): BertLayer(\n",
       "          (attention): BertAttention(\n",
       "            (self): BertSelfAttention(\n",
       "              (query): Linear(in_features=768, out_features=768, bias=True)\n",
       "              (key): Linear(in_features=768, out_features=768, bias=True)\n",
       "              (value): Linear(in_features=768, out_features=768, bias=True)\n",
       "              (dropout): Dropout(p=0.1, inplace=False)\n",
       "            )\n",
       "            (output): BertSelfOutput(\n",
       "              (dense): Linear(in_features=768, out_features=768, bias=True)\n",
       "              (LayerNorm): LayerNorm((768,), eps=1e-12, elementwise_affine=True)\n",
       "              (dropout): Dropout(p=0.1, inplace=False)\n",
       "            )\n",
       "          )\n",
       "          (intermediate): BertIntermediate(\n",
       "            (dense): Linear(in_features=768, out_features=3072, bias=True)\n",
       "          )\n",
       "          (output): BertOutput(\n",
       "            (dense): Linear(in_features=3072, out_features=768, bias=True)\n",
       "            (LayerNorm): LayerNorm((768,), eps=1e-12, elementwise_affine=True)\n",
       "            (dropout): Dropout(p=0.1, inplace=False)\n",
       "          )\n",
       "        )\n",
       "        (1): BertLayer(\n",
       "          (attention): BertAttention(\n",
       "            (self): BertSelfAttention(\n",
       "              (query): Linear(in_features=768, out_features=768, bias=True)\n",
       "              (key): Linear(in_features=768, out_features=768, bias=True)\n",
       "              (value): Linear(in_features=768, out_features=768, bias=True)\n",
       "              (dropout): Dropout(p=0.1, inplace=False)\n",
       "            )\n",
       "            (output): BertSelfOutput(\n",
       "              (dense): Linear(in_features=768, out_features=768, bias=True)\n",
       "              (LayerNorm): LayerNorm((768,), eps=1e-12, elementwise_affine=True)\n",
       "              (dropout): Dropout(p=0.1, inplace=False)\n",
       "            )\n",
       "          )\n",
       "          (intermediate): BertIntermediate(\n",
       "            (dense): Linear(in_features=768, out_features=3072, bias=True)\n",
       "          )\n",
       "          (output): BertOutput(\n",
       "            (dense): Linear(in_features=3072, out_features=768, bias=True)\n",
       "            (LayerNorm): LayerNorm((768,), eps=1e-12, elementwise_affine=True)\n",
       "            (dropout): Dropout(p=0.1, inplace=False)\n",
       "          )\n",
       "        )\n",
       "        (2): BertLayer(\n",
       "          (attention): BertAttention(\n",
       "            (self): BertSelfAttention(\n",
       "              (query): Linear(in_features=768, out_features=768, bias=True)\n",
       "              (key): Linear(in_features=768, out_features=768, bias=True)\n",
       "              (value): Linear(in_features=768, out_features=768, bias=True)\n",
       "              (dropout): Dropout(p=0.1, inplace=False)\n",
       "            )\n",
       "            (output): BertSelfOutput(\n",
       "              (dense): Linear(in_features=768, out_features=768, bias=True)\n",
       "              (LayerNorm): LayerNorm((768,), eps=1e-12, elementwise_affine=True)\n",
       "              (dropout): Dropout(p=0.1, inplace=False)\n",
       "            )\n",
       "          )\n",
       "          (intermediate): BertIntermediate(\n",
       "            (dense): Linear(in_features=768, out_features=3072, bias=True)\n",
       "          )\n",
       "          (output): BertOutput(\n",
       "            (dense): Linear(in_features=3072, out_features=768, bias=True)\n",
       "            (LayerNorm): LayerNorm((768,), eps=1e-12, elementwise_affine=True)\n",
       "            (dropout): Dropout(p=0.1, inplace=False)\n",
       "          )\n",
       "        )\n",
       "        (3): BertLayer(\n",
       "          (attention): BertAttention(\n",
       "            (self): BertSelfAttention(\n",
       "              (query): Linear(in_features=768, out_features=768, bias=True)\n",
       "              (key): Linear(in_features=768, out_features=768, bias=True)\n",
       "              (value): Linear(in_features=768, out_features=768, bias=True)\n",
       "              (dropout): Dropout(p=0.1, inplace=False)\n",
       "            )\n",
       "            (output): BertSelfOutput(\n",
       "              (dense): Linear(in_features=768, out_features=768, bias=True)\n",
       "              (LayerNorm): LayerNorm((768,), eps=1e-12, elementwise_affine=True)\n",
       "              (dropout): Dropout(p=0.1, inplace=False)\n",
       "            )\n",
       "          )\n",
       "          (intermediate): BertIntermediate(\n",
       "            (dense): Linear(in_features=768, out_features=3072, bias=True)\n",
       "          )\n",
       "          (output): BertOutput(\n",
       "            (dense): Linear(in_features=3072, out_features=768, bias=True)\n",
       "            (LayerNorm): LayerNorm((768,), eps=1e-12, elementwise_affine=True)\n",
       "            (dropout): Dropout(p=0.1, inplace=False)\n",
       "          )\n",
       "        )\n",
       "        (4): BertLayer(\n",
       "          (attention): BertAttention(\n",
       "            (self): BertSelfAttention(\n",
       "              (query): Linear(in_features=768, out_features=768, bias=True)\n",
       "              (key): Linear(in_features=768, out_features=768, bias=True)\n",
       "              (value): Linear(in_features=768, out_features=768, bias=True)\n",
       "              (dropout): Dropout(p=0.1, inplace=False)\n",
       "            )\n",
       "            (output): BertSelfOutput(\n",
       "              (dense): Linear(in_features=768, out_features=768, bias=True)\n",
       "              (LayerNorm): LayerNorm((768,), eps=1e-12, elementwise_affine=True)\n",
       "              (dropout): Dropout(p=0.1, inplace=False)\n",
       "            )\n",
       "          )\n",
       "          (intermediate): BertIntermediate(\n",
       "            (dense): Linear(in_features=768, out_features=3072, bias=True)\n",
       "          )\n",
       "          (output): BertOutput(\n",
       "            (dense): Linear(in_features=3072, out_features=768, bias=True)\n",
       "            (LayerNorm): LayerNorm((768,), eps=1e-12, elementwise_affine=True)\n",
       "            (dropout): Dropout(p=0.1, inplace=False)\n",
       "          )\n",
       "        )\n",
       "        (5): BertLayer(\n",
       "          (attention): BertAttention(\n",
       "            (self): BertSelfAttention(\n",
       "              (query): Linear(in_features=768, out_features=768, bias=True)\n",
       "              (key): Linear(in_features=768, out_features=768, bias=True)\n",
       "              (value): Linear(in_features=768, out_features=768, bias=True)\n",
       "              (dropout): Dropout(p=0.1, inplace=False)\n",
       "            )\n",
       "            (output): BertSelfOutput(\n",
       "              (dense): Linear(in_features=768, out_features=768, bias=True)\n",
       "              (LayerNorm): LayerNorm((768,), eps=1e-12, elementwise_affine=True)\n",
       "              (dropout): Dropout(p=0.1, inplace=False)\n",
       "            )\n",
       "          )\n",
       "          (intermediate): BertIntermediate(\n",
       "            (dense): Linear(in_features=768, out_features=3072, bias=True)\n",
       "          )\n",
       "          (output): BertOutput(\n",
       "            (dense): Linear(in_features=3072, out_features=768, bias=True)\n",
       "            (LayerNorm): LayerNorm((768,), eps=1e-12, elementwise_affine=True)\n",
       "            (dropout): Dropout(p=0.1, inplace=False)\n",
       "          )\n",
       "        )\n",
       "        (6): BertLayer(\n",
       "          (attention): BertAttention(\n",
       "            (self): BertSelfAttention(\n",
       "              (query): Linear(in_features=768, out_features=768, bias=True)\n",
       "              (key): Linear(in_features=768, out_features=768, bias=True)\n",
       "              (value): Linear(in_features=768, out_features=768, bias=True)\n",
       "              (dropout): Dropout(p=0.1, inplace=False)\n",
       "            )\n",
       "            (output): BertSelfOutput(\n",
       "              (dense): Linear(in_features=768, out_features=768, bias=True)\n",
       "              (LayerNorm): LayerNorm((768,), eps=1e-12, elementwise_affine=True)\n",
       "              (dropout): Dropout(p=0.1, inplace=False)\n",
       "            )\n",
       "          )\n",
       "          (intermediate): BertIntermediate(\n",
       "            (dense): Linear(in_features=768, out_features=3072, bias=True)\n",
       "          )\n",
       "          (output): BertOutput(\n",
       "            (dense): Linear(in_features=3072, out_features=768, bias=True)\n",
       "            (LayerNorm): LayerNorm((768,), eps=1e-12, elementwise_affine=True)\n",
       "            (dropout): Dropout(p=0.1, inplace=False)\n",
       "          )\n",
       "        )\n",
       "        (7): BertLayer(\n",
       "          (attention): BertAttention(\n",
       "            (self): BertSelfAttention(\n",
       "              (query): Linear(in_features=768, out_features=768, bias=True)\n",
       "              (key): Linear(in_features=768, out_features=768, bias=True)\n",
       "              (value): Linear(in_features=768, out_features=768, bias=True)\n",
       "              (dropout): Dropout(p=0.1, inplace=False)\n",
       "            )\n",
       "            (output): BertSelfOutput(\n",
       "              (dense): Linear(in_features=768, out_features=768, bias=True)\n",
       "              (LayerNorm): LayerNorm((768,), eps=1e-12, elementwise_affine=True)\n",
       "              (dropout): Dropout(p=0.1, inplace=False)\n",
       "            )\n",
       "          )\n",
       "          (intermediate): BertIntermediate(\n",
       "            (dense): Linear(in_features=768, out_features=3072, bias=True)\n",
       "          )\n",
       "          (output): BertOutput(\n",
       "            (dense): Linear(in_features=3072, out_features=768, bias=True)\n",
       "            (LayerNorm): LayerNorm((768,), eps=1e-12, elementwise_affine=True)\n",
       "            (dropout): Dropout(p=0.1, inplace=False)\n",
       "          )\n",
       "        )\n",
       "        (8): BertLayer(\n",
       "          (attention): BertAttention(\n",
       "            (self): BertSelfAttention(\n",
       "              (query): Linear(in_features=768, out_features=768, bias=True)\n",
       "              (key): Linear(in_features=768, out_features=768, bias=True)\n",
       "              (value): Linear(in_features=768, out_features=768, bias=True)\n",
       "              (dropout): Dropout(p=0.1, inplace=False)\n",
       "            )\n",
       "            (output): BertSelfOutput(\n",
       "              (dense): Linear(in_features=768, out_features=768, bias=True)\n",
       "              (LayerNorm): LayerNorm((768,), eps=1e-12, elementwise_affine=True)\n",
       "              (dropout): Dropout(p=0.1, inplace=False)\n",
       "            )\n",
       "          )\n",
       "          (intermediate): BertIntermediate(\n",
       "            (dense): Linear(in_features=768, out_features=3072, bias=True)\n",
       "          )\n",
       "          (output): BertOutput(\n",
       "            (dense): Linear(in_features=3072, out_features=768, bias=True)\n",
       "            (LayerNorm): LayerNorm((768,), eps=1e-12, elementwise_affine=True)\n",
       "            (dropout): Dropout(p=0.1, inplace=False)\n",
       "          )\n",
       "        )\n",
       "        (9): BertLayer(\n",
       "          (attention): BertAttention(\n",
       "            (self): BertSelfAttention(\n",
       "              (query): Linear(in_features=768, out_features=768, bias=True)\n",
       "              (key): Linear(in_features=768, out_features=768, bias=True)\n",
       "              (value): Linear(in_features=768, out_features=768, bias=True)\n",
       "              (dropout): Dropout(p=0.1, inplace=False)\n",
       "            )\n",
       "            (output): BertSelfOutput(\n",
       "              (dense): Linear(in_features=768, out_features=768, bias=True)\n",
       "              (LayerNorm): LayerNorm((768,), eps=1e-12, elementwise_affine=True)\n",
       "              (dropout): Dropout(p=0.1, inplace=False)\n",
       "            )\n",
       "          )\n",
       "          (intermediate): BertIntermediate(\n",
       "            (dense): Linear(in_features=768, out_features=3072, bias=True)\n",
       "          )\n",
       "          (output): BertOutput(\n",
       "            (dense): Linear(in_features=3072, out_features=768, bias=True)\n",
       "            (LayerNorm): LayerNorm((768,), eps=1e-12, elementwise_affine=True)\n",
       "            (dropout): Dropout(p=0.1, inplace=False)\n",
       "          )\n",
       "        )\n",
       "        (10): BertLayer(\n",
       "          (attention): BertAttention(\n",
       "            (self): BertSelfAttention(\n",
       "              (query): Linear(in_features=768, out_features=768, bias=True)\n",
       "              (key): Linear(in_features=768, out_features=768, bias=True)\n",
       "              (value): Linear(in_features=768, out_features=768, bias=True)\n",
       "              (dropout): Dropout(p=0.1, inplace=False)\n",
       "            )\n",
       "            (output): BertSelfOutput(\n",
       "              (dense): Linear(in_features=768, out_features=768, bias=True)\n",
       "              (LayerNorm): LayerNorm((768,), eps=1e-12, elementwise_affine=True)\n",
       "              (dropout): Dropout(p=0.1, inplace=False)\n",
       "            )\n",
       "          )\n",
       "          (intermediate): BertIntermediate(\n",
       "            (dense): Linear(in_features=768, out_features=3072, bias=True)\n",
       "          )\n",
       "          (output): BertOutput(\n",
       "            (dense): Linear(in_features=3072, out_features=768, bias=True)\n",
       "            (LayerNorm): LayerNorm((768,), eps=1e-12, elementwise_affine=True)\n",
       "            (dropout): Dropout(p=0.1, inplace=False)\n",
       "          )\n",
       "        )\n",
       "        (11): BertLayer(\n",
       "          (attention): BertAttention(\n",
       "            (self): BertSelfAttention(\n",
       "              (query): Linear(in_features=768, out_features=768, bias=True)\n",
       "              (key): Linear(in_features=768, out_features=768, bias=True)\n",
       "              (value): Linear(in_features=768, out_features=768, bias=True)\n",
       "              (dropout): Dropout(p=0.1, inplace=False)\n",
       "            )\n",
       "            (output): BertSelfOutput(\n",
       "              (dense): Linear(in_features=768, out_features=768, bias=True)\n",
       "              (LayerNorm): LayerNorm((768,), eps=1e-12, elementwise_affine=True)\n",
       "              (dropout): Dropout(p=0.1, inplace=False)\n",
       "            )\n",
       "          )\n",
       "          (intermediate): BertIntermediate(\n",
       "            (dense): Linear(in_features=768, out_features=3072, bias=True)\n",
       "          )\n",
       "          (output): BertOutput(\n",
       "            (dense): Linear(in_features=3072, out_features=768, bias=True)\n",
       "            (LayerNorm): LayerNorm((768,), eps=1e-12, elementwise_affine=True)\n",
       "            (dropout): Dropout(p=0.1, inplace=False)\n",
       "          )\n",
       "        )\n",
       "      )\n",
       "    )\n",
       "    (pooler): BertPooler(\n",
       "      (dense): Linear(in_features=768, out_features=768, bias=True)\n",
       "      (activation): Tanh()\n",
       "    )\n",
       "  )\n",
       "  (dropout): Dropout(p=0.1, inplace=False)\n",
       "  (classifier): Linear(in_features=768, out_features=2, bias=True)\n",
       ")"
      ]
     },
     "execution_count": 8,
     "metadata": {},
     "output_type": "execute_result"
    }
   ],
   "source": [
    "config = BertConfig.from_pretrained('bert-base-uncased')\n",
    "tokenizer = BertTokenizer.from_pretrained('bert-base-uncased')\n",
    "model = BertForSequenceClassification(config)\n",
    "dv='cuda:2'\n",
    "model.load_state_dict(torch.load(\"best_bert.pt\",map_location=torch.device(dv)))\n",
    "device=torch.device(dv)\n",
    "torch.cuda.set_device(int(dv[-1]))\n",
    "model.cuda()\n",
    "model.eval()"
   ]
  },
  {
   "cell_type": "code",
   "execution_count": 9,
   "metadata": {
    "scrolled": true
   },
   "outputs": [],
   "source": [
    "def counting_offensiveness_by_interactions(interactions,limit=3000):\n",
    "    Counting=Counter()#{'Republican':Counter(),'Democrat':Counter(),'Unknown':Counter()}\n",
    "    for idx,(comment_id,line) in enumerate(interactions.iterrows()):\n",
    "        #print(line)\n",
    "        text_id,mask=prepare_features(line['text'])\n",
    "        text_id=text_id.unsqueeze(0).cuda()\n",
    "        mask=mask.unsqueeze(0).cuda()\n",
    "\n",
    "        output = model.forward(text_id,attention_mask=mask)[0]\n",
    "        _, predicted = torch.max(output.data, 1)\n",
    "        Counting[predicted.item()]+=1\n",
    "#         if line['subreddit'] in political_subreddit:\n",
    "#             Politics_Counting[line['politics']][predicted.item()]+=1\n",
    "#         #print(idx)\n",
    "        if idx==limit:\n",
    "            break\n",
    "    return Counting#,Politics_Counting\n",
    "        "
   ]
  },
  {
   "cell_type": "code",
   "execution_count": 113,
   "metadata": {},
   "outputs": [],
   "source": [
    "all_Counting=counting_offensiveness_by_interactions(df_comments,20000)"
   ]
  },
  {
   "cell_type": "code",
   "execution_count": 111,
   "metadata": {},
   "outputs": [
    {
     "name": "stdout",
     "output_type": "stream",
     "text": [
      "d2d\n",
      "r2r\n",
      "d2r\n",
      "r2d\n",
      "d2u\n",
      "r2u\n",
      "u2d\n",
      "u2r\n"
     ]
    }
   ],
   "source": [
    "counting_list={}\n",
    "for key in comment_lists:\n",
    "    print(key)\n",
    "    counting_list[key]=counting_offensiveness_by_interactions(comment_lists[key])"
   ]
  },
  {
   "cell_type": "code",
   "execution_count": 116,
   "metadata": {},
   "outputs": [
    {
     "name": "stdout",
     "output_type": "stream",
     "text": [
      "d2d 0.32122625791402865\n",
      "r2r 0.32090077410274453\n",
      "d2r 0.3177489177489177\n",
      "r2d 0.3111888111888112\n",
      "d2u 0.3128957014328557\n",
      "r2u 0.3078973675441519\n",
      "u2d 0.24625124958347216\n",
      "u2r 0.2745751416194602\n",
      "All 0.2901354932253387\n"
     ]
    }
   ],
   "source": [
    "for key in counting_list:\n",
    "    print(key,counting_list[key][1]/(counting_list[key][1]+counting_list[key][0]))\n",
    "print(\"All\",all_Counting[1]/(all_Counting[1]+all_Counting[0]))"
   ]
  },
  {
   "cell_type": "code",
   "execution_count": 10,
   "metadata": {},
   "outputs": [],
   "source": [
    "def counting_offensiveness_by_subreddits(interactions,subreddit,limit=3000):\n",
    "    Counting={'Republican':Counter(),'Democrat':Counter(),'Unknown':Counter()}\n",
    "    a=0\n",
    "    for idx,(comment_id,line) in enumerate(interactions.iterrows()):\n",
    "        #print(line['subreddit'],subreddit)\n",
    "        if line['subreddit']==subreddit:\n",
    "            text_id,mask=prepare_features(line['text'])\n",
    "            text_id=text_id.unsqueeze(0).cuda()\n",
    "            mask=mask.unsqueeze(0).cuda()\n",
    "            output = model.forward(text_id,attention_mask=mask)[0]\n",
    "            _, predicted = torch.max(output.data, 1)\n",
    "            Counting[line['politics']][predicted.item()]+=1\n",
    "            a+=1\n",
    "            if a==limit:\n",
    "                break\n",
    "    return Counting\n",
    "        "
   ]
  },
  {
   "cell_type": "code",
   "execution_count": 11,
   "metadata": {},
   "outputs": [],
   "source": [
    "#key_word=['conservative','conspiracy','liberal','political','politics','fascism','socialism','donald','WayOfTheBern','bernie']\n",
    "key_word=['conservative','democrat',]\n",
    "political_subreddit=[]\n",
    "all_sub={''}\n",
    "for key in comment_lists:\n",
    "    all_sub.update(set(list(comment_lists[key]['subreddit'])))\n",
    "\n",
    "for sub in all_sub:\n",
    "    for key in key_word:\n",
    "        if key in sub.lower():\n",
    "            political_subreddit.append(sub)\n",
    "            #print(sub)\n",
    "political_subreddit=['Conservative','democrats']"
   ]
  },
  {
   "cell_type": "code",
   "execution_count": 14,
   "metadata": {},
   "outputs": [
    {
     "name": "stdout",
     "output_type": "stream",
     "text": [
      "conservatives\n",
      "DemocratsforDiversity\n",
      "askaconservative\n",
      "DemocraticSocialism\n",
      "ConservativeMemes\n",
      "justicedemocrats\n",
      "democrats\n",
      "Conservative\n",
      "conservativecartoons\n",
      "ConservativesOnly\n",
      "Forum_Democratie\n",
      "AskDemocrats\n",
      "democraticparty\n",
      "AskConservatives\n"
     ]
    }
   ],
   "source": [
    "subreddit_counting={}\n",
    "for sub in political_subreddit:\n",
    "    print(sub)\n",
    "    subreddit_counting[sub]=counting_offensiveness_by_subreddits(df_comments,sub)"
   ]
  },
  {
   "cell_type": "code",
   "execution_count": 16,
   "metadata": {},
   "outputs": [
    {
     "name": "stdout",
     "output_type": "stream",
     "text": [
      "{'conservatives': {'Republican': Counter({0: 73, 1: 22}), 'Democrat': Counter({0: 17, 1: 6}), 'Unknown': Counter({0: 17, 1: 8})}, 'DemocratsforDiversity': {'Republican': Counter({0: 207, 1: 62}), 'Democrat': Counter({0: 616, 1: 167}), 'Unknown': Counter({0: 57, 1: 24})}, 'askaconservative': {'Republican': Counter({0: 68, 1: 40}), 'Democrat': Counter({0: 60, 1: 38}), 'Unknown': Counter({0: 17, 1: 11})}, 'DemocraticSocialism': {'Republican': Counter({0: 7, 1: 3}), 'Democrat': Counter({0: 50, 1: 17}), 'Unknown': Counter({0: 14, 1: 5})}, 'ConservativeMemes': {'Republican': Counter({0: 1}), 'Democrat': Counter({1: 2, 0: 2}), 'Unknown': Counter({0: 2})}, 'justicedemocrats': {'Republican': Counter(), 'Democrat': Counter({0: 6, 1: 2}), 'Unknown': Counter({0: 1})}, 'democrats': {'Republican': Counter({0: 44, 1: 21}), 'Democrat': Counter({0: 76, 1: 29}), 'Unknown': Counter({0: 17, 1: 6})}, 'Conservative': {'Republican': Counter({0: 509, 1: 254}), 'Democrat': Counter({0: 279, 1: 129}), 'Unknown': Counter({0: 189, 1: 72})}, 'conservativecartoons': {'Republican': Counter({0: 4}), 'Democrat': Counter({0: 3}), 'Unknown': Counter({0: 1})}, 'ConservativesOnly': {'Republican': Counter({0: 12, 1: 9}), 'Democrat': Counter({0: 1}), 'Unknown': Counter({0: 1})}, 'Forum_Democratie': {'Republican': Counter({0: 4, 1: 3}), 'Democrat': Counter({1: 4, 0: 3}), 'Unknown': Counter({0: 1})}, 'AskDemocrats': {'Republican': Counter(), 'Democrat': Counter({0: 7, 1: 2}), 'Unknown': Counter({0: 4})}, 'democraticparty': {'Republican': Counter({0: 2, 1: 2}), 'Democrat': Counter({0: 4, 1: 1}), 'Unknown': Counter({1: 1})}, 'AskConservatives': {'Republican': Counter({0: 35, 1: 21}), 'Democrat': Counter({0: 61, 1: 18}), 'Unknown': Counter({0: 33, 1: 11})}}\n"
     ]
    }
   ],
   "source": [
    "print(subreddit_counting)"
   ]
  },
  {
   "cell_type": "code",
   "execution_count": 18,
   "metadata": {},
   "outputs": [
    {
     "name": "stdout",
     "output_type": "stream",
     "text": [
      "In subreddit conservatives :\n",
      "Republican: 0.23157894736842105 Democrat: 0.2608695652173913 Unknown: 0.32\n",
      "In subreddit DemocratsforDiversity :\n",
      "Republican: 0.23048327137546468 Democrat: 0.21328224776500637 Unknown: 0.2962962962962963\n",
      "In subreddit askaconservative :\n",
      "Republican: 0.37037037037037035 Democrat: 0.3877551020408163 Unknown: 0.39285714285714285\n",
      "In subreddit DemocraticSocialism :\n",
      "Republican: 0.3 Democrat: 0.2537313432835821 Unknown: 0.2631578947368421\n",
      "In subreddit ConservativeMemes :\n",
      "Republican: 0.0 Democrat: 0.5 Unknown: 0.0\n",
      "In subreddit justicedemocrats :\n",
      "divided by zero!\n",
      "In subreddit democrats :\n",
      "Republican: 0.3230769230769231 Democrat: 0.2761904761904762 Unknown: 0.2608695652173913\n",
      "In subreddit Conservative :\n",
      "Republican: 0.3328964613368283 Democrat: 0.3161764705882353 Unknown: 0.27586206896551724\n",
      "In subreddit conservativecartoons :\n",
      "Republican: 0.0 Democrat: 0.0 Unknown: 0.0\n",
      "In subreddit ConservativesOnly :\n",
      "Republican: 0.42857142857142855 Democrat: 0.0 Unknown: 0.0\n",
      "In subreddit Forum_Democratie :\n",
      "Republican: 0.42857142857142855 Democrat: 0.5714285714285714 Unknown: 0.0\n",
      "In subreddit AskDemocrats :\n",
      "divided by zero!\n",
      "In subreddit democraticparty :\n",
      "Republican: 0.5 Democrat: 0.2 Unknown: 1.0\n",
      "In subreddit AskConservatives :\n",
      "Republican: 0.375 Democrat: 0.22784810126582278 Unknown: 0.25\n"
     ]
    }
   ],
   "source": [
    "for key in subreddit_counting:\n",
    "    print(\"In subreddit\",key,\":\")\n",
    "    counting=subreddit_counting[key]\n",
    "    try:\n",
    "        print(\"Republican:\",counting['Republican'][1]/(counting['Republican'][0]+counting['Republican'][1]),\n",
    "         \"Democrat:\",counting['Democrat'][1]/(counting['Democrat'][0]+counting['Democrat'][1]),\n",
    "         \"Unknown:\",counting['Unknown'][1]/(counting['Unknown'][0]+counting['Unknown'][1]))\n",
    "    except:\n",
    "        print(\"divided by zero!\")"
   ]
  },
  {
   "cell_type": "markdown",
   "metadata": {},
   "source": [
    "# Find Offensiveness of Subreddits (interactions or not?)"
   ]
  },
  {
   "cell_type": "code",
   "execution_count": 17,
   "metadata": {},
   "outputs": [],
   "source": [
    "def print_interaction_scores(just2_interaction_counting):\n",
    "    for key in just2_interaction_counting:\n",
    "        print(\"In subreddit\",key,\":\")\n",
    "        counting=just2_interaction_counting[key]\n",
    "        print(\"Republican:\", 0 if (counting['Republican'][0]+counting['Republican'][1])==0 else counting['Republican'][1]/(counting['Republican'][0]+counting['Republican'][1]),\n",
    "             \"Democrat:\",0 if (counting['Democrat'][0]+counting['Democrat'][1])==0 else counting['Democrat'][1]/(counting['Democrat'][0]+counting['Democrat'][1]),\n",
    "#              \"Unknown:\",0 if (counting['Unknown'][0]+counting['Unknown'][1])==0 else counting['Unknown'][1]/(counting['Unknown'][0]+counting['Unknown'][1]))\n"
   ]
  },
  {
   "cell_type": "code",
   "execution_count": 22,
   "metadata": {},
   "outputs": [],
   "source": [
    "def go_through_all_comments(list_of_subreddits):\n",
    "    counting={}\n",
    "    for sub in list_of_subreddits:\n",
    "        print(sub)  \n",
    "        counting[sub]=counting_offensiveness_by_subreddits(df_comments,sub)\n",
    "    print(counting)\n",
    "    print_interaction_scores(counting)"
   ]
  },
  {
   "cell_type": "code",
   "execution_count": 31,
   "metadata": {},
   "outputs": [],
   "source": [
    "def go_through_interactions(list_of_subreddits):\n",
    "    for interaction in comment_lists:\n",
    "        print(interaction)\n",
    "        interaction_counting={}\n",
    "        for sub in list_of_subreddits:\n",
    "            #print(sub)  \n",
    "            interaction_counting[sub]=counting_offensiveness_by_subreddits(comment_lists[interaction],sub)\n",
    "        print(interaction_counting)\n",
    "        print_interaction_scores(interaction_counting)"
   ]
  },
  {
   "cell_type": "code",
   "execution_count": 12,
   "metadata": {},
   "outputs": [
    {
     "name": "stdout",
     "output_type": "stream",
     "text": [
      "Conservative\n",
      "democrats\n",
      "{'Conservative': {'Republican': Counter({0: 1049, 1: 532}), 'Democrat': Counter({0: 601, 1: 301}), 'Unknown': Counter({0: 367, 1: 150})}, 'democrats': {'Republican': Counter({0: 508, 1: 271}), 'Democrat': Counter({0: 1271, 1: 538}), 'Unknown': Counter({0: 299, 1: 113})}}\n"
     ]
    },
    {
     "ename": "NameError",
     "evalue": "name 'print_interaction_scores' is not defined",
     "output_type": "error",
     "traceback": [
      "\u001b[0;31m---------------------------------------------------------------------------\u001b[0m",
      "\u001b[0;31mNameError\u001b[0m                                 Traceback (most recent call last)",
      "\u001b[0;32m<ipython-input-12-124b4e421e80>\u001b[0m in \u001b[0;36m<module>\u001b[0;34m\u001b[0m\n\u001b[1;32m      4\u001b[0m     \u001b[0mjust2_counting\u001b[0m\u001b[0;34m[\u001b[0m\u001b[0msub\u001b[0m\u001b[0;34m]\u001b[0m\u001b[0;34m=\u001b[0m\u001b[0mcounting_offensiveness_by_subreddits\u001b[0m\u001b[0;34m(\u001b[0m\u001b[0mdf_comments\u001b[0m\u001b[0;34m,\u001b[0m\u001b[0msub\u001b[0m\u001b[0;34m)\u001b[0m\u001b[0;34m\u001b[0m\u001b[0;34m\u001b[0m\u001b[0m\n\u001b[1;32m      5\u001b[0m \u001b[0mprint\u001b[0m\u001b[0;34m(\u001b[0m\u001b[0mjust2_counting\u001b[0m\u001b[0;34m)\u001b[0m\u001b[0;34m\u001b[0m\u001b[0;34m\u001b[0m\u001b[0m\n\u001b[0;32m----> 6\u001b[0;31m \u001b[0mprint_interaction_scores\u001b[0m\u001b[0;34m(\u001b[0m\u001b[0mjust2_counting\u001b[0m\u001b[0;34m)\u001b[0m\u001b[0;34m\u001b[0m\u001b[0;34m\u001b[0m\u001b[0m\n\u001b[0m",
      "\u001b[0;31mNameError\u001b[0m: name 'print_interaction_scores' is not defined"
     ]
    }
   ],
   "source": [
    "go_through_all_comments(political_subreddit)\n",
    "# just2_counting={}\n",
    "# for sub in political_subreddit:\n",
    "#     print(sub)  \n",
    "#     just2_counting[sub]=counting_offensiveness_by_subreddits(df_comments,sub)\n",
    "# print(just2_counting)\n",
    "# print_interaction_scores(just2_counting)"
   ]
  },
  {
   "cell_type": "code",
   "execution_count": 18,
   "metadata": {},
   "outputs": [
    {
     "name": "stdout",
     "output_type": "stream",
     "text": [
      "In subreddit Conservative :\n",
      "Republican: 0.33649588867805186 Democrat: 0.33370288248337027 Unknown: 0.2901353965183752\n",
      "In subreddit democrats :\n",
      "Republican: 0.3478818998716303 Democrat: 0.2974018794914317 Unknown: 0.27427184466019416\n"
     ]
    }
   ],
   "source": []
  },
  {
   "cell_type": "code",
   "execution_count": 33,
   "metadata": {},
   "outputs": [
    {
     "name": "stdout",
     "output_type": "stream",
     "text": [
      "d2d\n",
      "{'Conservative': {'Republican': Counter(), 'Democrat': Counter({0: 91, 1: 71}), 'Unknown': Counter()}, 'democrats': {'Republican': Counter(), 'Democrat': Counter({0: 101, 1: 37}), 'Unknown': Counter()}}\n",
      "In subreddit Conservative :\n",
      "Republican: 0 Democrat: 0.4382716049382716 Unknown: 0\n",
      "In subreddit democrats :\n",
      "Republican: 0 Democrat: 0.26811594202898553 Unknown: 0\n",
      "r2r\n",
      "{'Conservative': {'Republican': Counter({0: 316, 1: 144}), 'Democrat': Counter(), 'Unknown': Counter()}, 'democrats': {'Republican': Counter({0: 15, 1: 10}), 'Democrat': Counter(), 'Unknown': Counter()}}\n",
      "In subreddit Conservative :\n",
      "Republican: 0.3130434782608696 Democrat: 0 Unknown: 0\n",
      "In subreddit democrats :\n",
      "Republican: 0.4 Democrat: 0 Unknown: 0\n",
      "d2r\n",
      "{'Conservative': {'Republican': Counter(), 'Democrat': Counter({0: 188, 1: 120}), 'Unknown': Counter()}, 'democrats': {'Republican': Counter(), 'Democrat': Counter({0: 39, 1: 20}), 'Unknown': Counter()}}\n",
      "In subreddit Conservative :\n",
      "Republican: 0 Democrat: 0.38961038961038963 Unknown: 0\n",
      "In subreddit democrats :\n",
      "Republican: 0 Democrat: 0.3389830508474576 Unknown: 0\n",
      "r2d\n",
      "{'Conservative': {'Republican': Counter({0: 158, 1: 90}), 'Democrat': Counter(), 'Unknown': Counter()}, 'democrats': {'Republican': Counter({0: 46, 1: 15}), 'Democrat': Counter(), 'Unknown': Counter()}}\n",
      "In subreddit Conservative :\n",
      "Republican: 0.3629032258064516 Democrat: 0 Unknown: 0\n",
      "In subreddit democrats :\n",
      "Republican: 0.2459016393442623 Democrat: 0 Unknown: 0\n",
      "d2u\n",
      "{'Conservative': {'Republican': Counter(), 'Democrat': Counter({0: 262, 1: 177}), 'Unknown': Counter()}, 'democrats': {'Republican': Counter(), 'Democrat': Counter({0: 94, 1: 43}), 'Unknown': Counter()}}\n",
      "In subreddit Conservative :\n",
      "Republican: 0 Democrat: 0.4031890660592255 Unknown: 0\n",
      "In subreddit democrats :\n",
      "Republican: 0 Democrat: 0.31386861313868614 Unknown: 0\n",
      "r2u\n",
      "{'Conservative': {'Republican': Counter({0: 548, 1: 270}), 'Democrat': Counter(), 'Unknown': Counter()}, 'democrats': {'Republican': Counter({0: 23, 1: 14}), 'Democrat': Counter(), 'Unknown': Counter()}}\n",
      "In subreddit Conservative :\n",
      "Republican: 0.33007334963325186 Democrat: 0 Unknown: 0\n",
      "In subreddit democrats :\n",
      "Republican: 0.3783783783783784 Democrat: 0 Unknown: 0\n",
      "u2d\n",
      "{'Conservative': {'Republican': Counter(), 'Democrat': Counter(), 'Unknown': Counter({0: 1183, 1: 589})}, 'democrats': {'Republican': Counter(), 'Democrat': Counter(), 'Unknown': Counter({0: 316, 1: 140})}}\n",
      "In subreddit Conservative :\n",
      "Republican: 0 Democrat: 0 Unknown: 0.332392776523702\n",
      "In subreddit democrats :\n",
      "Republican: 0 Democrat: 0 Unknown: 0.30701754385964913\n",
      "u2r\n",
      "{'Conservative': {'Republican': Counter(), 'Democrat': Counter(), 'Unknown': Counter({0: 2110, 1: 890})}, 'democrats': {'Republican': Counter(), 'Democrat': Counter(), 'Unknown': Counter({0: 127, 1: 55})}}\n",
      "In subreddit Conservative :\n",
      "Republican: 0 Democrat: 0 Unknown: 0.2966666666666667\n",
      "In subreddit democrats :\n",
      "Republican: 0 Democrat: 0 Unknown: 0.3021978021978022\n"
     ]
    }
   ],
   "source": [
    "go_through_interactions(political_subreddit)"
   ]
  },
  {
   "cell_type": "code",
   "execution_count": 38,
   "metadata": {},
   "outputs": [
    {
     "data": {
      "text/plain": [
       "True"
      ]
     },
     "execution_count": 38,
     "metadata": {},
     "output_type": "execute_result"
    }
   ],
   "source": [
    "'Jokes' in all_sub"
   ]
  },
  {
   "cell_type": "code",
   "execution_count": 24,
   "metadata": {},
   "outputs": [],
   "source": [
    "cute_reddit=['cats','dogs']"
   ]
  },
  {
   "cell_type": "code",
   "execution_count": 25,
   "metadata": {},
   "outputs": [
    {
     "name": "stdout",
     "output_type": "stream",
     "text": [
      "cats\n",
      "dogs\n",
      "{'cats': {'Republican': Counter({0: 387, 1: 67}), 'Democrat': Counter({0: 1271, 1: 209}), 'Unknown': Counter({0: 347, 1: 50})}, 'dogs': {'Republican': Counter({0: 120, 1: 47}), 'Democrat': Counter({0: 782, 1: 252}), 'Unknown': Counter({0: 246, 1: 62})}}\n",
      "In subreddit cats :\n",
      "Republican: 0.14757709251101322 Democrat: 0.14121621621621622 Unknown: 0.12594458438287154\n",
      "In subreddit dogs :\n",
      "Republican: 0.281437125748503 Democrat: 0.2437137330754352 Unknown: 0.2012987012987013\n"
     ]
    }
   ],
   "source": [
    "go_through_all_comments(cute_reddit)"
   ]
  },
  {
   "cell_type": "code",
   "execution_count": 21,
   "metadata": {},
   "outputs": [],
   "source": [
    "misc=['funny','science','gaming','food']"
   ]
  },
  {
   "cell_type": "code",
   "execution_count": 23,
   "metadata": {},
   "outputs": [
    {
     "name": "stdout",
     "output_type": "stream",
     "text": [
      "funny\n",
      "science\n",
      "gaming\n",
      "food\n",
      "{'funny': {'Republican': Counter({0: 466, 1: 182}), 'Democrat': Counter({0: 1253, 1: 460}), 'Unknown': Counter({0: 477, 1: 162})}, 'science': {'Republican': Counter({0: 488, 1: 171}), 'Democrat': Counter({0: 1164, 1: 380}), 'Unknown': Counter({0: 594, 1: 203})}, 'gaming': {'Republican': Counter({0: 495, 1: 170}), 'Democrat': Counter({0: 1277, 1: 422}), 'Unknown': Counter({0: 483, 1: 153})}, 'food': {'Republican': Counter({0: 457, 1: 91}), 'Democrat': Counter({0: 1497, 1: 304}), 'Unknown': Counter({0: 556, 1: 95})}}\n",
      "In subreddit funny :\n",
      "Republican: 0.2808641975308642 Democrat: 0.2685347343841214 Unknown: 0.2535211267605634\n",
      "In subreddit science :\n",
      "Republican: 0.25948406676783003 Democrat: 0.24611398963730569 Unknown: 0.2547051442910916\n",
      "In subreddit gaming :\n",
      "Republican: 0.2556390977443609 Democrat: 0.24838140082401414 Unknown: 0.24056603773584906\n",
      "In subreddit food :\n",
      "Republican: 0.16605839416058393 Democrat: 0.1687951138256524 Unknown: 0.14592933947772657\n"
     ]
    }
   ],
   "source": [
    "go_through_all_comments(misc)"
   ]
  },
  {
   "cell_type": "code",
   "execution_count": 32,
   "metadata": {
    "scrolled": true
   },
   "outputs": [
    {
     "name": "stdout",
     "output_type": "stream",
     "text": [
      "d2d\n",
      "{'funny': {'Republican': Counter(), 'Democrat': Counter({0: 342, 1: 139}), 'Unknown': Counter()}, 'science': {'Republican': Counter(), 'Democrat': Counter({0: 161, 1: 69}), 'Unknown': Counter()}, 'gaming': {'Republican': Counter(), 'Democrat': Counter({0: 203, 1: 60}), 'Unknown': Counter()}, 'food': {'Republican': Counter(), 'Democrat': Counter({0: 10, 1: 2}), 'Unknown': Counter()}}\n",
      "In subreddit funny :\n",
      "Republican: 0 Democrat: 0.288981288981289 Unknown: 0\n",
      "In subreddit science :\n",
      "Republican: 0 Democrat: 0.3 Unknown: 0\n",
      "In subreddit gaming :\n",
      "Republican: 0 Democrat: 0.22813688212927757 Unknown: 0\n",
      "In subreddit food :\n",
      "Republican: 0 Democrat: 0.16666666666666666 Unknown: 0\n",
      "r2r\n",
      "{'funny': {'Republican': Counter({0: 57, 1: 38}), 'Democrat': Counter(), 'Unknown': Counter()}, 'science': {'Republican': Counter({0: 33, 1: 17}), 'Democrat': Counter(), 'Unknown': Counter()}, 'gaming': {'Republican': Counter({0: 31, 1: 10}), 'Democrat': Counter(), 'Unknown': Counter()}, 'food': {'Republican': Counter({1: 1, 0: 1}), 'Democrat': Counter(), 'Unknown': Counter()}}\n",
      "In subreddit funny :\n",
      "Republican: 0.4 Democrat: 0 Unknown: 0\n",
      "In subreddit science :\n",
      "Republican: 0.34 Democrat: 0 Unknown: 0\n",
      "In subreddit gaming :\n",
      "Republican: 0.24390243902439024 Democrat: 0 Unknown: 0\n",
      "In subreddit food :\n",
      "Republican: 0.5 Democrat: 0 Unknown: 0\n",
      "d2r\n",
      "{'funny': {'Republican': Counter(), 'Democrat': Counter({0: 141, 1: 73}), 'Unknown': Counter()}, 'science': {'Republican': Counter(), 'Democrat': Counter({0: 56, 1: 27}), 'Unknown': Counter()}, 'gaming': {'Republican': Counter(), 'Democrat': Counter({0: 66, 1: 35}), 'Unknown': Counter()}, 'food': {'Republican': Counter(), 'Democrat': Counter({0: 5}), 'Unknown': Counter()}}\n",
      "In subreddit funny :\n",
      "Republican: 0 Democrat: 0.3411214953271028 Unknown: 0\n",
      "In subreddit science :\n",
      "Republican: 0 Democrat: 0.3253012048192771 Unknown: 0\n",
      "In subreddit gaming :\n",
      "Republican: 0 Democrat: 0.3465346534653465 Unknown: 0\n",
      "In subreddit food :\n",
      "Republican: 0 Democrat: 0.0 Unknown: 0\n",
      "r2d\n",
      "{'funny': {'Republican': Counter({0: 143, 1: 80}), 'Democrat': Counter(), 'Unknown': Counter()}, 'science': {'Republican': Counter({0: 65, 1: 20}), 'Democrat': Counter(), 'Unknown': Counter()}, 'gaming': {'Republican': Counter({0: 78, 1: 30}), 'Democrat': Counter(), 'Unknown': Counter()}, 'food': {'Republican': Counter({0: 2}), 'Democrat': Counter(), 'Unknown': Counter()}}\n",
      "In subreddit funny :\n",
      "Republican: 0.35874439461883406 Democrat: 0 Unknown: 0\n",
      "In subreddit science :\n",
      "Republican: 0.23529411764705882 Democrat: 0 Unknown: 0\n",
      "In subreddit gaming :\n",
      "Republican: 0.2777777777777778 Democrat: 0 Unknown: 0\n",
      "In subreddit food :\n",
      "Republican: 0.0 Democrat: 0 Unknown: 0\n",
      "d2u\n",
      "{'funny': {'Republican': Counter(), 'Democrat': Counter({0: 1262, 1: 495}), 'Unknown': Counter()}, 'science': {'Republican': Counter(), 'Democrat': Counter({0: 414, 1: 153}), 'Unknown': Counter()}, 'gaming': {'Republican': Counter(), 'Democrat': Counter({0: 777, 1: 351}), 'Unknown': Counter()}, 'food': {'Republican': Counter(), 'Democrat': Counter({0: 76, 1: 16}), 'Unknown': Counter()}}\n",
      "In subreddit funny :\n",
      "Republican: 0 Democrat: 0.2817302219692658 Unknown: 0\n",
      "In subreddit science :\n",
      "Republican: 0 Democrat: 0.2698412698412698 Unknown: 0\n",
      "In subreddit gaming :\n",
      "Republican: 0 Democrat: 0.31117021276595747 Unknown: 0\n",
      "In subreddit food :\n",
      "Republican: 0 Democrat: 0.17391304347826086 Unknown: 0\n",
      "r2u\n",
      "{'funny': {'Republican': Counter({0: 517, 1: 233}), 'Democrat': Counter(), 'Unknown': Counter()}, 'science': {'Republican': Counter({0: 144, 1: 65}), 'Democrat': Counter(), 'Unknown': Counter()}, 'gaming': {'Republican': Counter({0: 309, 1: 128}), 'Democrat': Counter(), 'Unknown': Counter()}, 'food': {'Republican': Counter({0: 24, 1: 9}), 'Democrat': Counter(), 'Unknown': Counter()}}\n",
      "In subreddit funny :\n",
      "Republican: 0.31066666666666665 Democrat: 0 Unknown: 0\n",
      "In subreddit science :\n",
      "Republican: 0.31100478468899523 Democrat: 0 Unknown: 0\n",
      "In subreddit gaming :\n",
      "Republican: 0.2929061784897025 Democrat: 0 Unknown: 0\n",
      "In subreddit food :\n",
      "Republican: 0.2727272727272727 Democrat: 0 Unknown: 0\n",
      "u2d\n",
      "{'funny': {'Republican': Counter(), 'Democrat': Counter(), 'Unknown': Counter({0: 2266, 1: 734})}, 'science': {'Republican': Counter(), 'Democrat': Counter(), 'Unknown': Counter({0: 2182, 1: 761})}, 'gaming': {'Republican': Counter(), 'Democrat': Counter(), 'Unknown': Counter({0: 2257, 1: 743})}, 'food': {'Republican': Counter(), 'Democrat': Counter(), 'Unknown': Counter({0: 455, 1: 80})}}\n",
      "In subreddit funny :\n",
      "Republican: 0 Democrat: 0 Unknown: 0.24466666666666667\n",
      "In subreddit science :\n",
      "Republican: 0 Democrat: 0 Unknown: 0.2585796805980292\n",
      "In subreddit gaming :\n",
      "Republican: 0 Democrat: 0 Unknown: 0.24766666666666667\n",
      "In subreddit food :\n",
      "Republican: 0 Democrat: 0 Unknown: 0.14953271028037382\n",
      "u2r\n",
      "{'funny': {'Republican': Counter(), 'Democrat': Counter(), 'Unknown': Counter({0: 2222, 1: 778})}, 'science': {'Republican': Counter(), 'Democrat': Counter(), 'Unknown': Counter({0: 729, 1: 285})}, 'gaming': {'Republican': Counter(), 'Democrat': Counter(), 'Unknown': Counter({0: 1837, 1: 653})}, 'food': {'Republican': Counter(), 'Democrat': Counter(), 'Unknown': Counter({0: 162, 1: 27})}}\n",
      "In subreddit funny :\n",
      "Republican: 0 Democrat: 0 Unknown: 0.25933333333333336\n",
      "In subreddit science :\n",
      "Republican: 0 Democrat: 0 Unknown: 0.28106508875739644\n",
      "In subreddit gaming :\n",
      "Republican: 0 Democrat: 0 Unknown: 0.26224899598393575\n",
      "In subreddit food :\n",
      "Republican: 0 Democrat: 0 Unknown: 0.14285714285714285\n"
     ]
    }
   ],
   "source": [
    "go_through_interactions(misc)\n",
    "# for interaction in comment_lists:\n",
    "#     print(interaction)\n",
    "#     just2_interaction_counting={}\n",
    "#     for sub in normal_reddit:\n",
    "#         #print(sub)  \n",
    "#         just2_interaction_counting[sub]=counting_offensiveness_by_subreddits(comment_lists[interaction],sub)\n",
    "#     print(just2_interaction_counting)\n",
    "#     print_interaction_scores(just2_interaction_counting)"
   ]
  },
  {
   "cell_type": "code",
   "execution_count": 39,
   "metadata": {},
   "outputs": [],
   "source": [
    "misc2=['announcements','Jokes','news','sports']"
   ]
  },
  {
   "cell_type": "code",
   "execution_count": 40,
   "metadata": {
    "scrolled": true
   },
   "outputs": [
    {
     "name": "stdout",
     "output_type": "stream",
     "text": [
      "announcements\n",
      "Jokes\n",
      "news\n",
      "sports\n",
      "{'announcements': {'Republican': Counter({0: 106, 1: 32}), 'Democrat': Counter({0: 287, 1: 168}), 'Unknown': Counter({0: 141, 1: 75})}, 'Jokes': {'Republican': Counter({0: 668, 1: 193}), 'Democrat': Counter({0: 1100, 1: 364}), 'Unknown': Counter({0: 521, 1: 154})}, 'news': {'Republican': Counter({0: 334, 1: 200}), 'Democrat': Counter({0: 1057, 1: 614}), 'Unknown': Counter({0: 492, 1: 303})}, 'sports': {'Republican': Counter({0: 508, 1: 191}), 'Democrat': Counter({0: 1076, 1: 448}), 'Unknown': Counter({0: 569, 1: 208})}}\n",
      "In subreddit announcements :\n",
      "Republican: 0.2318840579710145 Democrat: 0.36923076923076925 Unknown: 0.3472222222222222\n",
      "In subreddit Jokes :\n",
      "Republican: 0.22415795586527293 Democrat: 0.24863387978142076 Unknown: 0.22814814814814816\n",
      "In subreddit news :\n",
      "Republican: 0.37453183520599254 Democrat: 0.36744464392579296 Unknown: 0.38113207547169814\n",
      "In subreddit sports :\n",
      "Republican: 0.2732474964234621 Democrat: 0.29396325459317585 Unknown: 0.2676962676962677\n"
     ]
    }
   ],
   "source": [
    "go_through_all_comments(misc2)"
   ]
  },
  {
   "cell_type": "code",
   "execution_count": null,
   "metadata": {},
   "outputs": [
    {
     "name": "stdout",
     "output_type": "stream",
     "text": [
      "d2d\n",
      "{'announcements': {'Republican': Counter(), 'Democrat': Counter({0: 20, 1: 14}), 'Unknown': Counter()}, 'Jokes': {'Republican': Counter(), 'Democrat': Counter({0: 31, 1: 10}), 'Unknown': Counter()}, 'news': {'Republican': Counter(), 'Democrat': Counter({0: 1850, 1: 1150}), 'Unknown': Counter()}, 'sports': {'Republican': Counter(), 'Democrat': Counter({0: 34, 1: 11}), 'Unknown': Counter()}}\n",
      "In subreddit announcements :\n",
      "Republican: 0 Democrat: 0.4117647058823529 Unknown: 0\n",
      "In subreddit Jokes :\n",
      "Republican: 0 Democrat: 0.24390243902439024 Unknown: 0\n",
      "In subreddit news :\n",
      "Republican: 0 Democrat: 0.38333333333333336 Unknown: 0\n",
      "In subreddit sports :\n",
      "Republican: 0 Democrat: 0.24444444444444444 Unknown: 0\n",
      "r2r\n",
      "{'announcements': {'Republican': Counter({1: 2}), 'Democrat': Counter(), 'Unknown': Counter()}, 'Jokes': {'Republican': Counter({0: 18, 1: 3}), 'Democrat': Counter(), 'Unknown': Counter()}, 'news': {'Republican': Counter({0: 358, 1: 200}), 'Democrat': Counter(), 'Unknown': Counter()}, 'sports': {'Republican': Counter({0: 2, 1: 1}), 'Democrat': Counter(), 'Unknown': Counter()}}\n",
      "In subreddit announcements :\n",
      "Republican: 1.0 Democrat: 0 Unknown: 0\n",
      "In subreddit Jokes :\n",
      "Republican: 0.14285714285714285 Democrat: 0 Unknown: 0\n",
      "In subreddit news :\n",
      "Republican: 0.35842293906810035 Democrat: 0 Unknown: 0\n",
      "In subreddit sports :\n",
      "Republican: 0.3333333333333333 Democrat: 0 Unknown: 0\n",
      "d2r\n",
      "{'announcements': {'Republican': Counter(), 'Democrat': Counter({1: 5, 0: 3}), 'Unknown': Counter()}, 'Jokes': {'Republican': Counter(), 'Democrat': Counter({0: 12, 1: 5}), 'Unknown': Counter()}, 'news': {'Republican': Counter(), 'Democrat': Counter({0: 925, 1: 560}), 'Unknown': Counter()}, 'sports': {'Republican': Counter(), 'Democrat': Counter({0: 13, 1: 5}), 'Unknown': Counter()}}\n",
      "In subreddit announcements :\n",
      "Republican: 0 Democrat: 0.625 Unknown: 0\n",
      "In subreddit Jokes :\n",
      "Republican: 0 Democrat: 0.29411764705882354 Unknown: 0\n",
      "In subreddit news :\n",
      "Republican: 0 Democrat: 0.3771043771043771 Unknown: 0\n",
      "In subreddit sports :\n",
      "Republican: 0 Democrat: 0.2777777777777778 Unknown: 0\n",
      "r2d\n",
      "{'announcements': {'Republican': Counter({0: 6, 1: 2}), 'Democrat': Counter(), 'Unknown': Counter()}, 'Jokes': {'Republican': Counter({0: 21, 1: 5}), 'Democrat': Counter(), 'Unknown': Counter()}, 'news': {'Republican': Counter({0: 997, 1: 611}), 'Democrat': Counter(), 'Unknown': Counter()}, 'sports': {'Republican': Counter({0: 18, 1: 7}), 'Democrat': Counter(), 'Unknown': Counter()}}\n",
      "In subreddit announcements :\n",
      "Republican: 0.25 Democrat: 0 Unknown: 0\n",
      "In subreddit Jokes :\n",
      "Republican: 0.19230769230769232 Democrat: 0 Unknown: 0\n",
      "In subreddit news :\n",
      "Republican: 0.37997512437810943 Democrat: 0 Unknown: 0\n",
      "In subreddit sports :\n",
      "Republican: 0.28 Democrat: 0 Unknown: 0\n",
      "d2u\n",
      "{'announcements': {'Republican': Counter(), 'Democrat': Counter({0: 27, 1: 15}), 'Unknown': Counter()}, 'Jokes': {'Republican': Counter(), 'Democrat': Counter({0: 127, 1: 59}), 'Unknown': Counter()}, 'news': {'Republican': Counter(), 'Democrat': Counter({0: 1830, 1: 1170}), 'Unknown': Counter()}, 'sports': {'Republican': Counter(), 'Democrat': Counter({0: 126, 1: 58}), 'Unknown': Counter()}}\n",
      "In subreddit announcements :\n",
      "Republican: 0 Democrat: 0.35714285714285715 Unknown: 0\n",
      "In subreddit Jokes :\n",
      "Republican: 0 Democrat: 0.3172043010752688 Unknown: 0\n",
      "In subreddit news :\n",
      "Republican: 0 Democrat: 0.39 Unknown: 0\n",
      "In subreddit sports :\n",
      "Republican: 0 Democrat: 0.31521739130434784 Unknown: 0\n",
      "r2u\n",
      "{'announcements': {'Republican': Counter({0: 8, 1: 3}), 'Democrat': Counter(), 'Unknown': Counter()}, 'Jokes': {'Republican': Counter({0: 59, 1: 25}), 'Democrat': Counter(), 'Unknown': Counter()}, 'news': {'Republican': Counter({0: 1878, 1: 1122}), 'Democrat': Counter(), 'Unknown': Counter()}, 'sports': {'Republican': Counter({0: 71, 1: 38}), 'Democrat': Counter(), 'Unknown': Counter()}}\n",
      "In subreddit announcements :\n",
      "Republican: 0.2727272727272727 Democrat: 0 Unknown: 0\n",
      "In subreddit Jokes :\n",
      "Republican: 0.2976190476190476 Democrat: 0 Unknown: 0\n",
      "In subreddit news :\n",
      "Republican: 0.374 Democrat: 0 Unknown: 0\n",
      "In subreddit sports :\n",
      "Republican: 0.3486238532110092 Democrat: 0 Unknown: 0\n",
      "u2d\n",
      "{'announcements': {'Republican': Counter(), 'Democrat': Counter(), 'Unknown': Counter({0: 105, 1: 54})}, 'Jokes': {'Republican': Counter(), 'Democrat': Counter(), 'Unknown': Counter({0: 857, 1: 237})}, 'news': {'Republican': Counter(), 'Democrat': Counter(), 'Unknown': Counter({0: 1930, 1: 1070})}, 'sports': {'Republican': Counter(), 'Democrat': Counter(), 'Unknown': Counter({0: 603, 1: 227})}}\n",
      "In subreddit announcements :\n",
      "Republican: 0 Democrat: 0 Unknown: 0.33962264150943394\n",
      "In subreddit Jokes :\n",
      "Republican: 0 Democrat: 0 Unknown: 0.21663619744058502\n",
      "In subreddit news :\n",
      "Republican: 0 Democrat: 0 Unknown: 0.3566666666666667\n",
      "In subreddit sports :\n",
      "Republican: 0 Democrat: 0 Unknown: 0.27349397590361446\n",
      "u2r\n"
     ]
    }
   ],
   "source": [
    "go_through_interactions(misc2)"
   ]
  },
  {
   "cell_type": "code",
   "execution_count": null,
   "metadata": {},
   "outputs": [],
   "source": [
    "misc3=['books','Art','gonewild']\n",
    "go_through_all_comments(misc3)"
   ]
  }
 ],
 "metadata": {
  "kernelspec": {
   "display_name": "Python 3",
   "language": "python",
   "name": "python3"
  },
  "language_info": {
   "codemirror_mode": {
    "name": "ipython",
    "version": 3
   },
   "file_extension": ".py",
   "mimetype": "text/x-python",
   "name": "python",
   "nbconvert_exporter": "python",
   "pygments_lexer": "ipython3",
   "version": "3.6.8"
  }
 },
 "nbformat": 4,
 "nbformat_minor": 2
}
