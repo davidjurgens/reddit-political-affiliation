{
 "cells": [
  {
   "cell_type": "code",
   "execution_count": 1,
   "metadata": {},
   "outputs": [],
   "source": [
    "library(lme4)\n",
    "library(lmerTest)\n",
    "library(stargazer)\n",
    "library(MASS)\n",
    "library(MuMIn)\n",
    "library(sjmisc)"
   ]
  },
  {
   "cell_type": "code",
   "execution_count": 2,
   "metadata": {},
   "outputs": [],
   "source": [
    "path='/shared/0/projects/reddit-political-affiliation/data/interactions_features/real_interactions_feature.3.9.tsv'\n",
    "data<-read.csv(file = path, sep = '\\t',header = TRUE)"
   ]
  },
  {
   "cell_type": "code",
   "execution_count": 3,
   "metadata": {},
   "outputs": [],
   "source": [
    "# set Unknown/independent to reference level\n",
    "ref_data <- within(new_data, FromPolitics <- relevel(FromPolitics, ref = \"Unknown\"))\n",
    "ref_data1 <-within(ref_data, ToPolitics <-relevel(ToPolitics, ref = \"Unknown\"))\n",
    "ref_data2 <-within(ref_data1, source <-relevel(source, ref = \"independent\"))\n",
    "ref_data3 <-within(ref_data2, parent_source<-relevel(parent_source,ref=\"independent\"))"
   ]
  },
  {
   "cell_type": "code",
   "execution_count": 4,
   "metadata": {},
   "outputs": [],
   "source": [
    "# regression training\n",
    "multi.fit =lmer(toxicity~(1|subreddit)+C(FromPolitics)*C(ToPolitics)+C(source)+ flair_visible+if_political_subreddit+ parent_toxicity, data=ref_data3)\n",
    "summary(multi.fit)"
   ]
  },
  {
   "cell_type": "code",
   "execution_count": 5,
   "metadata": {},
   "outputs": [],
   "source": [
    "# generate latex tabel\n",
    "class(multi.fit) <- \"lmerMod\"\n",
    "stargazer(multi3.fit,title=\"Interaction of All Comments Data\",type='text',digits=6)"
   ]
  }
 ],
 "metadata": {
  "kernelspec": {
   "display_name": "R",
   "language": "R",
   "name": "ir"
  },
  "language_info": {
   "codemirror_mode": "r",
   "file_extension": ".r",
   "mimetype": "text/x-r-source",
   "name": "R",
   "pygments_lexer": "r",
   "version": "3.6.1"
  }
 },
 "nbformat": 4,
 "nbformat_minor": 2
}
