{
 "cells": [
  {
   "cell_type": "markdown",
   "metadata": {},
   "source": [
    "# Bad Actors\n",
    "\n",
    "Users who claim to be both Republican and Democrat"
   ]
  },
  {
   "cell_type": "code",
   "execution_count": 10,
   "metadata": {},
   "outputs": [],
   "source": [
    "import re\n",
    "import glob\n",
    "import bz2\n",
    "import lzma\n",
    "import json\n",
    "import sqlite3\n",
    "import pandas as pd\n",
    "import numpy as np\n",
    "import seaborn as sns\n",
    "from dateutil import parser\n",
    "from json import JSONDecodeError\n",
    "from datetime import datetime\n",
    "from collections import *"
   ]
  },
  {
   "cell_type": "markdown",
   "metadata": {},
   "source": [
    "### Load in All Political User Data From Comments\n",
    "\n",
    "Data is in the following format\n",
    "\n",
    "```json\n",
    "{\n",
    "    \"username1\": [('democrat', '11-12-18'), ('republican', '11-15-18')]\n",
    "}\n",
    "```"
   ]
  },
  {
   "cell_type": "code",
   "execution_count": 11,
   "metadata": {},
   "outputs": [
    {
     "data": {
      "text/plain": [
       "198037"
      ]
     },
     "execution_count": 11,
     "metadata": {},
     "output_type": "execute_result"
    }
   ],
   "source": [
    "in_file = '/shared/0/projects/reddit-political-affiliation/data/bad-actors/politics.json'\n",
    "\n",
    "with open(in_file) as json_file:\n",
    "    user_politics = json.load(json_file)\n",
    "    \n",
    "len(user_politics)"
   ]
  },
  {
   "cell_type": "markdown",
   "metadata": {},
   "source": [
    "### Remove Bot Accounts"
   ]
  },
  {
   "cell_type": "code",
   "execution_count": 12,
   "metadata": {},
   "outputs": [
    {
     "name": "stdout",
     "output_type": "stream",
     "text": [
      "Known bots: 394\n",
      "Total political users: 198036\n"
     ]
    }
   ],
   "source": [
    "# Remove known bot accounts + [deleted]\\\n",
    "fname = '/shared/0/projects/prosocial/known-bots.tsv'\n",
    "bots = ['[deleted]']\n",
    "\n",
    "with open(fname, 'rt') as f:\n",
    "    lines = f.readlines()\n",
    "    \n",
    "    for line in lines:\n",
    "        bots.append(line.split('\\t')[1])\n",
    "\n",
    "print(\"Known bots: %d\" % len(bots))\n",
    "\n",
    "user_politics_cleaned = {}\n",
    "\n",
    "for user, political_data in user_politics.items():\n",
    "    if user not in bots:\n",
    "        # Sort user politics by date\n",
    "        political_data.sort(key = lambda x: str(x[1]))\n",
    "        user_politics_cleaned[user] = political_data\n",
    "        \n",
    "        \n",
    "print(\"Total political users: %d\" % len(user_politics_cleaned))"
   ]
  },
  {
   "cell_type": "markdown",
   "metadata": {},
   "source": [
    "### Number of Bad Actors w/o Time Constraint"
   ]
  },
  {
   "cell_type": "code",
   "execution_count": 21,
   "metadata": {},
   "outputs": [
    {
     "data": {
      "text/plain": [
       "20913"
      ]
     },
     "execution_count": 21,
     "metadata": {},
     "output_type": "execute_result"
    }
   ],
   "source": [
    "bad_actors = {}\n",
    "for user, political_data in user_politics_cleaned.items():\n",
    "    politics = set()\n",
    "    for (political_party, created_utc) in political_data:\n",
    "        politics.add(political_party)\n",
    "    if len(politics) > 1:\n",
    "        bad_actors[user] = political_data\n",
    "        \n",
    "len(bad_actors)"
   ]
  },
  {
   "cell_type": "markdown",
   "metadata": {},
   "source": [
    "### Number of Bad Actors w/ Time Constraint"
   ]
  },
  {
   "cell_type": "code",
   "execution_count": 45,
   "metadata": {},
   "outputs": [
    {
     "data": {
      "text/plain": [
       "7062"
      ]
     },
     "execution_count": 45,
     "metadata": {},
     "output_type": "execute_result"
    }
   ],
   "source": [
    "TIME_CONSTRAINT_DAYS = 30\n",
    "bad_actors_constrained = {}\n",
    "\n",
    "\n",
    "def ts_day_diff(ts_1, ts_2):\n",
    "    d1, d2 = datetime.utcfromtimestamp(int(ts_1)), datetime.utcfromtimestamp(int(ts_2))\n",
    "    delta = d1 - d2\n",
    "    return abs(delta.days)\n",
    "\n",
    "# Not efficient but hey it works\n",
    "for user, political_data in bad_actors.items():\n",
    "    democrat_timestamps = []\n",
    "    for (political_party, created_utc) in political_data:\n",
    "        if political_party.lower() == 'democrat':\n",
    "            democrat_timestamps.append(created_utc)\n",
    "            \n",
    "    for (political_party, created_utc) in political_data:\n",
    "        if political_party.lower() == 'republican':\n",
    "            for ts in democrat_timestamps:\n",
    "                if ts_day_diff(ts, created_utc) < TIME_CONSTRAINT_DAYS:\n",
    "                    bad_actors_constrained[user] = political_data\n",
    "                    \n",
    "len(bad_actors_constrained)"
   ]
  },
  {
   "cell_type": "markdown",
   "metadata": {},
   "source": [
    "### Save to TSV"
   ]
  },
  {
   "cell_type": "code",
   "execution_count": 33,
   "metadata": {},
   "outputs": [],
   "source": [
    "out_file = '/shared/0/projects/reddit-political-affiliation/data/bad-actors/bad_actors.json'\n",
    "\n",
    "with open(out_file, 'w') as f:\n",
    "    json.dump(bad_actors, f)"
   ]
  },
  {
   "cell_type": "markdown",
   "metadata": {},
   "source": [
    "### Plot Political Users Over Time"
   ]
  },
  {
   "cell_type": "code",
   "execution_count": 16,
   "metadata": {
    "scrolled": true
   },
   "outputs": [
    {
     "data": {
      "text/html": [
       "<div>\n",
       "<style scoped>\n",
       "    .dataframe tbody tr th:only-of-type {\n",
       "        vertical-align: middle;\n",
       "    }\n",
       "\n",
       "    .dataframe tbody tr th {\n",
       "        vertical-align: top;\n",
       "    }\n",
       "\n",
       "    .dataframe thead th {\n",
       "        text-align: right;\n",
       "    }\n",
       "</style>\n",
       "<table border=\"1\" class=\"dataframe\">\n",
       "  <thead>\n",
       "    <tr style=\"text-align: right;\">\n",
       "      <th></th>\n",
       "      <th>Year Month</th>\n",
       "      <th>Count</th>\n",
       "    </tr>\n",
       "  </thead>\n",
       "  <tbody>\n",
       "    <tr>\n",
       "      <th>0</th>\n",
       "      <td>2016-11-28</td>\n",
       "      <td>7298</td>\n",
       "    </tr>\n",
       "    <tr>\n",
       "      <th>1</th>\n",
       "      <td>2019-08-28</td>\n",
       "      <td>6031</td>\n",
       "    </tr>\n",
       "    <tr>\n",
       "      <th>2</th>\n",
       "      <td>2019-06-28</td>\n",
       "      <td>6262</td>\n",
       "    </tr>\n",
       "    <tr>\n",
       "      <th>3</th>\n",
       "      <td>2019-05-28</td>\n",
       "      <td>2706</td>\n",
       "    </tr>\n",
       "    <tr>\n",
       "      <th>4</th>\n",
       "      <td>2016-02-28</td>\n",
       "      <td>1745</td>\n",
       "    </tr>\n",
       "    <tr>\n",
       "      <th>...</th>\n",
       "      <td>...</td>\n",
       "      <td>...</td>\n",
       "    </tr>\n",
       "    <tr>\n",
       "      <th>160</th>\n",
       "      <td>2006-08-28</td>\n",
       "      <td>1</td>\n",
       "    </tr>\n",
       "    <tr>\n",
       "      <th>161</th>\n",
       "      <td>2007-01-28</td>\n",
       "      <td>1</td>\n",
       "    </tr>\n",
       "    <tr>\n",
       "      <th>162</th>\n",
       "      <td>2006-07-28</td>\n",
       "      <td>4</td>\n",
       "    </tr>\n",
       "    <tr>\n",
       "      <th>163</th>\n",
       "      <td>2006-04-28</td>\n",
       "      <td>3</td>\n",
       "    </tr>\n",
       "    <tr>\n",
       "      <th>164</th>\n",
       "      <td>2006-03-28</td>\n",
       "      <td>2</td>\n",
       "    </tr>\n",
       "  </tbody>\n",
       "</table>\n",
       "<p>165 rows × 2 columns</p>\n",
       "</div>"
      ],
      "text/plain": [
       "    Year Month  Count\n",
       "0   2016-11-28   7298\n",
       "1   2019-08-28   6031\n",
       "2   2019-06-28   6262\n",
       "3   2019-05-28   2706\n",
       "4   2016-02-28   1745\n",
       "..         ...    ...\n",
       "160 2006-08-28      1\n",
       "161 2007-01-28      1\n",
       "162 2006-07-28      4\n",
       "163 2006-04-28      3\n",
       "164 2006-03-28      2\n",
       "\n",
       "[165 rows x 2 columns]"
      ]
     },
     "execution_count": 16,
     "metadata": {},
     "output_type": "execute_result"
    }
   ],
   "source": [
    "year_month_counts = Counter()\n",
    "\n",
    "for user, political_data in user_politics_cleaned.items():\n",
    "    # Grab their 1st political post year month\n",
    "    first_pol_post_ts = int(political_data[0][1])\n",
    "    first_post_date = datetime.fromtimestamp(first_pol_post_ts)\n",
    "    year_month = str(first_post_date.year) + '-' + str(first_post_date.month)\n",
    "    year_month_counts[str(year_month)] += 1\n",
    "\n",
    "# Convert to DF for seaborn\n",
    "rows = []\n",
    "for year_month, count in dict(year_month_counts).items():\n",
    "    row = {'Year Month': parser.parse(year_month), 'Count': int(count)}\n",
    "    rows.append(row)\n",
    "    \n",
    "df_time = pd.DataFrame(rows)\n",
    "df_time"
   ]
  },
  {
   "cell_type": "code",
   "execution_count": 25,
   "metadata": {},
   "outputs": [
    {
     "data": {
      "text/plain": [
       "datetime.datetime(2019, 4, 21, 0, 0)"
      ]
     },
     "execution_count": 25,
     "metadata": {},
     "output_type": "execute_result"
    }
   ],
   "source": []
  },
  {
   "cell_type": "code",
   "execution_count": 17,
   "metadata": {},
   "outputs": [
    {
     "name": "stderr",
     "output_type": "stream",
     "text": [
      "/opt/anaconda/lib/python3.6/site-packages/pandas/plotting/_matplotlib/converter.py:103: FutureWarning: Using an implicitly registered datetime converter for a matplotlib plotting method. The converter was registered by pandas on import. Future versions of pandas will require you to explicitly register matplotlib converters.\n",
      "\n",
      "To register the converters:\n",
      "\t>>> from pandas.plotting import register_matplotlib_converters\n",
      "\t>>> register_matplotlib_converters()\n",
      "  warnings.warn(msg, FutureWarning)\n"
     ]
    },
    {
     "data": {
      "text/plain": [
       "<matplotlib.axes._subplots.AxesSubplot at 0x7fdf5952b3c8>"
      ]
     },
     "execution_count": 17,
     "metadata": {},
     "output_type": "execute_result"
    },
    {
     "data": {
      "image/png": "[encoded data removed]",
      "text/plain": [
       "<Figure size 432x288 with 1 Axes>"
      ]
     },
     "metadata": {
      "needs_background": "light"
     },
     "output_type": "display_data"
    }
   ],
   "source": [
    "sns.lineplot(data=df_time, x='Year Month', y='Count')\n"
   ]
  },
  {
   "cell_type": "markdown",
   "metadata": {},
   "source": [
    "## Grab All Submissions By Bad Actors"
   ]
  },
  {
   "cell_type": "code",
   "execution_count": 29,
   "metadata": {},
   "outputs": [
    {
     "data": {
      "text/plain": [
       "'/shared/2/datasets/reddit-dump-all/RS/RS_v2_2010-03.xz'"
      ]
     },
     "execution_count": 29,
     "metadata": {},
     "output_type": "execute_result"
    }
   ],
   "source": [
    "files = glob.glob('/shared/2/datasets/reddit-dump-all/RC/*.zst')\n",
    "files.extend(glob.glob('/shared/2/datasets/reddit-dump-all/RC/*.xz'))\n",
    "files.extend(glob.glob('/shared/2/datasets/reddit-dump-all/RC/*.bz2'))\n",
    "files.extend(glob.glob('/shared/2/datasets/reddit-dump-all/RS/*.bz2'))\n",
    "files.extend(glob.glob('/shared/2/datasets/reddit-dump-all/RS/*.xz'))\n",
    "files[270]"
   ]
  },
  {
   "cell_type": "code",
   "execution_count": null,
   "metadata": {},
   "outputs": [],
   "source": [
    "file = files[270]\n",
    "print(\"Starting on file: {}\".format(file))\n",
    "extension = file.split('.')[-1]\n",
    "if extension == \"zst\":\n",
    "    user_politics = parse_zst_bad_actor_comments(file, bad_actors)\n",
    "else:\n",
    "    user_politics = parse_bad_actor_comments(file, bad_actors)"
   ]
  },
  {
   "cell_type": "markdown",
   "metadata": {},
   "source": [
    "## How many submissions are there by political users?"
   ]
  },
  {
   "cell_type": "code",
   "execution_count": null,
   "metadata": {},
   "outputs": [],
   "source": []
  },
  {
   "cell_type": "markdown",
   "metadata": {},
   "source": [
    "# Bad Actors"
   ]
  },
  {
   "cell_type": "code",
   "execution_count": 46,
   "metadata": {},
   "outputs": [
    {
     "data": {
      "text/html": [
       "<div>\n",
       "<style scoped>\n",
       "    .dataframe tbody tr th:only-of-type {\n",
       "        vertical-align: middle;\n",
       "    }\n",
       "\n",
       "    .dataframe tbody tr th {\n",
       "        vertical-align: top;\n",
       "    }\n",
       "\n",
       "    .dataframe thead th {\n",
       "        text-align: right;\n",
       "    }\n",
       "</style>\n",
       "<table border=\"1\" class=\"dataframe\">\n",
       "  <thead>\n",
       "    <tr style=\"text-align: right;\">\n",
       "      <th></th>\n",
       "      <th>Year Month</th>\n",
       "      <th>Count</th>\n",
       "    </tr>\n",
       "  </thead>\n",
       "  <tbody>\n",
       "    <tr>\n",
       "      <th>0</th>\n",
       "      <td>2019-05-28</td>\n",
       "      <td>89</td>\n",
       "    </tr>\n",
       "    <tr>\n",
       "      <th>1</th>\n",
       "      <td>2019-08-28</td>\n",
       "      <td>165</td>\n",
       "    </tr>\n",
       "    <tr>\n",
       "      <th>2</th>\n",
       "      <td>2016-11-28</td>\n",
       "      <td>372</td>\n",
       "    </tr>\n",
       "    <tr>\n",
       "      <th>3</th>\n",
       "      <td>2019-01-28</td>\n",
       "      <td>75</td>\n",
       "    </tr>\n",
       "    <tr>\n",
       "      <th>4</th>\n",
       "      <td>2012-08-28</td>\n",
       "      <td>32</td>\n",
       "    </tr>\n",
       "    <tr>\n",
       "      <th>...</th>\n",
       "      <td>...</td>\n",
       "      <td>...</td>\n",
       "    </tr>\n",
       "    <tr>\n",
       "      <th>144</th>\n",
       "      <td>2006-11-28</td>\n",
       "      <td>1</td>\n",
       "    </tr>\n",
       "    <tr>\n",
       "      <th>145</th>\n",
       "      <td>2008-02-28</td>\n",
       "      <td>1</td>\n",
       "    </tr>\n",
       "    <tr>\n",
       "      <th>146</th>\n",
       "      <td>2008-05-28</td>\n",
       "      <td>1</td>\n",
       "    </tr>\n",
       "    <tr>\n",
       "      <th>147</th>\n",
       "      <td>2009-10-28</td>\n",
       "      <td>1</td>\n",
       "    </tr>\n",
       "    <tr>\n",
       "      <th>148</th>\n",
       "      <td>2006-07-28</td>\n",
       "      <td>1</td>\n",
       "    </tr>\n",
       "  </tbody>\n",
       "</table>\n",
       "<p>149 rows × 2 columns</p>\n",
       "</div>"
      ],
      "text/plain": [
       "    Year Month  Count\n",
       "0   2019-05-28     89\n",
       "1   2019-08-28    165\n",
       "2   2016-11-28    372\n",
       "3   2019-01-28     75\n",
       "4   2012-08-28     32\n",
       "..         ...    ...\n",
       "144 2006-11-28      1\n",
       "145 2008-02-28      1\n",
       "146 2008-05-28      1\n",
       "147 2009-10-28      1\n",
       "148 2006-07-28      1\n",
       "\n",
       "[149 rows x 2 columns]"
      ]
     },
     "execution_count": 46,
     "metadata": {},
     "output_type": "execute_result"
    }
   ],
   "source": [
    "year_month_ba_counts = Counter()\n",
    "\n",
    "for user, political_data in bad_actors_constrained.items():\n",
    "    first_pol_post_ts = int(political_data[0][1])\n",
    "    first_post_date = datetime.fromtimestamp(first_pol_post_ts)\n",
    "    year_month = str(first_post_date.year) + '-' + str(first_post_date.month)\n",
    "    year_month_ba_counts[str(year_month)] += 1\n",
    "\n",
    "# Convert to DF for seaborn\n",
    "rows = []\n",
    "for year_month, count in dict(year_month_ba_counts).items():\n",
    "    row = {'Year Month': parser.parse(year_month), 'Count': int(count)}\n",
    "    rows.append(row)\n",
    "    \n",
    "ba_time = pd.DataFrame(rows)\n",
    "ba_time"
   ]
  },
  {
   "cell_type": "code",
   "execution_count": 47,
   "metadata": {},
   "outputs": [
    {
     "data": {
      "text/plain": [
       "Text(0.5, 1.0, 'Bad Actors Over Time')"
      ]
     },
     "execution_count": 47,
     "metadata": {},
     "output_type": "execute_result"
    },
    {
     "data": {
      "image/png": "[encoded data removed]",
      "text/plain": [
       "<Figure size 432x288 with 1 Axes>"
      ]
     },
     "metadata": {
      "needs_background": "light"
     },
     "output_type": "display_data"
    }
   ],
   "source": [
    "sns.lineplot(data=ba_time, x='Year Month', y='Count').set_title('Bad Actors Over Time')"
   ]
  }
 ],
 "metadata": {
  "kernelspec": {
   "display_name": "Python 3",
   "language": "python",
   "name": "python3"
  },
  "language_info": {
   "codemirror_mode": {
    "name": "ipython",
    "version": 3
   },
   "file_extension": ".py",
   "mimetype": "text/x-python",
   "name": "python",
   "nbconvert_exporter": "python",
   "pygments_lexer": "ipython3",
   "version": "3.6.8"
  }
 },
 "nbformat": 4,
 "nbformat_minor": 2
}
