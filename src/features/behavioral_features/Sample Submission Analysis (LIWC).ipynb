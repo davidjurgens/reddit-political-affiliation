{
 "cells": [
  {
   "cell_type": "code",
   "execution_count": 1,
   "metadata": {},
   "outputs": [],
   "source": [
    "import sys\n",
    "import re\n",
    "import numpy as np\n",
    "import pandas as pd\n",
    "import seaborn as sns\n",
    "import liwc\n",
    "from matplotlib import pyplot as plt\n",
    "\n",
    "from collections import defaultdict, Counter\n",
    "\n",
    "\n",
    "sys.path.append('/home/kalkiek/projects/reddit-political-affiliation/')\n",
    "\n",
    "from src.features.collect_samples import get_non_political_samples, get_political_samples, get_bad_actor_samples\n",
    "from src.features.collect_user_features import read_in_non_pol_user_features, read_in_pol_user_features, read_in_bad_actor_features\n",
    "from src.features.political_affiliations.conglomerate_affiliations import get_all_political_users\n",
    "from src.features.bad_actors.bad_actors import read_in_bad_actor_usernames\n",
    "from src.models.ppr.build_graph import grab_bot_accounts"
   ]
  },
  {
   "cell_type": "markdown",
   "metadata": {},
   "source": [
    "### Read in the sample submissions from each group "
   ]
  },
  {
   "cell_type": "code",
   "execution_count": 2,
   "metadata": {},
   "outputs": [
    {
     "name": "stdout",
     "output_type": "stream",
     "text": [
      "24990\n",
      "24968\n",
      "23301\n"
     ]
    }
   ],
   "source": [
    "non_pol_df = get_non_political_samples()\n",
    "pol_df = get_political_samples()\n",
    "bad_actors_df = get_bad_actor_samples()\n",
    "\n",
    "print(len(non_pol_df))\n",
    "print(len(pol_df))\n",
    "print(len(bad_actors_df))"
   ]
  },
  {
   "cell_type": "markdown",
   "metadata": {},
   "source": [
    "### Data Cleaning\n",
    "\n",
    "We changed filter criteria after collecting some of this data so confirm the data is clean\n",
    "\n",
    "Double check no bots "
   ]
  },
  {
   "cell_type": "code",
   "execution_count": 3,
   "metadata": {},
   "outputs": [
    {
     "name": "stdout",
     "output_type": "stream",
     "text": [
      "Known bots: 393\n",
      "Removing known bots just in case...\n",
      "24990\n",
      "9822\n",
      "23301\n"
     ]
    }
   ],
   "source": [
    "bots = grab_bot_accounts()\n",
    "bots.add('[deleted]')\n",
    "print(\"Removing known bots just in case...\")\n",
    "non_pol_df = non_pol_df[~non_pol_df['username'].isin(bots)]\n",
    "pol_df = pol_df[~pol_df['username'].isin(bots)]\n",
    "bad_actors_df = bad_actors_df[~bad_actors_df['username'].isin(bots)]\n",
    "\n",
    "# # We changed filter criteria after collecting some of this data\n",
    "# # Verify the political users and bad actors are up to date\n",
    "# pol_users = get_all_political_users()\n",
    "# bad_actors = get_bad_actors_90_days_1_flip_flop()\n",
    "\n",
    "# pol_df = pol_df[pol_df['username'].isin(pol_users)]\n",
    "# bad_actors_df = bad_actors_df[bad_actors_df['username'].isin(bad_actors)]\n",
    "\n",
    "print(len(non_pol_df))\n",
    "print(len(pol_df))\n",
    "print(len(bad_actors_df))"
   ]
  },
  {
   "cell_type": "code",
   "execution_count": 26,
   "metadata": {},
   "outputs": [
    {
     "name": "stdout",
     "output_type": "stream",
     "text": [
      "Grabbing random 10k sample from each data source\n"
     ]
    },
    {
     "data": {
      "text/html": [
       "<div>\n",
       "<style scoped>\n",
       "    .dataframe tbody tr th:only-of-type {\n",
       "        vertical-align: middle;\n",
       "    }\n",
       "\n",
       "    .dataframe tbody tr th {\n",
       "        vertical-align: top;\n",
       "    }\n",
       "\n",
       "    .dataframe thead th {\n",
       "        text-align: right;\n",
       "    }\n",
       "</style>\n",
       "<table border=\"1\" class=\"dataframe\">\n",
       "  <thead>\n",
       "    <tr style=\"text-align: right;\">\n",
       "      <th></th>\n",
       "      <th>username</th>\n",
       "      <th>subreddit</th>\n",
       "      <th>created</th>\n",
       "      <th>text</th>\n",
       "    </tr>\n",
       "  </thead>\n",
       "  <tbody>\n",
       "    <tr>\n",
       "      <th>0</th>\n",
       "      <td>Whisper</td>\n",
       "      <td>science</td>\n",
       "      <td>1170305102</td>\n",
       "      <td>sorry for the double reply, but what what you ...</td>\n",
       "    </tr>\n",
       "    <tr>\n",
       "      <th>1</th>\n",
       "      <td>eromitlab</td>\n",
       "      <td>nsfw</td>\n",
       "      <td>1283299439</td>\n",
       "      <td>pull over and hit that like a boss.\\n</td>\n",
       "    </tr>\n",
       "    <tr>\n",
       "      <th>2</th>\n",
       "      <td>runujhkj</td>\n",
       "      <td>CFB</td>\n",
       "      <td>1385856034</td>\n",
       "      <td>holy shit i want state to play usm again so ba...</td>\n",
       "    </tr>\n",
       "    <tr>\n",
       "      <th>3</th>\n",
       "      <td>banthisaltplz</td>\n",
       "      <td>OutOfTheLoop</td>\n",
       "      <td>1533081607</td>\n",
       "      <td>i'm reading this as a lot of revisionism as we...</td>\n",
       "    </tr>\n",
       "    <tr>\n",
       "      <th>4</th>\n",
       "      <td>FalmerbloodElixir</td>\n",
       "      <td>Games</td>\n",
       "      <td>1391212849</td>\n",
       "      <td>&amp;gt;when-hell-freezes-over scenario: nintendo ...</td>\n",
       "    </tr>\n",
       "  </tbody>\n",
       "</table>\n",
       "</div>"
      ],
      "text/plain": [
       "            username     subreddit     created  \\\n",
       "0            Whisper       science  1170305102   \n",
       "1          eromitlab          nsfw  1283299439   \n",
       "2           runujhkj           CFB  1385856034   \n",
       "3      banthisaltplz  OutOfTheLoop  1533081607   \n",
       "4  FalmerbloodElixir         Games  1391212849   \n",
       "\n",
       "                                                text  \n",
       "0  sorry for the double reply, but what what you ...  \n",
       "1              pull over and hit that like a boss.\\n  \n",
       "2  holy shit i want state to play usm again so ba...  \n",
       "3  i'm reading this as a lot of revisionism as we...  \n",
       "4  &gt;when-hell-freezes-over scenario: nintendo ...  "
      ]
     },
     "execution_count": 26,
     "metadata": {},
     "output_type": "execute_result"
    }
   ],
   "source": [
    "N = 5000\n",
    "\n",
    "def random_df_sample(df, n):\n",
    "    df_shuffled = df.sample(frac=1).reset_index(drop=True)\n",
    "    return df_shuffled.iloc[:n]\n",
    "    \n",
    "print(\"Grabbing random 10k sample from each data source\")\n",
    "pol_sample = random_df_sample(pol_df, N)\n",
    "non_pol_sample = random_df_sample(non_pol_df, N)\n",
    "bad_actor_sample = random_df_sample(bad_actors_df, N)\n",
    "\n",
    "pol_sample.head()"
   ]
  },
  {
   "cell_type": "code",
   "execution_count": 27,
   "metadata": {},
   "outputs": [
    {
     "data": {
      "text/html": [
       "<div>\n",
       "<style scoped>\n",
       "    .dataframe tbody tr th:only-of-type {\n",
       "        vertical-align: middle;\n",
       "    }\n",
       "\n",
       "    .dataframe tbody tr th {\n",
       "        vertical-align: top;\n",
       "    }\n",
       "\n",
       "    .dataframe thead th {\n",
       "        text-align: right;\n",
       "    }\n",
       "</style>\n",
       "<table border=\"1\" class=\"dataframe\">\n",
       "  <thead>\n",
       "    <tr style=\"text-align: right;\">\n",
       "      <th></th>\n",
       "      <th>username</th>\n",
       "      <th>source</th>\n",
       "      <th>category</th>\n",
       "      <th>percentage</th>\n",
       "    </tr>\n",
       "  </thead>\n",
       "  <tbody>\n",
       "    <tr>\n",
       "      <th>0</th>\n",
       "      <td>e40</td>\n",
       "      <td>Political</td>\n",
       "      <td>function (Function Words)</td>\n",
       "      <td>0.192287</td>\n",
       "    </tr>\n",
       "    <tr>\n",
       "      <th>1</th>\n",
       "      <td>e40</td>\n",
       "      <td>Political</td>\n",
       "      <td>adverb (Adverbs)</td>\n",
       "      <td>0.021184</td>\n",
       "    </tr>\n",
       "    <tr>\n",
       "      <th>2</th>\n",
       "      <td>e40</td>\n",
       "      <td>Political</td>\n",
       "      <td>auxverb (Auxiliary Verbs)</td>\n",
       "      <td>0.028246</td>\n",
       "    </tr>\n",
       "    <tr>\n",
       "      <th>3</th>\n",
       "      <td>e40</td>\n",
       "      <td>Political</td>\n",
       "      <td>verb (Verbs)</td>\n",
       "      <td>0.055133</td>\n",
       "    </tr>\n",
       "    <tr>\n",
       "      <th>4</th>\n",
       "      <td>e40</td>\n",
       "      <td>Political</td>\n",
       "      <td>focuspresent (Present Focus)</td>\n",
       "      <td>0.038294</td>\n",
       "    </tr>\n",
       "  </tbody>\n",
       "</table>\n",
       "</div>"
      ],
      "text/plain": [
       "  username     source                      category  percentage\n",
       "0      e40  Political     function (Function Words)    0.192287\n",
       "1      e40  Political              adverb (Adverbs)    0.021184\n",
       "2      e40  Political     auxverb (Auxiliary Verbs)    0.028246\n",
       "3      e40  Political                  verb (Verbs)    0.055133\n",
       "4      e40  Political  focuspresent (Present Focus)    0.038294"
      ]
     },
     "execution_count": 27,
     "metadata": {},
     "output_type": "execute_result"
    }
   ],
   "source": [
    "parse, category_names = liwc.load_token_parser('/shared/0/resources/liwc/LIWC2015_English.dic')\n",
    "\n",
    "\n",
    "def tokenize(text):\n",
    "    for match in re.finditer(r'\\w+', text, re.UNICODE):\n",
    "        yield match.group(0)\n",
    "        \n",
    "\n",
    "def compute_category_percentages_for_all_users(df, source):\n",
    "    username_category_totals = defaultdict(lambda: defaultdict(int))\n",
    "\n",
    "    for index, row in df.iterrows():\n",
    "        sample = list(tokenize(row['text']))\n",
    "        for token in tokenize(row['text']):\n",
    "            for category in parse(token):\n",
    "                username_category_totals[row['username']][category] += 1\n",
    "\n",
    "    username_category_percentages = defaultdict(lambda: defaultdict(float))\n",
    "\n",
    "    for user, category_counts in username_category_totals.items():\n",
    "        total_words = np.sum(list(category_counts.values()))\n",
    "        for category, count in category_counts.items():\n",
    "            username_category_percentages[user][category] = count / total_words\n",
    "    \n",
    "    rows = []\n",
    "    for user, category_percentages in username_category_percentages.items():\n",
    "        for category, percentage in category_percentages.items():\n",
    "            row = {'username': user, 'source': source, 'category': category, 'percentage': percentage}\n",
    "            rows.append(row)\n",
    "    return pd.DataFrame(rows)\n",
    "\n",
    "pol_cat_per_df = compute_category_percentages_for_all_users(pol_df, 'Political')  \n",
    "non_pol_cat_per_df = compute_category_percentages_for_all_users(non_pol_df, 'Non-Political')   \n",
    "bad_actor_cat_per_df = compute_category_percentages_for_all_users(bad_actors_df, 'Bad Actors')   \n",
    "\n",
    "pol_cat_per_df.head()"
   ]
  },
  {
   "cell_type": "code",
   "execution_count": 28,
   "metadata": {},
   "outputs": [
    {
     "name": "stdout",
     "output_type": "stream",
     "text": [
      "Top 10 categories for political users\n",
      "                         category     source  percentage\n",
      "29      function (Function Words)  Political    0.183805\n",
      "53             pronoun (Pronouns)  Political    0.060324\n",
      "69                   verb (Verbs)  Political    0.057717\n",
      "14  cogproc (Cognitive Processes)  Political    0.054006\n",
      "55           relativ (Relativity)  Political    0.051997\n",
      "52            prep (Prepositions)  Political    0.049188\n",
      "63                social (Social)  Political    0.043674\n",
      "27   focuspresent (Present Focus)  Political    0.043174\n",
      "51      ppron (Personal Pronouns)  Political    0.039303\n",
      "3                 affect (Affect)  Political    0.036563\n",
      "Top 10 categories for non-political users\n",
      "                         category         source  percentage\n",
      "29      function (Function Words)  Non-Political    0.184851\n",
      "53             pronoun (Pronouns)  Non-Political    0.062452\n",
      "69                   verb (Verbs)  Non-Political    0.059885\n",
      "55           relativ (Relativity)  Non-Political    0.055130\n",
      "14  cogproc (Cognitive Processes)  Non-Political    0.054808\n",
      "52            prep (Prepositions)  Non-Political    0.051205\n",
      "27   focuspresent (Present Focus)  Non-Political    0.045648\n",
      "63                social (Social)  Non-Political    0.044916\n",
      "45            netspeak (Netspeak)  Non-Political    0.044535\n",
      "51      ppron (Personal Pronouns)  Non-Political    0.041334\n",
      "Top 10 categories for bad actors\n",
      "                         category      source  percentage\n",
      "29      function (Function Words)  Bad Actors    0.181998\n",
      "53             pronoun (Pronouns)  Bad Actors    0.056378\n",
      "69                   verb (Verbs)  Bad Actors    0.055406\n",
      "14  cogproc (Cognitive Processes)  Bad Actors    0.048178\n",
      "52            prep (Prepositions)  Bad Actors    0.045362\n",
      "55           relativ (Relativity)  Bad Actors    0.044898\n",
      "63                social (Social)  Bad Actors    0.040138\n",
      "27   focuspresent (Present Focus)  Bad Actors    0.039291\n",
      "51      ppron (Personal Pronouns)  Bad Actors    0.035232\n",
      "20                drives (Drives)  Bad Actors    0.030869\n"
     ]
    },
    {
     "data": {
      "text/html": [
       "<div>\n",
       "<style scoped>\n",
       "    .dataframe tbody tr th:only-of-type {\n",
       "        vertical-align: middle;\n",
       "    }\n",
       "\n",
       "    .dataframe tbody tr th {\n",
       "        vertical-align: top;\n",
       "    }\n",
       "\n",
       "    .dataframe thead th {\n",
       "        text-align: right;\n",
       "    }\n",
       "</style>\n",
       "<table border=\"1\" class=\"dataframe\">\n",
       "  <thead>\n",
       "    <tr style=\"text-align: right;\">\n",
       "      <th></th>\n",
       "      <th>category</th>\n",
       "      <th>source</th>\n",
       "      <th>percentage</th>\n",
       "    </tr>\n",
       "  </thead>\n",
       "  <tbody>\n",
       "    <tr>\n",
       "      <th>29</th>\n",
       "      <td>function (Function Words)</td>\n",
       "      <td>Political</td>\n",
       "      <td>0.183805</td>\n",
       "    </tr>\n",
       "    <tr>\n",
       "      <th>53</th>\n",
       "      <td>pronoun (Pronouns)</td>\n",
       "      <td>Political</td>\n",
       "      <td>0.060324</td>\n",
       "    </tr>\n",
       "    <tr>\n",
       "      <th>69</th>\n",
       "      <td>verb (Verbs)</td>\n",
       "      <td>Political</td>\n",
       "      <td>0.057717</td>\n",
       "    </tr>\n",
       "    <tr>\n",
       "      <th>14</th>\n",
       "      <td>cogproc (Cognitive Processes)</td>\n",
       "      <td>Political</td>\n",
       "      <td>0.054006</td>\n",
       "    </tr>\n",
       "    <tr>\n",
       "      <th>55</th>\n",
       "      <td>relativ (Relativity)</td>\n",
       "      <td>Political</td>\n",
       "      <td>0.051997</td>\n",
       "    </tr>\n",
       "  </tbody>\n",
       "</table>\n",
       "</div>"
      ],
      "text/plain": [
       "                         category     source  percentage\n",
       "29      function (Function Words)  Political    0.183805\n",
       "53             pronoun (Pronouns)  Political    0.060324\n",
       "69                   verb (Verbs)  Political    0.057717\n",
       "14  cogproc (Cognitive Processes)  Political    0.054006\n",
       "55           relativ (Relativity)  Political    0.051997"
      ]
     },
     "execution_count": 28,
     "metadata": {},
     "output_type": "execute_result"
    }
   ],
   "source": [
    "pol_avg_per = pol_cat_per_df.groupby(['category', 'source']).mean().reset_index().sort_values('percentage', ascending=False)\n",
    "non_pol_avg_per = non_pol_cat_per_df.groupby(['category', 'source']).mean().reset_index().sort_values('percentage', ascending=False)\n",
    "bad_actor_avg_per = bad_actor_cat_per_df.groupby(['category', 'source']).mean().reset_index().sort_values('percentage', ascending=False)\n",
    "\n",
    "print(\"Top 10 categories for political users\")\n",
    "print(pol_avg_per.head(10))\n",
    "\n",
    "print(\"Top 10 categories for non-political users\")\n",
    "print(non_pol_avg_per.head(10))\n",
    "\n",
    "print(\"Top 10 categories for bad actors\")\n",
    "print(bad_actor_avg_per.head(10))\n",
    "\n",
    "frames = [pol_avg_per, non_pol_avg_per, bad_actor_avg_per]\n",
    "\n",
    "df_avg_per = pd.concat(frames)\n",
    "df_avg_per.head()"
   ]
  },
  {
   "cell_type": "code",
   "execution_count": 32,
   "metadata": {},
   "outputs": [
    {
     "data": {
      "image/png": "[encoded data removed]",
      "text/plain": [
       "<Figure size 432x288 with 1 Axes>"
      ]
     },
     "metadata": {
      "needs_background": "light"
     },
     "output_type": "display_data"
    }
   ],
   "source": [
    "categories = category_names[20:30]\n",
    "df_avg = df_avg_per[df_avg_per['category'].isin(categories)]\n",
    "\n",
    "ax = sns.barplot(x=\"category\", y=\"percentage\", hue=\"source\", data=df_avg)\n",
    "\n",
    "ax.set_xticklabels(ax.get_xticklabels(), rotation=40, ha=\"right\")\n",
    "plt.tight_layout()\n",
    "plt.show()"
   ]
  },
  {
   "cell_type": "code",
   "execution_count": 27,
   "metadata": {},
   "outputs": [
    {
     "name": "stdout",
     "output_type": "stream",
     "text": [
      "Number of political words: 350244\n",
      "Number of non-political words: 653752\n",
      "Number of bad actor words: 1059178\n"
     ]
    }
   ],
   "source": [
    "pol_words = \" \".join(pol_sample['text'].tolist())\n",
    "non_pol_words = \" \".join(non_pol_sample['text'].tolist())\n",
    "bad_actor_words = \" \".join(bad_actor_sample['text'].tolist())\n",
    "\n",
    "print(\"Number of political words: {}\".format(len(pol_words.split(\" \"))))\n",
    "print(\"Number of non-political words: {}\".format(len(non_pol_words.split(\" \"))))\n",
    "print(\"Number of bad actor words: {}\".format(len(bad_actor_words.split(\" \"))))"
   ]
  },
  {
   "cell_type": "markdown",
   "metadata": {},
   "source": [
    "# LIWC Category Analysis"
   ]
  },
  {
   "cell_type": "code",
   "execution_count": 28,
   "metadata": {},
   "outputs": [],
   "source": [
    "parse, category_names = liwc.load_token_parser('/shared/0/resources/liwc/LIWC2015_English.dic')\n",
    "\n",
    "def tokenize(text):\n",
    "    for match in re.finditer(r'\\w+', text, re.UNICODE):\n",
    "        yield match.group(0)\n",
    "        \n",
    "pol_counts = Counter(category for token in pol_words for category in parse(token))\n",
    "non_pol_counts = Counter(category for token in non_pol_words for category in parse(token))\n",
    "bad_actor_counts = Counter(category for token in bad_actor_words for category in parse(token))"
   ]
  },
  {
   "cell_type": "markdown",
   "metadata": {},
   "source": [
    "## Categories as Percentages"
   ]
  },
  {
   "cell_type": "code",
   "execution_count": 29,
   "metadata": {},
   "outputs": [
    {
     "data": {
      "text/html": [
       "<div>\n",
       "<style scoped>\n",
       "    .dataframe tbody tr th:only-of-type {\n",
       "        vertical-align: middle;\n",
       "    }\n",
       "\n",
       "    .dataframe tbody tr th {\n",
       "        vertical-align: top;\n",
       "    }\n",
       "\n",
       "    .dataframe thead th {\n",
       "        text-align: right;\n",
       "    }\n",
       "</style>\n",
       "<table border=\"1\" class=\"dataframe\">\n",
       "  <thead>\n",
       "    <tr style=\"text-align: right;\">\n",
       "      <th></th>\n",
       "      <th>Category</th>\n",
       "      <th>Percentage</th>\n",
       "      <th>Source</th>\n",
       "    </tr>\n",
       "  </thead>\n",
       "  <tbody>\n",
       "    <tr>\n",
       "      <th>0</th>\n",
       "      <td>function (Function Words)</td>\n",
       "      <td>0.188760</td>\n",
       "      <td>Political</td>\n",
       "    </tr>\n",
       "    <tr>\n",
       "      <th>1</th>\n",
       "      <td>article (Articles)</td>\n",
       "      <td>0.080392</td>\n",
       "      <td>Political</td>\n",
       "    </tr>\n",
       "    <tr>\n",
       "      <th>2</th>\n",
       "      <td>informal (Informal Language)</td>\n",
       "      <td>0.197660</td>\n",
       "      <td>Political</td>\n",
       "    </tr>\n",
       "    <tr>\n",
       "      <th>3</th>\n",
       "      <td>netspeak (Netspeak)</td>\n",
       "      <td>0.197660</td>\n",
       "      <td>Political</td>\n",
       "    </tr>\n",
       "    <tr>\n",
       "      <th>4</th>\n",
       "      <td>assent (Assent)</td>\n",
       "      <td>0.010425</td>\n",
       "      <td>Political</td>\n",
       "    </tr>\n",
       "  </tbody>\n",
       "</table>\n",
       "</div>"
      ],
      "text/plain": [
       "                       Category  Percentage     Source\n",
       "0     function (Function Words)    0.188760  Political\n",
       "1            article (Articles)    0.080392  Political\n",
       "2  informal (Informal Language)    0.197660  Political\n",
       "3           netspeak (Netspeak)    0.197660  Political\n",
       "4               assent (Assent)    0.010425  Political"
      ]
     },
     "execution_count": 29,
     "metadata": {},
     "output_type": "execute_result"
    }
   ],
   "source": [
    "def compute_category_percentages(category_counts, source):\n",
    "    rows = []\n",
    "    total_words = np.sum(list(category_counts.values()))\n",
    "    for category, count in category_counts.items():\n",
    "        entry = {'Category': category, 'Percentage': count / total_words, 'Source': source}\n",
    "        rows.append(entry)\n",
    "    return rows\n",
    "\n",
    "rows = []\n",
    "rows.extend(compute_category_percentages(pol_counts, 'Political'))\n",
    "rows.extend(compute_category_percentages(non_pol_counts, 'Non-Political'))\n",
    "rows.extend(compute_category_percentages(bad_actor_counts, 'Bad Actors'))\n",
    "\n",
    "categories_df = pd.DataFrame(rows, columns=['Category', 'Percentage', 'Source'])\n",
    "categories_df.head()"
   ]
  },
  {
   "cell_type": "code",
   "execution_count": 32,
   "metadata": {},
   "outputs": [
    {
     "data": {
      "image/png": "[encoded data removed]",
      "text/plain": [
       "<Figure size 432x288 with 1 Axes>"
      ]
     },
     "metadata": {
      "needs_background": "light"
     },
     "output_type": "display_data"
    }
   ],
   "source": [
    "ax = sns.barplot(x=\"Category\", y=\"Percentage\", hue=\"Source\", data=categories_df)\n",
    "\n",
    "ax.set_xticklabels(ax.get_xticklabels(), rotation=40, ha=\"right\")\n",
    "# plt.tight_layout()\n",
    "plt.show()"
   ]
  },
  {
   "cell_type": "markdown",
   "metadata": {},
   "source": [
    "### Bootstrap Confidence Intervals"
   ]
  },
  {
   "cell_type": "code",
   "execution_count": 49,
   "metadata": {},
   "outputs": [
    {
     "data": {
      "text/html": [
       "<div>\n",
       "<style scoped>\n",
       "    .dataframe tbody tr th:only-of-type {\n",
       "        vertical-align: middle;\n",
       "    }\n",
       "\n",
       "    .dataframe tbody tr th {\n",
       "        vertical-align: top;\n",
       "    }\n",
       "\n",
       "    .dataframe thead th {\n",
       "        text-align: right;\n",
       "    }\n",
       "</style>\n",
       "<table border=\"1\" class=\"dataframe\">\n",
       "  <thead>\n",
       "    <tr style=\"text-align: right;\">\n",
       "      <th></th>\n",
       "      <th>Category</th>\n",
       "      <th>Percentage</th>\n",
       "      <th>Source</th>\n",
       "    </tr>\n",
       "  </thead>\n",
       "  <tbody>\n",
       "    <tr>\n",
       "      <th>0</th>\n",
       "      <td>informal (Informal Language)</td>\n",
       "      <td>0.198387</td>\n",
       "      <td>Political</td>\n",
       "    </tr>\n",
       "    <tr>\n",
       "      <th>1</th>\n",
       "      <td>netspeak (Netspeak)</td>\n",
       "      <td>0.198387</td>\n",
       "      <td>Political</td>\n",
       "    </tr>\n",
       "    <tr>\n",
       "      <th>2</th>\n",
       "      <td>function (Function Words)</td>\n",
       "      <td>0.187876</td>\n",
       "      <td>Political</td>\n",
       "    </tr>\n",
       "    <tr>\n",
       "      <th>3</th>\n",
       "      <td>pronoun (Pronouns)</td>\n",
       "      <td>0.108545</td>\n",
       "      <td>Political</td>\n",
       "    </tr>\n",
       "    <tr>\n",
       "      <th>4</th>\n",
       "      <td>ppron (Personal Pronouns)</td>\n",
       "      <td>0.108545</td>\n",
       "      <td>Political</td>\n",
       "    </tr>\n",
       "  </tbody>\n",
       "</table>\n",
       "</div>"
      ],
      "text/plain": [
       "                       Category  Percentage     Source\n",
       "0  informal (Informal Language)    0.198387  Political\n",
       "1           netspeak (Netspeak)    0.198387  Political\n",
       "2     function (Function Words)    0.187876  Political\n",
       "3            pronoun (Pronouns)    0.108545  Political\n",
       "4     ppron (Personal Pronouns)    0.108545  Political"
      ]
     },
     "execution_count": 49,
     "metadata": {},
     "output_type": "execute_result"
    }
   ],
   "source": [
    "n_iters = 100\n",
    "sample_size = 5000 \n",
    "\n",
    "p_bootstrap_samples, np_bootstrap_samples, ba_bootstrap_samples = [], [], []\n",
    "\n",
    "rows = []\n",
    "\n",
    "for i in range(n_iters):\n",
    "    \n",
    "    pol_sample = random_df_sample(pol_df, n=sample_size)\n",
    "    pol_sample_words = \" \".join(pol_sample['text'].tolist())\n",
    "    pol_sample_counts = Counter(category for token in pol_sample_words for category in parse(token))\n",
    "    total_pol_sample_words = np.sum(list(pol_sample_counts.values()))\n",
    "    \n",
    "    non_pol_sample = random_df_sample(non_pol_df, n=sample_size)\n",
    "    non_pol_sample_words = \" \".join(non_pol_sample['text'].tolist())\n",
    "    non_pol_sample_counts = Counter(category for token in non_pol_sample_words for category in parse(token))\n",
    "    total_non_pol_sample_words = np.sum(list(non_pol_sample_counts.values()))\n",
    "    \n",
    "    bad_actors_sample = random_df_sample(bad_actors_df, n=sample_size)\n",
    "    bad_actors_sample_words = \" \".join(bad_actors_sample['text'].tolist())\n",
    "    bad_actors_sample_counts = Counter(category for token in bad_actors_sample_words for category in parse(token))\n",
    "    total_bad_actors_sample_words = np.sum(list(bad_actors_sample_counts.values()))\n",
    "    \n",
    "    rows.extend(compute_category_percentages(total_pol_sample_words, pol_sample_counts, 'Political'))\n",
    "    rows.extend(compute_category_percentages(total_non_pol_sample_words, non_pol_sample_counts, 'Non-Political'))\n",
    "    rows.extend(compute_category_percentages(total_bad_actors_sample_words, bad_actors_sample_counts, 'Bad Actors'))\n",
    "    \n",
    "    \n",
    "bs_categories_df = pd.DataFrame(rows, columns=['Category', 'Percentage', 'Source'])\n",
    "bs_categories_df.head()"
   ]
  },
  {
   "cell_type": "code",
   "execution_count": 50,
   "metadata": {},
   "outputs": [
    {
     "data": {
      "text/html": [
       "<div>\n",
       "<style scoped>\n",
       "    .dataframe tbody tr th:only-of-type {\n",
       "        vertical-align: middle;\n",
       "    }\n",
       "\n",
       "    .dataframe tbody tr th {\n",
       "        vertical-align: top;\n",
       "    }\n",
       "\n",
       "    .dataframe thead th {\n",
       "        text-align: right;\n",
       "    }\n",
       "</style>\n",
       "<table border=\"1\" class=\"dataframe\">\n",
       "  <thead>\n",
       "    <tr style=\"text-align: right;\">\n",
       "      <th></th>\n",
       "      <th>Category</th>\n",
       "      <th>Percentage</th>\n",
       "      <th>Source</th>\n",
       "    </tr>\n",
       "  </thead>\n",
       "  <tbody>\n",
       "    <tr>\n",
       "      <th>0</th>\n",
       "      <td>function (Function Words)</td>\n",
       "      <td>0.188133</td>\n",
       "      <td>Political</td>\n",
       "    </tr>\n",
       "    <tr>\n",
       "      <th>1</th>\n",
       "      <td>pronoun (Pronouns)</td>\n",
       "      <td>0.108209</td>\n",
       "      <td>Political</td>\n",
       "    </tr>\n",
       "    <tr>\n",
       "      <th>2</th>\n",
       "      <td>ppron (Personal Pronouns)</td>\n",
       "      <td>0.108209</td>\n",
       "      <td>Political</td>\n",
       "    </tr>\n",
       "    <tr>\n",
       "      <th>3</th>\n",
       "      <td>you (You)</td>\n",
       "      <td>0.032741</td>\n",
       "      <td>Political</td>\n",
       "    </tr>\n",
       "    <tr>\n",
       "      <th>4</th>\n",
       "      <td>informal (Informal Language)</td>\n",
       "      <td>0.198442</td>\n",
       "      <td>Political</td>\n",
       "    </tr>\n",
       "    <tr>\n",
       "      <th>5</th>\n",
       "      <td>netspeak (Netspeak)</td>\n",
       "      <td>0.198442</td>\n",
       "      <td>Political</td>\n",
       "    </tr>\n",
       "    <tr>\n",
       "      <th>6</th>\n",
       "      <td>article (Articles)</td>\n",
       "      <td>0.079925</td>\n",
       "      <td>Political</td>\n",
       "    </tr>\n",
       "    <tr>\n",
       "      <th>7</th>\n",
       "      <td>assent (Assent)</td>\n",
       "      <td>0.010432</td>\n",
       "      <td>Political</td>\n",
       "    </tr>\n",
       "    <tr>\n",
       "      <th>8</th>\n",
       "      <td>i (I)</td>\n",
       "      <td>0.075468</td>\n",
       "      <td>Political</td>\n",
       "    </tr>\n",
       "    <tr>\n",
       "      <th>9</th>\n",
       "      <td>function (Function Words)</td>\n",
       "      <td>0.188172</td>\n",
       "      <td>Non-Political</td>\n",
       "    </tr>\n",
       "    <tr>\n",
       "      <th>10</th>\n",
       "      <td>article (Articles)</td>\n",
       "      <td>0.080420</td>\n",
       "      <td>Non-Political</td>\n",
       "    </tr>\n",
       "    <tr>\n",
       "      <th>11</th>\n",
       "      <td>informal (Informal Language)</td>\n",
       "      <td>0.198712</td>\n",
       "      <td>Non-Political</td>\n",
       "    </tr>\n",
       "    <tr>\n",
       "      <th>12</th>\n",
       "      <td>netspeak (Netspeak)</td>\n",
       "      <td>0.198712</td>\n",
       "      <td>Non-Political</td>\n",
       "    </tr>\n",
       "    <tr>\n",
       "      <th>13</th>\n",
       "      <td>pronoun (Pronouns)</td>\n",
       "      <td>0.107752</td>\n",
       "      <td>Non-Political</td>\n",
       "    </tr>\n",
       "    <tr>\n",
       "      <th>14</th>\n",
       "      <td>ppron (Personal Pronouns)</td>\n",
       "      <td>0.107752</td>\n",
       "      <td>Non-Political</td>\n",
       "    </tr>\n",
       "  </tbody>\n",
       "</table>\n",
       "</div>"
      ],
      "text/plain": [
       "                        Category  Percentage         Source\n",
       "0      function (Function Words)    0.188133      Political\n",
       "1             pronoun (Pronouns)    0.108209      Political\n",
       "2      ppron (Personal Pronouns)    0.108209      Political\n",
       "3                      you (You)    0.032741      Political\n",
       "4   informal (Informal Language)    0.198442      Political\n",
       "5            netspeak (Netspeak)    0.198442      Political\n",
       "6             article (Articles)    0.079925      Political\n",
       "7                assent (Assent)    0.010432      Political\n",
       "8                          i (I)    0.075468      Political\n",
       "9      function (Function Words)    0.188172  Non-Political\n",
       "10            article (Articles)    0.080420  Non-Political\n",
       "11  informal (Informal Language)    0.198712  Non-Political\n",
       "12           netspeak (Netspeak)    0.198712  Non-Political\n",
       "13            pronoun (Pronouns)    0.107752  Non-Political\n",
       "14     ppron (Personal Pronouns)    0.107752  Non-Political"
      ]
     },
     "execution_count": 50,
     "metadata": {},
     "output_type": "execute_result"
    }
   ],
   "source": [
    "combined_df = pd.concat([categories_df, bs_categories_df], ignore_index=True)\n",
    "combined_df.head(15)"
   ]
  },
  {
   "cell_type": "code",
   "execution_count": 51,
   "metadata": {},
   "outputs": [
    {
     "name": "stdout",
     "output_type": "stream",
     "text": [
      "2727\n"
     ]
    }
   ],
   "source": [
    "print(len(combined_df))"
   ]
  },
  {
   "cell_type": "code",
   "execution_count": 53,
   "metadata": {},
   "outputs": [
    {
     "data": {
      "image/png": "[encoded data removed]",
      "text/plain": [
       "<Figure size 432x288 with 1 Axes>"
      ]
     },
     "metadata": {
      "needs_background": "light"
     },
     "output_type": "display_data"
    }
   ],
   "source": [
    "ax = sns.barplot(x=\"Category\", y=\"Percentage\", hue=\"Source\", data=combined_df)\n",
    "\n",
    "ax.set_xticklabels(ax.get_xticklabels(), rotation=40, ha=\"right\")\n",
    "plt.tight_layout()\n",
    "plt.show()"
   ]
  },
  {
   "cell_type": "markdown",
   "metadata": {},
   "source": [
    "# LDA On Sample Submissions"
   ]
  },
  {
   "cell_type": "code",
   "execution_count": null,
   "metadata": {},
   "outputs": [],
   "source": []
  },
  {
   "cell_type": "markdown",
   "metadata": {},
   "source": [
    "# Log Odds Visualization?"
   ]
  }
 ],
 "metadata": {
  "kernelspec": {
   "display_name": "Python 3",
   "language": "python",
   "name": "python3"
  },
  "language_info": {
   "codemirror_mode": {
    "name": "ipython",
    "version": 3
   },
   "file_extension": ".py",
   "mimetype": "text/x-python",
   "name": "python",
   "nbconvert_exporter": "python",
   "pygments_lexer": "ipython3",
   "version": "3.7.4"
  }
 },
 "nbformat": 4,
 "nbformat_minor": 1
}