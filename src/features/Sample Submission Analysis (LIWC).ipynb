{
 "cells": [
  {
   "cell_type": "code",
   "execution_count": 1,
   "metadata": {},
   "outputs": [],
   "source": [
    "import sys\n",
    "import re\n",
    "import numpy as np\n",
    "import pandas as pd\n",
    "import seaborn as sns\n",
    "import liwc\n",
    "from matplotlib import pyplot as plt\n",
    "\n",
    "from collections import defaultdict, Counter\n",
    "\n",
    "\n",
    "sys.path.append('/home/kalkiek/projects/reddit-political-affiliation/')\n",
    "\n",
    "from src.features.collect_samples import get_non_political_samples, get_political_samples, get_bad_actor_samples\n",
    "from src.features.collect_user_features import read_in_non_pol_user_features, read_in_pol_user_features, read_in_bad_actor_features\n",
    "from src.features.political_affiliations.conglomerate_affiliations import get_all_political_users\n",
    "from src.features.bad_actors.bad_actors import read_in_bad_actor_usernames"
   ]
  },
  {
   "cell_type": "markdown",
   "metadata": {},
   "source": [
    "### Read in the sample submissions from each group "
   ]
  },
  {
   "cell_type": "code",
   "execution_count": 23,
   "metadata": {},
   "outputs": [
    {
     "name": "stdout",
     "output_type": "stream",
     "text": [
      "Grabbing random 10k sample from each data source\n"
     ]
    }
   ],
   "source": [
    "non_pol_df = get_non_political_samples()\n",
    "pol_df = get_political_samples()\n",
    "bad_actors_df = get_bad_actor_samples()\n",
    "\n",
    "# # We changed filter criteria after collecting some of this data\n",
    "# # Verify the political users and bad actors are up to date\n",
    "# pol_users = get_all_political_users()\n",
    "# bad_actors = get_bad_actors_90_days_1_flip_flop()\n",
    "\n",
    "# pol_df = pol_df[pol_df['username'].isin(pol_users)]\n",
    "# bad_actors_df = bad_actors_df[bad_actors_df['username'].isin(bad_actors)]\n",
    "\n",
    "\n",
    "def random_df_sample(df, n):\n",
    "    df_shuffled = df.sample(frac=1).reset_index(drop=True)\n",
    "    return df_shuffled.iloc[:n]\n",
    "    \n",
    "print(\"Grabbing random 10k sample from each data source\")\n",
    "pol_sample = random_df_sample(pol_df, n=20000)\n",
    "non_pol_sample = random_df_sample(non_pol_df, n=20000)\n",
    "bad_actor_sample = random_df_sample(bad_actors_df, n=20000)"
   ]
  },
  {
   "cell_type": "code",
   "execution_count": 24,
   "metadata": {},
   "outputs": [
    {
     "name": "stdout",
     "output_type": "stream",
     "text": [
      "Number of political words: 460988\n",
      "Number of non-political words: 652873\n",
      "Number of bad actor words: 1069940\n"
     ]
    }
   ],
   "source": [
    "pol_words = \" \".join(pol_sample['text'].tolist())\n",
    "non_pol_words = \" \".join(non_pol_sample['text'].tolist())\n",
    "bad_actor_words = \" \".join(bad_actor_sample['text'].tolist())\n",
    "\n",
    "print(\"Number of political words: {}\".format(len(pol_words.split(\" \"))))\n",
    "print(\"Number of non-political words: {}\".format(len(non_pol_words.split(\" \"))))\n",
    "print(\"Number of bad actor words: {}\".format(len(bad_actor_words.split(\" \"))))"
   ]
  },
  {
   "cell_type": "markdown",
   "metadata": {},
   "source": [
    "# LIWC Category Analysis"
   ]
  },
  {
   "cell_type": "code",
   "execution_count": 25,
   "metadata": {},
   "outputs": [],
   "source": [
    "parse, category_names = liwc.load_token_parser('/shared/0/resources/liwc/LIWC2015_English.dic')\n",
    "\n",
    "def tokenize(text):\n",
    "    for match in re.finditer(r'\\w+', text, re.UNICODE):\n",
    "        yield match.group(0)"
   ]
  },
  {
   "cell_type": "code",
   "execution_count": 26,
   "metadata": {},
   "outputs": [
    {
     "name": "stdout",
     "output_type": "stream",
     "text": [
      "function (Function Words) 374967\n",
      "pronoun (Pronouns) 215670\n",
      "ppron (Personal Pronouns) 215670\n",
      "you (You) 65256\n",
      "informal (Informal Language) 395513\n",
      "netspeak (Netspeak) 395513\n",
      "article (Articles) 159297\n",
      "assent (Assent) 20792\n",
      "i (I) 150414\n"
     ]
    }
   ],
   "source": [
    "pol_counts = Counter(category for token in pol_words for category in parse(token))\n",
    "for k, v in pol_counts.items():\n",
    "    print(k, v)"
   ]
  },
  {
   "cell_type": "code",
   "execution_count": 27,
   "metadata": {},
   "outputs": [
    {
     "name": "stdout",
     "output_type": "stream",
     "text": [
      "function (Function Words) 539644\n",
      "article (Articles) 230630\n",
      "informal (Informal Language) 569869\n",
      "netspeak (Netspeak) 569869\n",
      "pronoun (Pronouns) 309014\n",
      "ppron (Personal Pronouns) 309014\n",
      "you (You) 94010\n",
      "i (I) 215004\n",
      "assent (Assent) 30762\n"
     ]
    }
   ],
   "source": [
    "non_pol_counts = Counter(category for token in non_pol_words for category in parse(token))\n",
    "for k, v in non_pol_counts.items():\n",
    "    print(k, v)"
   ]
  },
  {
   "cell_type": "code",
   "execution_count": 28,
   "metadata": {},
   "outputs": [
    {
     "name": "stdout",
     "output_type": "stream",
     "text": [
      "informal (Informal Language) 1142806\n",
      "netspeak (Netspeak) 1142806\n",
      "function (Function Words) 1009514\n",
      "article (Articles) 435233\n",
      "pronoun (Pronouns) 574281\n",
      "ppron (Personal Pronouns) 574281\n",
      "i (I) 388441\n",
      "you (You) 185840\n",
      "assent (Assent) 51625\n"
     ]
    }
   ],
   "source": [
    "bad_actor_counts = Counter(category for token in bad_actor_words for category in parse(token))\n",
    "for k, v in bad_actor_counts.items():\n",
    "    print(k, v)"
   ]
  },
  {
   "cell_type": "markdown",
   "metadata": {},
   "source": [
    "## Categories as Percentages"
   ]
  },
  {
   "cell_type": "code",
   "execution_count": 32,
   "metadata": {},
   "outputs": [
    {
     "data": {
      "text/html": [
       "<div>\n",
       "<style scoped>\n",
       "    .dataframe tbody tr th:only-of-type {\n",
       "        vertical-align: middle;\n",
       "    }\n",
       "\n",
       "    .dataframe tbody tr th {\n",
       "        vertical-align: top;\n",
       "    }\n",
       "\n",
       "    .dataframe thead th {\n",
       "        text-align: right;\n",
       "    }\n",
       "</style>\n",
       "<table border=\"1\" class=\"dataframe\">\n",
       "  <thead>\n",
       "    <tr style=\"text-align: right;\">\n",
       "      <th></th>\n",
       "      <th>Category</th>\n",
       "      <th>Percentage</th>\n",
       "      <th>Source</th>\n",
       "    </tr>\n",
       "  </thead>\n",
       "  <tbody>\n",
       "    <tr>\n",
       "      <th>0</th>\n",
       "      <td>function (Function Words)</td>\n",
       "      <td>0.188133</td>\n",
       "      <td>Political</td>\n",
       "    </tr>\n",
       "    <tr>\n",
       "      <th>1</th>\n",
       "      <td>pronoun (Pronouns)</td>\n",
       "      <td>0.108209</td>\n",
       "      <td>Political</td>\n",
       "    </tr>\n",
       "    <tr>\n",
       "      <th>2</th>\n",
       "      <td>ppron (Personal Pronouns)</td>\n",
       "      <td>0.108209</td>\n",
       "      <td>Political</td>\n",
       "    </tr>\n",
       "    <tr>\n",
       "      <th>3</th>\n",
       "      <td>you (You)</td>\n",
       "      <td>0.032741</td>\n",
       "      <td>Political</td>\n",
       "    </tr>\n",
       "    <tr>\n",
       "      <th>4</th>\n",
       "      <td>informal (Informal Language)</td>\n",
       "      <td>0.198442</td>\n",
       "      <td>Political</td>\n",
       "    </tr>\n",
       "    <tr>\n",
       "      <th>5</th>\n",
       "      <td>netspeak (Netspeak)</td>\n",
       "      <td>0.198442</td>\n",
       "      <td>Political</td>\n",
       "    </tr>\n",
       "    <tr>\n",
       "      <th>6</th>\n",
       "      <td>article (Articles)</td>\n",
       "      <td>0.079925</td>\n",
       "      <td>Political</td>\n",
       "    </tr>\n",
       "    <tr>\n",
       "      <th>7</th>\n",
       "      <td>assent (Assent)</td>\n",
       "      <td>0.010432</td>\n",
       "      <td>Political</td>\n",
       "    </tr>\n",
       "    <tr>\n",
       "      <th>8</th>\n",
       "      <td>i (I)</td>\n",
       "      <td>0.075468</td>\n",
       "      <td>Political</td>\n",
       "    </tr>\n",
       "    <tr>\n",
       "      <th>9</th>\n",
       "      <td>function (Function Words)</td>\n",
       "      <td>0.188172</td>\n",
       "      <td>Non-Political</td>\n",
       "    </tr>\n",
       "    <tr>\n",
       "      <th>10</th>\n",
       "      <td>article (Articles)</td>\n",
       "      <td>0.080420</td>\n",
       "      <td>Non-Political</td>\n",
       "    </tr>\n",
       "    <tr>\n",
       "      <th>11</th>\n",
       "      <td>informal (Informal Language)</td>\n",
       "      <td>0.198712</td>\n",
       "      <td>Non-Political</td>\n",
       "    </tr>\n",
       "    <tr>\n",
       "      <th>12</th>\n",
       "      <td>netspeak (Netspeak)</td>\n",
       "      <td>0.198712</td>\n",
       "      <td>Non-Political</td>\n",
       "    </tr>\n",
       "    <tr>\n",
       "      <th>13</th>\n",
       "      <td>pronoun (Pronouns)</td>\n",
       "      <td>0.107752</td>\n",
       "      <td>Non-Political</td>\n",
       "    </tr>\n",
       "    <tr>\n",
       "      <th>14</th>\n",
       "      <td>ppron (Personal Pronouns)</td>\n",
       "      <td>0.107752</td>\n",
       "      <td>Non-Political</td>\n",
       "    </tr>\n",
       "    <tr>\n",
       "      <th>15</th>\n",
       "      <td>you (You)</td>\n",
       "      <td>0.032781</td>\n",
       "      <td>Non-Political</td>\n",
       "    </tr>\n",
       "    <tr>\n",
       "      <th>16</th>\n",
       "      <td>i (I)</td>\n",
       "      <td>0.074971</td>\n",
       "      <td>Non-Political</td>\n",
       "    </tr>\n",
       "    <tr>\n",
       "      <th>17</th>\n",
       "      <td>assent (Assent)</td>\n",
       "      <td>0.010727</td>\n",
       "      <td>Non-Political</td>\n",
       "    </tr>\n",
       "    <tr>\n",
       "      <th>18</th>\n",
       "      <td>informal (Informal Language)</td>\n",
       "      <td>0.207601</td>\n",
       "      <td>Bad Actors</td>\n",
       "    </tr>\n",
       "    <tr>\n",
       "      <th>19</th>\n",
       "      <td>netspeak (Netspeak)</td>\n",
       "      <td>0.207601</td>\n",
       "      <td>Bad Actors</td>\n",
       "    </tr>\n",
       "  </tbody>\n",
       "</table>\n",
       "</div>"
      ],
      "text/plain": [
       "                        Category  Percentage         Source\n",
       "0      function (Function Words)    0.188133      Political\n",
       "1             pronoun (Pronouns)    0.108209      Political\n",
       "2      ppron (Personal Pronouns)    0.108209      Political\n",
       "3                      you (You)    0.032741      Political\n",
       "4   informal (Informal Language)    0.198442      Political\n",
       "5            netspeak (Netspeak)    0.198442      Political\n",
       "6             article (Articles)    0.079925      Political\n",
       "7                assent (Assent)    0.010432      Political\n",
       "8                          i (I)    0.075468      Political\n",
       "9      function (Function Words)    0.188172  Non-Political\n",
       "10            article (Articles)    0.080420  Non-Political\n",
       "11  informal (Informal Language)    0.198712  Non-Political\n",
       "12           netspeak (Netspeak)    0.198712  Non-Political\n",
       "13            pronoun (Pronouns)    0.107752  Non-Political\n",
       "14     ppron (Personal Pronouns)    0.107752  Non-Political\n",
       "15                     you (You)    0.032781  Non-Political\n",
       "16                         i (I)    0.074971  Non-Political\n",
       "17               assent (Assent)    0.010727  Non-Political\n",
       "18  informal (Informal Language)    0.207601     Bad Actors\n",
       "19           netspeak (Netspeak)    0.207601     Bad Actors"
      ]
     },
     "execution_count": 32,
     "metadata": {},
     "output_type": "execute_result"
    }
   ],
   "source": [
    "total_pol_words = np.sum(list(pol_counts.values()))\n",
    "total_non_pol_words = np.sum(list(non_pol_counts.values()))\n",
    "total_bad_actor_words = np.sum(list(bad_actor_counts.values()))\n",
    "\n",
    "def compute_category_percentages(total_words, category_counts, source):\n",
    "    rows = []\n",
    "    for category, count in category_counts.items():\n",
    "        entry = {'Category': category, 'Percentage': count / total_words, 'Source': source}\n",
    "        rows.append(entry)\n",
    "    return rows\n",
    "\n",
    "rows = []\n",
    "rows.extend(compute_category_percentages(total_pol_words, pol_counts, 'Political'))\n",
    "rows.extend(compute_category_percentages(total_non_pol_words, non_pol_counts, 'Non-Political'))\n",
    "rows.extend(compute_category_percentages(total_bad_actor_words, bad_actor_counts, 'Bad Actors'))\n",
    "\n",
    "categories_df = pd.DataFrame(rows, columns=['Category', 'Percentage', 'Source'])\n",
    "categories_df.head()"
   ]
  },
  {
   "cell_type": "code",
   "execution_count": 33,
   "metadata": {},
   "outputs": [
    {
     "data": {
      "image/png": "[encoded data removed]",
      "text/plain": [
       "<Figure size 432x288 with 1 Axes>"
      ]
     },
     "metadata": {
      "needs_background": "light"
     },
     "output_type": "display_data"
    }
   ],
   "source": [
    "ax = sns.barplot(x=\"Category\", y=\"Percentage\", hue=\"Source\", data=categories_df)\n",
    "\n",
    "ax.set_xticklabels(ax.get_xticklabels(), rotation=40, ha=\"right\")\n",
    "plt.tight_layout()\n",
    "plt.show()"
   ]
  },
  {
   "cell_type": "markdown",
   "metadata": {},
   "source": [
    "### Bootstrap Confidence Intervals"
   ]
  },
  {
   "cell_type": "code",
   "execution_count": 49,
   "metadata": {},
   "outputs": [
    {
     "data": {
      "text/html": [
       "<div>\n",
       "<style scoped>\n",
       "    .dataframe tbody tr th:only-of-type {\n",
       "        vertical-align: middle;\n",
       "    }\n",
       "\n",
       "    .dataframe tbody tr th {\n",
       "        vertical-align: top;\n",
       "    }\n",
       "\n",
       "    .dataframe thead th {\n",
       "        text-align: right;\n",
       "    }\n",
       "</style>\n",
       "<table border=\"1\" class=\"dataframe\">\n",
       "  <thead>\n",
       "    <tr style=\"text-align: right;\">\n",
       "      <th></th>\n",
       "      <th>Category</th>\n",
       "      <th>Percentage</th>\n",
       "      <th>Source</th>\n",
       "    </tr>\n",
       "  </thead>\n",
       "  <tbody>\n",
       "    <tr>\n",
       "      <th>0</th>\n",
       "      <td>informal (Informal Language)</td>\n",
       "      <td>0.198387</td>\n",
       "      <td>Political</td>\n",
       "    </tr>\n",
       "    <tr>\n",
       "      <th>1</th>\n",
       "      <td>netspeak (Netspeak)</td>\n",
       "      <td>0.198387</td>\n",
       "      <td>Political</td>\n",
       "    </tr>\n",
       "    <tr>\n",
       "      <th>2</th>\n",
       "      <td>function (Function Words)</td>\n",
       "      <td>0.187876</td>\n",
       "      <td>Political</td>\n",
       "    </tr>\n",
       "    <tr>\n",
       "      <th>3</th>\n",
       "      <td>pronoun (Pronouns)</td>\n",
       "      <td>0.108545</td>\n",
       "      <td>Political</td>\n",
       "    </tr>\n",
       "    <tr>\n",
       "      <th>4</th>\n",
       "      <td>ppron (Personal Pronouns)</td>\n",
       "      <td>0.108545</td>\n",
       "      <td>Political</td>\n",
       "    </tr>\n",
       "  </tbody>\n",
       "</table>\n",
       "</div>"
      ],
      "text/plain": [
       "                       Category  Percentage     Source\n",
       "0  informal (Informal Language)    0.198387  Political\n",
       "1           netspeak (Netspeak)    0.198387  Political\n",
       "2     function (Function Words)    0.187876  Political\n",
       "3            pronoun (Pronouns)    0.108545  Political\n",
       "4     ppron (Personal Pronouns)    0.108545  Political"
      ]
     },
     "execution_count": 49,
     "metadata": {},
     "output_type": "execute_result"
    }
   ],
   "source": [
    "n_iters = 100\n",
    "sample_size = 5000 \n",
    "\n",
    "p_bootstrap_samples, np_bootstrap_samples, ba_bootstrap_samples = [], [], []\n",
    "\n",
    "rows = []\n",
    "\n",
    "for i in range(n_iters):\n",
    "    \n",
    "    pol_sample = random_df_sample(pol_df, n=sample_size)\n",
    "    pol_sample_words = \" \".join(pol_sample['text'].tolist())\n",
    "    pol_sample_counts = Counter(category for token in pol_sample_words for category in parse(token))\n",
    "    total_pol_sample_words = np.sum(list(pol_sample_counts.values()))\n",
    "    \n",
    "    non_pol_sample = random_df_sample(non_pol_df, n=sample_size)\n",
    "    non_pol_sample_words = \" \".join(non_pol_sample['text'].tolist())\n",
    "    non_pol_sample_counts = Counter(category for token in non_pol_sample_words for category in parse(token))\n",
    "    total_non_pol_sample_words = np.sum(list(non_pol_sample_counts.values()))\n",
    "    \n",
    "    bad_actors_sample = random_df_sample(bad_actors_df, n=sample_size)\n",
    "    bad_actors_sample_words = \" \".join(bad_actors_sample['text'].tolist())\n",
    "    bad_actors_sample_counts = Counter(category for token in bad_actors_sample_words for category in parse(token))\n",
    "    total_bad_actors_sample_words = np.sum(list(bad_actors_sample_counts.values()))\n",
    "    \n",
    "    rows.extend(compute_category_percentages(total_pol_sample_words, pol_sample_counts, 'Political'))\n",
    "    rows.extend(compute_category_percentages(total_non_pol_sample_words, non_pol_sample_counts, 'Non-Political'))\n",
    "    rows.extend(compute_category_percentages(total_bad_actors_sample_words, bad_actors_sample_counts, 'Bad Actors'))\n",
    "    \n",
    "    \n",
    "bs_categories_df = pd.DataFrame(rows, columns=['Category', 'Percentage', 'Source'])\n",
    "bs_categories_df.head()"
   ]
  },
  {
   "cell_type": "code",
   "execution_count": 50,
   "metadata": {},
   "outputs": [
    {
     "data": {
      "text/html": [
       "<div>\n",
       "<style scoped>\n",
       "    .dataframe tbody tr th:only-of-type {\n",
       "        vertical-align: middle;\n",
       "    }\n",
       "\n",
       "    .dataframe tbody tr th {\n",
       "        vertical-align: top;\n",
       "    }\n",
       "\n",
       "    .dataframe thead th {\n",
       "        text-align: right;\n",
       "    }\n",
       "</style>\n",
       "<table border=\"1\" class=\"dataframe\">\n",
       "  <thead>\n",
       "    <tr style=\"text-align: right;\">\n",
       "      <th></th>\n",
       "      <th>Category</th>\n",
       "      <th>Percentage</th>\n",
       "      <th>Source</th>\n",
       "    </tr>\n",
       "  </thead>\n",
       "  <tbody>\n",
       "    <tr>\n",
       "      <th>0</th>\n",
       "      <td>function (Function Words)</td>\n",
       "      <td>0.188133</td>\n",
       "      <td>Political</td>\n",
       "    </tr>\n",
       "    <tr>\n",
       "      <th>1</th>\n",
       "      <td>pronoun (Pronouns)</td>\n",
       "      <td>0.108209</td>\n",
       "      <td>Political</td>\n",
       "    </tr>\n",
       "    <tr>\n",
       "      <th>2</th>\n",
       "      <td>ppron (Personal Pronouns)</td>\n",
       "      <td>0.108209</td>\n",
       "      <td>Political</td>\n",
       "    </tr>\n",
       "    <tr>\n",
       "      <th>3</th>\n",
       "      <td>you (You)</td>\n",
       "      <td>0.032741</td>\n",
       "      <td>Political</td>\n",
       "    </tr>\n",
       "    <tr>\n",
       "      <th>4</th>\n",
       "      <td>informal (Informal Language)</td>\n",
       "      <td>0.198442</td>\n",
       "      <td>Political</td>\n",
       "    </tr>\n",
       "    <tr>\n",
       "      <th>5</th>\n",
       "      <td>netspeak (Netspeak)</td>\n",
       "      <td>0.198442</td>\n",
       "      <td>Political</td>\n",
       "    </tr>\n",
       "    <tr>\n",
       "      <th>6</th>\n",
       "      <td>article (Articles)</td>\n",
       "      <td>0.079925</td>\n",
       "      <td>Political</td>\n",
       "    </tr>\n",
       "    <tr>\n",
       "      <th>7</th>\n",
       "      <td>assent (Assent)</td>\n",
       "      <td>0.010432</td>\n",
       "      <td>Political</td>\n",
       "    </tr>\n",
       "    <tr>\n",
       "      <th>8</th>\n",
       "      <td>i (I)</td>\n",
       "      <td>0.075468</td>\n",
       "      <td>Political</td>\n",
       "    </tr>\n",
       "    <tr>\n",
       "      <th>9</th>\n",
       "      <td>function (Function Words)</td>\n",
       "      <td>0.188172</td>\n",
       "      <td>Non-Political</td>\n",
       "    </tr>\n",
       "    <tr>\n",
       "      <th>10</th>\n",
       "      <td>article (Articles)</td>\n",
       "      <td>0.080420</td>\n",
       "      <td>Non-Political</td>\n",
       "    </tr>\n",
       "    <tr>\n",
       "      <th>11</th>\n",
       "      <td>informal (Informal Language)</td>\n",
       "      <td>0.198712</td>\n",
       "      <td>Non-Political</td>\n",
       "    </tr>\n",
       "    <tr>\n",
       "      <th>12</th>\n",
       "      <td>netspeak (Netspeak)</td>\n",
       "      <td>0.198712</td>\n",
       "      <td>Non-Political</td>\n",
       "    </tr>\n",
       "    <tr>\n",
       "      <th>13</th>\n",
       "      <td>pronoun (Pronouns)</td>\n",
       "      <td>0.107752</td>\n",
       "      <td>Non-Political</td>\n",
       "    </tr>\n",
       "    <tr>\n",
       "      <th>14</th>\n",
       "      <td>ppron (Personal Pronouns)</td>\n",
       "      <td>0.107752</td>\n",
       "      <td>Non-Political</td>\n",
       "    </tr>\n",
       "  </tbody>\n",
       "</table>\n",
       "</div>"
      ],
      "text/plain": [
       "                        Category  Percentage         Source\n",
       "0      function (Function Words)    0.188133      Political\n",
       "1             pronoun (Pronouns)    0.108209      Political\n",
       "2      ppron (Personal Pronouns)    0.108209      Political\n",
       "3                      you (You)    0.032741      Political\n",
       "4   informal (Informal Language)    0.198442      Political\n",
       "5            netspeak (Netspeak)    0.198442      Political\n",
       "6             article (Articles)    0.079925      Political\n",
       "7                assent (Assent)    0.010432      Political\n",
       "8                          i (I)    0.075468      Political\n",
       "9      function (Function Words)    0.188172  Non-Political\n",
       "10            article (Articles)    0.080420  Non-Political\n",
       "11  informal (Informal Language)    0.198712  Non-Political\n",
       "12           netspeak (Netspeak)    0.198712  Non-Political\n",
       "13            pronoun (Pronouns)    0.107752  Non-Political\n",
       "14     ppron (Personal Pronouns)    0.107752  Non-Political"
      ]
     },
     "execution_count": 50,
     "metadata": {},
     "output_type": "execute_result"
    }
   ],
   "source": [
    "combined_df = pd.concat([categories_df, bs_categories_df], ignore_index=True)\n",
    "combined_df.head(15)"
   ]
  },
  {
   "cell_type": "code",
   "execution_count": 51,
   "metadata": {},
   "outputs": [
    {
     "name": "stdout",
     "output_type": "stream",
     "text": [
      "2727\n"
     ]
    }
   ],
   "source": [
    "print(len(combined_df))"
   ]
  },
  {
   "cell_type": "code",
   "execution_count": 53,
   "metadata": {},
   "outputs": [
    {
     "data": {
      "image/png": "[encoded data removed]",
      "text/plain": [
       "<Figure size 432x288 with 1 Axes>"
      ]
     },
     "metadata": {
      "needs_background": "light"
     },
     "output_type": "display_data"
    }
   ],
   "source": [
    "ax = sns.barplot(x=\"Category\", y=\"Percentage\", hue=\"Source\", data=combined_df)\n",
    "\n",
    "ax.set_xticklabels(ax.get_xticklabels(), rotation=40, ha=\"right\")\n",
    "plt.tight_layout()\n",
    "plt.show()"
   ]
  },
  {
   "cell_type": "markdown",
   "metadata": {},
   "source": [
    "# LDA On Sample Submissions"
   ]
  },
  {
   "cell_type": "code",
   "execution_count": null,
   "metadata": {},
   "outputs": [],
   "source": []
  },
  {
   "cell_type": "markdown",
   "metadata": {},
   "source": [
    "# Log Odds Visualization?"
   ]
  }
 ],
 "metadata": {
  "kernelspec": {
   "display_name": "Python 3",
   "language": "python",
   "name": "python3"
  },
  "language_info": {
   "codemirror_mode": {
    "name": "ipython",
    "version": 3
   },
   "file_extension": ".py",
   "mimetype": "text/x-python",
   "name": "python",
   "nbconvert_exporter": "python",
   "pygments_lexer": "ipython3",
   "version": "3.7.4"
  }
 },
 "nbformat": 4,
 "nbformat_minor": 1
}
