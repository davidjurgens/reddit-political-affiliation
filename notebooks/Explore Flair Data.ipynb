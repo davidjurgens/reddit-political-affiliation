{
 "cells": [
  {
   "cell_type": "markdown",
   "metadata": {},
   "source": [
    "# Flair Data Exploration"
   ]
  },
  {
   "cell_type": "code",
   "execution_count": null,
   "metadata": {},
   "outputs": [],
   "source": [
    "import os\n",
    "import csv\n",
    "import ast\n",
    "\n",
    "\n",
    "data_dir = \"/home/kalkiek/projects/reddit-political-affiliation/data/processed/\"\n",
    "\n",
    "def get_dir_filenames(dir_name): \n",
    "    for directory, _, files in os.walk(dir_name):\n",
    "        for fname in files:\n",
    "            yield directory + fname\n",
    "    \n",
    "    \n",
    "def read_flair_file(fname):\n",
    "    with open(fname, 'r') as f:\n",
    "        reader = csv.reader(f, delimiter=\"\\t\")\n",
    "        for row in reader:\n",
    "            username, flair_data = row[0], ast.literal_eval(row[1])\n",
    "            for subreddit, flairs in flair_data.items():\n",
    "                print(\"Username %s Subreddit %s Flairs %s\" % (username, subreddit, flairs))\n",
    "                \n",
    "files = list(get_dir_filenames(data_dir))\n",
    "read_flair_file(files[0])"
   ]
  }
 ],
 "metadata": {
  "kernelspec": {
   "display_name": "Python 3",
   "language": "python",
   "name": "python3"
  },
  "language_info": {
   "codemirror_mode": {
    "name": "ipython",
    "version": 3
   },
   "file_extension": ".py",
   "mimetype": "text/x-python",
   "name": "python",
   "nbconvert_exporter": "python",
   "pygments_lexer": "ipython3",
   "version": "3.7.4"
  }
 },
 "nbformat": 4,
 "nbformat_minor": 1
}
