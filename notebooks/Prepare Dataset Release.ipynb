{
 "cells": [
  {
   "cell_type": "markdown",
   "metadata": {},
   "source": [
    "# Dataset Release"
   ]
  },
  {
   "cell_type": "code",
   "execution_count": 2,
   "metadata": {},
   "outputs": [],
   "source": [
    "import numpy as np \n",
    "import pandas as pd\n",
    "\n",
    "from glob import glob"
   ]
  },
  {
   "cell_type": "markdown",
   "metadata": {},
   "source": [
    "## Interaction Comment IDs\n",
    "\n",
    "Read in the comment ids"
   ]
  },
  {
   "cell_type": "code",
   "execution_count": 5,
   "metadata": {},
   "outputs": [
    {
     "data": {
      "text/plain": [
       "275268824"
      ]
     },
     "execution_count": 5,
     "metadata": {},
     "output_type": "execute_result"
    }
   ],
   "source": [
    "fp = '/shared/0/projects/reddit-political-affiliation/data/interactions/all_comments_filtered.tsv'\n",
    "\n",
    "\n",
    "comment_ids = []\n",
    "\n",
    "with open(fp, 'r') as f:\n",
    "    for line in f:\n",
    "        comment_id = line.split('\\t')[0]\n",
    "        comment_ids.append(comment_id)\n",
    "        \n",
    "len(comment_ids)"
   ]
  },
  {
   "cell_type": "markdown",
   "metadata": {},
   "source": [
    "Output them to a file"
   ]
  },
  {
   "cell_type": "code",
   "execution_count": 7,
   "metadata": {},
   "outputs": [],
   "source": [
    "output_file = '/shared/0/projects/reddit-political-affiliation/data/interactions/all_comment_ids.tsv'\n",
    "\n",
    "with open(output_file, 'w') as out:\n",
    "    for comment_id in comment_ids:\n",
    "        out.write(\"{}\".format(comment_id))     "
   ]
  },
  {
   "cell_type": "markdown",
   "metadata": {},
   "source": [
    "Compress the file for release"
   ]
  },
  {
   "cell_type": "markdown",
   "metadata": {},
   "source": [
    "## Comment Political Afffiliation Text"
   ]
  },
  {
   "cell_type": "code",
   "execution_count": 8,
   "metadata": {},
   "outputs": [
    {
     "data": {
      "text/plain": [
       "['/shared/0/projects/reddit-political-affiliation/data/comment-affiliations/silver/RC_2010-06.tsv',\n",
       " '/shared/0/projects/reddit-political-affiliation/data/comment-affiliations/silver/RS_2019-11.tsv',\n",
       " '/shared/0/projects/reddit-political-affiliation/data/comment-affiliations/silver/RC_2011-09.tsv']"
      ]
     },
     "execution_count": 8,
     "metadata": {},
     "output_type": "execute_result"
    }
   ],
   "source": [
    "comment_pol_files = glob('/shared/0/projects/reddit-political-affiliation/data/comment-affiliations/silver/*.tsv')"
   ]
  },
  {
   "cell_type": "code",
   "execution_count": 16,
   "metadata": {},
   "outputs": [
    {
     "data": {
      "text/plain": [
       "238505"
      ]
     },
     "execution_count": 16,
     "metadata": {},
     "output_type": "execute_result"
    }
   ],
   "source": [
    "metadata = []\n",
    "\n",
    "for comment_pol_file in comment_pol_files:\n",
    "    with open(comment_pol_file, 'r') as f:\n",
    "        for line in f:\n",
    "            if line.strip():\n",
    "                user, politics, match_type, subreddit, created, text = line.split('\\t')\n",
    "                entry = {'politics': politics, 'subreddit': subreddit, 'created': created, 'text': text}\n",
    "                metadata.append(entry)\n",
    "\n",
    "len(metadata)"
   ]
  },
  {
   "cell_type": "code",
   "execution_count": 18,
   "metadata": {},
   "outputs": [
    {
     "data": {
      "text/html": [
       "<div>\n",
       "<style scoped>\n",
       "    .dataframe tbody tr th:only-of-type {\n",
       "        vertical-align: middle;\n",
       "    }\n",
       "\n",
       "    .dataframe tbody tr th {\n",
       "        vertical-align: top;\n",
       "    }\n",
       "\n",
       "    .dataframe thead th {\n",
       "        text-align: right;\n",
       "    }\n",
       "</style>\n",
       "<table border=\"1\" class=\"dataframe\">\n",
       "  <thead>\n",
       "    <tr style=\"text-align: right;\">\n",
       "      <th></th>\n",
       "      <th>politics</th>\n",
       "      <th>subreddit</th>\n",
       "      <th>created</th>\n",
       "      <th>text</th>\n",
       "    </tr>\n",
       "  </thead>\n",
       "  <tbody>\n",
       "    <tr>\n",
       "      <th>0</th>\n",
       "      <td>Democrat</td>\n",
       "      <td>politics</td>\n",
       "      <td>1275353102</td>\n",
       "      <td>i didn't vote for obama to undo what bush did....</td>\n",
       "    </tr>\n",
       "    <tr>\n",
       "      <th>1</th>\n",
       "      <td>Democrat</td>\n",
       "      <td>politics</td>\n",
       "      <td>1275419068</td>\n",
       "      <td>i'm a liberal and i agree that afghanistan is/...</td>\n",
       "    </tr>\n",
       "    <tr>\n",
       "      <th>2</th>\n",
       "      <td>Democrat</td>\n",
       "      <td>Libertarian</td>\n",
       "      <td>1275577783</td>\n",
       "      <td>i voted for obama because his policies are mor...</td>\n",
       "    </tr>\n",
       "    <tr>\n",
       "      <th>3</th>\n",
       "      <td>Republican</td>\n",
       "      <td>canada</td>\n",
       "      <td>1275581012</td>\n",
       "      <td>i vote conservative because they understand ec...</td>\n",
       "    </tr>\n",
       "    <tr>\n",
       "      <th>4</th>\n",
       "      <td>Democrat</td>\n",
       "      <td>politics</td>\n",
       "      <td>1275838185</td>\n",
       "      <td>please. you know, i hate republicans as much a...</td>\n",
       "    </tr>\n",
       "  </tbody>\n",
       "</table>\n",
       "</div>"
      ],
      "text/plain": [
       "     politics    subreddit     created  \\\n",
       "0    Democrat     politics  1275353102   \n",
       "1    Democrat     politics  1275419068   \n",
       "2    Democrat  Libertarian  1275577783   \n",
       "3  Republican       canada  1275581012   \n",
       "4    Democrat     politics  1275838185   \n",
       "\n",
       "                                                text  \n",
       "0  i didn't vote for obama to undo what bush did....  \n",
       "1  i'm a liberal and i agree that afghanistan is/...  \n",
       "2  i voted for obama because his policies are mor...  \n",
       "3  i vote conservative because they understand ec...  \n",
       "4  please. you know, i hate republicans as much a...  "
      ]
     },
     "execution_count": 18,
     "metadata": {},
     "output_type": "execute_result"
    }
   ],
   "source": [
    "metadata_df = pd.DataFrame(metadata)\n",
    "metadata_df.head()"
   ]
  },
  {
   "cell_type": "code",
   "execution_count": 19,
   "metadata": {},
   "outputs": [],
   "source": [
    "out_file = '/shared/0/projects/reddit-political-affiliation/data/comment-affiliations/all_comments.tsv'\n",
    "\n",
    "metadata_df.to_csv(out_file, sep='\\t', index=False)"
   ]
  }
 ],
 "metadata": {
  "kernelspec": {
   "display_name": "Python 3",
   "language": "python",
   "name": "python3"
  },
  "language_info": {
   "codemirror_mode": {
    "name": "ipython",
    "version": 3
   },
   "file_extension": ".py",
   "mimetype": "text/x-python",
   "name": "python",
   "nbconvert_exporter": "python",
   "pygments_lexer": "ipython3",
   "version": "3.8.5"
  }
 },
 "nbformat": 4,
 "nbformat_minor": 1
}